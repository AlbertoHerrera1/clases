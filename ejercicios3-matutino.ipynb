{
 "cells": [
  {
   "cell_type": "markdown",
   "metadata": {},
   "source": [
    "# Ejercicio 1\n",
    "Escribir una función que reciba por parámetro el radio y la altura de un cilindro y regresa el volumen de un cilindro con esas características. El volumen de un cilindro se calcula como: (pi * radio^2) * altura"
   ]
  },
  {
   "cell_type": "markdown",
   "metadata": {},
   "source": [
    "# Ejercicio 2\n",
    "\n",
    "Escribir una función que reciba una palabra y que devuelva un verdadero si esa palabra es palíndromo, caso contrario, regresa falso.\n",
    "\n",
    "Consejo: Ignora los espacios en blanco"
   ]
  },
  {
   "cell_type": "markdown",
   "metadata": {},
   "source": [
    "# Ejercicio 3\n",
    "\n",
    "Escribir una función que reciba un número y devuelva un verdadero si ese número es capicúa (el palíndromo de los números)"
   ]
  },
  {
   "cell_type": "markdown",
   "metadata": {},
   "source": [
    "# Ejercicio 4\n",
    "\n",
    "Escribir una función que reciba un número indeterminado de palabras o números y devuelva una lista con verdaderos o falsos según si las entradas son palíndromos (o capicúas)\n",
    "\n",
    "Ejemplo:\n",
    " - Entradas: \"Hola\", 121, \"Anita lava la tina\"\n",
    " - Salida: [False, True, True]"
   ]
  },
  {
   "cell_type": "markdown",
   "metadata": {},
   "source": [
    "# Ejercicio 5\n",
    "\n",
    "Escribir una función que reciba una lista de números y devuelva una nueva lista con sólo los números que inician con 2.\n",
    "\n",
    "Reglas:\n",
    " - Usar filter"
   ]
  },
  {
   "cell_type": "markdown",
   "metadata": {},
   "source": [
    "# Ejercicio 6 \n",
    "\n",
    "Escribir una función que reciba un diccionario como se muestra a continuación y devuelve un diccionario con los promedios de los alumnos\n",
    "\n",
    "Reglas:\n",
    " - Usar reduce"
   ]
  },
  {
   "cell_type": "code",
   "execution_count": 1,
   "metadata": {},
   "outputs": [],
   "source": [
    "diccionario = {\n",
    "    \"alumno1\": [8,9,8,9,8,9,8],\n",
    "    \"alumno2\": [7,8,6,9,7,8,9],\n",
    "    \"alumno3\": [5,6,7,8,9,7,8],\n",
    "    \"alumno4\": [7,8,6,7,5,9,10]\n",
    "}"
   ]
  },
  {
   "cell_type": "markdown",
   "metadata": {},
   "source": [
    "# Ejercicio 7\n",
    "\n",
    "Escribir una función que reciba una cantidad indeterminada de argumentos con nombre y devuelva un diccionario cuyas claves sean los mísmo nombres de los argumentos siguiendo las siguientes reglas:\n",
    "\n",
    " - Si el valor del argumento es una cadena de caracteres, transformar dicha cadena a mayúsculas.\n",
    " - Si el valor del argumento es un número, transformar dicho número a una cadena de caracteres.\n",
    " - Si el vlaor del argumento es una tupla, transformarla a una lista.\n",
    " - Si el valor del argumento es un diccionario, crear una lista con sólo los valores del diccionario, no las claves.\n",
    "\n",
    "Ejemplo:\n",
    " - Entrada: arg1=1, arg2={\"edad\": 28}, arg3=(1,2,3)\n",
    " - Salida: {\"arg1\":\"1\", \"arg2\":28, \"arg3\":[1,2,3]}"
   ]
  },
  {
   "cell_type": "markdown",
   "metadata": {},
   "source": [
    "# Ejercicio 7\n",
    "\n",
    "Escribir una función que reciba una frase y un caracter como argumento opcional, cuyo valor por defecto es el espacio vacío y devuelva una lista cuyos elementos sea las particiones de la frase según el caracter.\n",
    "\n",
    "Ejemplo:\n",
    " - Entrada: \"Hola mundo\"\n",
    " - Salida: [\"Hola\", \"mundo\"]\n",
    "\n",
    "Reglas:\n",
    "- No usar la función split"
   ]
  }
 ],
 "metadata": {
  "interpreter": {
   "hash": "348d93889cdc789e6cbe038b88f22de38d4107789a7ffcd22b7fa3c799b7a993"
  },
  "kernelspec": {
   "display_name": "Python 3.9.7 ('base')",
   "language": "python",
   "name": "python3"
  },
  "language_info": {
   "codemirror_mode": {
    "name": "ipython",
    "version": 3
   },
   "file_extension": ".py",
   "mimetype": "text/x-python",
   "name": "python",
   "nbconvert_exporter": "python",
   "pygments_lexer": "ipython3",
   "version": "3.9.7"
  },
  "orig_nbformat": 4
 },
 "nbformat": 4,
 "nbformat_minor": 2
}
