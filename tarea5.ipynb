{
 "cells": [
  {
   "cell_type": "code",
   "execution_count": null,
   "metadata": {},
   "outputs": [],
   "source": [
    "#\n",
    "#\n",
    "# EJECUTAR ESTA CELDA\n",
    "#\n",
    "#\n",
    "\n",
    "#####################################\n",
    "#       Estructuras de datos\n",
    "#####################################\n",
    "\n",
    "\n",
    "import calificador\n",
    "UUID = \"TU CLAVE\"\n",
    "DESEO_CONTRIBUIR_A_MEJORAR = True"
   ]
  },
  {
   "cell_type": "markdown",
   "metadata": {},
   "source": [
    "# Ejercicios sobre ciclos"
   ]
  },
  {
   "cell_type": "code",
   "execution_count": null,
   "metadata": {},
   "outputs": [],
   "source": [
    "def suma_totales(productos):\n",
    "    \"\"\"\n",
    "    Instrucciones:\n",
    "        Esta función recibe una lista de tuplas en las que el primer\n",
    "        elemento de la tupla es el nombre de un producto y el segundo\n",
    "        elemento es el total de productos vendidos de ese tipo.\n",
    "        Devolver el total de productos vendidos.\n",
    "\n",
    "    Recuerda:\n",
    "        Cuida la indentación.\n",
    "    \"\"\"\n",
    "    \n",
    "    # Escribe aquí tu código\n",
    "    \n",
    "    \n",
    "    # Escribe aquí tu código\n",
    "    \n",
    "    return # Escribe aquí tu código"
   ]
  },
  {
   "cell_type": "code",
   "execution_count": null,
   "metadata": {},
   "outputs": [],
   "source": [
    "calificador.califica_suma_totales(suma_totales, UUID, DESEO_CONTRIBUIR_A_MEJORAR)"
   ]
  },
  {
   "cell_type": "code",
   "execution_count": null,
   "metadata": {},
   "outputs": [],
   "source": [
    "def pares_en_rango(inicio, fin):\n",
    "    \"\"\"\n",
    "    Instrucciones:\n",
    "        Esta función recibe dos números, llamados inicio y fin, respectivamente.\n",
    "        El fin es mayor que el inicio.\n",
    "        Encontrar los números pares que se encuentran entre inicio (inclusive) y fin (inclusive)\n",
    "        y agregarlos a una lista, regresar dicha lista.\n",
    "\n",
    "    Recuerda:\n",
    "        Cuida la indentación.\n",
    "    \"\"\"\n",
    "    \n",
    "    # Escribe aquí tu código\n",
    "    \n",
    "    \n",
    "    # Escribe aquí tu código\n",
    "    \n",
    "    return # Escribe aquí tu código"
   ]
  },
  {
   "cell_type": "code",
   "execution_count": null,
   "metadata": {},
   "outputs": [],
   "source": [
    "calificador.califica_pares_en_rango(pares_en_rango, UUID, DESEO_CONTRIBUIR_A_MEJORAR)"
   ]
  },
  {
   "cell_type": "code",
   "execution_count": null,
   "metadata": {},
   "outputs": [],
   "source": [
    "def multiplos_de_5(numeros):\n",
    "    \"\"\"\n",
    "    Instrucciones:\n",
    "        Esta función recibe una lista de números enteros llamada numeros.\n",
    "        Guardar los números que sea múltiplos de 5 en una \n",
    "        lista nueva y regresar dicha lista.\n",
    "\n",
    "    Recuerda:\n",
    "        Cuida la indentación.\n",
    "    \"\"\"\n",
    "    \n",
    "    # Escribe aquí tu código\n",
    "    \n",
    "    \n",
    "    # Escribe aquí tu código\n",
    "    \n",
    "    return # Escribe aquí tu código"
   ]
  },
  {
   "cell_type": "code",
   "execution_count": null,
   "metadata": {},
   "outputs": [],
   "source": [
    "calificador.califica_multiplos_de_5(multiplos_de_5, UUID, DESEO_CONTRIBUIR_A_MEJORAR)"
   ]
  },
  {
   "cell_type": "code",
   "execution_count": null,
   "metadata": {},
   "outputs": [],
   "source": [
    "def contar_vocales_y_numeros(cadena):\n",
    "    \"\"\"\n",
    "    Instrucciones:\n",
    "        Esta función recibe una cadena de caracteres como parámetro.\n",
    "        Usar ciclos (for o while) para encontrar lo siguiente:\n",
    "            Cantidad de números\n",
    "            Cantidad de letras\n",
    "        Regresar una tupla cuyo primer elemento sea la cantidad de vocales\n",
    "        y su segundo elemento sea la cantidad de números.\n",
    "\n",
    "    Recuerda:\n",
    "        Cuida la indentación.\n",
    "    \"\"\"\n",
    "    \n",
    "    # Escribe aquí tu código\n",
    "    \n",
    "    \n",
    "    # Escribe aquí tu código\n",
    "    \n",
    "    return # Escribe aquí tu código"
   ]
  },
  {
   "cell_type": "code",
   "execution_count": null,
   "metadata": {},
   "outputs": [],
   "source": [
    "calificador.califica_contar_vocales_y_numeros(contar_vocales_y_numeros, UUID, DESEO_CONTRIBUIR_A_MEJORAR)"
   ]
  },
  {
   "cell_type": "code",
   "execution_count": null,
   "metadata": {},
   "outputs": [],
   "source": [
    "def obtener_promedio2(informacion_de_clase):\n",
    "    \"\"\"\n",
    "    Instrucciones:\n",
    "        Esta función recibe un diccionario llamado\n",
    "        informacion_de_clase que tiene una clave\n",
    "        \"alumnos\", dicha clave contiene una lista de números\n",
    "        con punto decimal (float), obtener el promedio de dichos\n",
    "        números.\n",
    "\n",
    "    Recuerda:\n",
    "        Cuida la indentación.\n",
    "    \"\"\"\n",
    "    \n",
    "    # Escribe aquí tu código\n",
    "\n",
    "    \n",
    "    # Escribe aquí tu código\n",
    "    \n",
    "    return # Escribe aquí tu código"
   ]
  },
  {
   "cell_type": "code",
   "execution_count": null,
   "metadata": {},
   "outputs": [],
   "source": [
    "calificador.califica_obtener_promedio2(obtener_promedio2, UUID, DESEO_CONTRIBUIR_A_MEJORAR)"
   ]
  },
  {
   "cell_type": "code",
   "execution_count": null,
   "metadata": {},
   "outputs": [],
   "source": [
    "def calcular_factorial(numero):\n",
    "    \"\"\"\n",
    "    Instrucciones:\n",
    "        Esta función recibe un número.\n",
    "        Regresa el factorial de ese número.\n",
    "        \n",
    "        *El factorial de un número es dicho número\n",
    "        multiplicado por el anterior y el resultado\n",
    "        multiplicarlo por el anterior del anterior\n",
    "        y así sucesivamente.\n",
    "    \n",
    "    Ejemplo:\n",
    "        factorial de 3 = 3*2*1 = 6\n",
    "        factorial de 4 = 4*3*2*1 = 24\n",
    "        factorial de 5 = 5*4*3*2*1 = 120\n",
    "\n",
    "    Reglas:\n",
    "        Usar ciclos.\n",
    "\n",
    "    Recuerda:\n",
    "        Cuida la indentación.\n",
    "    \"\"\"\n",
    "    \n",
    "    # Escribe aquí tu código\n",
    "    \n",
    "    \n",
    "    # Escribe aquí tu código\n",
    "    \n",
    "    return # Escribe aquí tu código"
   ]
  },
  {
   "cell_type": "code",
   "execution_count": null,
   "metadata": {},
   "outputs": [],
   "source": [
    "calificador.califica_calcular_factorial(calcular_factorial, UUID, DESEO_CONTRIBUIR_A_MEJORAR)"
   ]
  },
  {
   "cell_type": "code",
   "execution_count": null,
   "metadata": {},
   "outputs": [],
   "source": [
    "def pares_un_medio(lista1, lista2):\n",
    "    \"\"\"\n",
    "    Instrucciones:\n",
    "        Esta función recibe dos listas del mismo tamaño.\n",
    "        Verificar si todos los elementos de la lista1\n",
    "        son un medio de los elementos de la lista2 por posición.\n",
    "        Regresar un True si se cumple que los elementos de la\n",
    "        lista1 sean un medio de los de la lista2, False en otro caso\n",
    "    \n",
    "    Ejemplo:\n",
    "        lista1 = [1,2,3]\n",
    "        lista2 = [2,4,6]\n",
    "        En este caso la función regresa un True\n",
    "\n",
    "        lista1 = [1,2,3]\n",
    "        lista2 = [2,4,5]\n",
    "        En este caso la función regresa un False porque el 3 no es \n",
    "        un medio del 5\n",
    "\n",
    "        lista1 = [3,4,5]\n",
    "        lista2 = [2,8,10]\n",
    "        En este caso la función regresa un False porque el 3 no es \n",
    "        un medio del 2\n",
    "\n",
    "    * Podríamos pensar hacer esta verificación por columnas\n",
    "\n",
    "    Consejos:\n",
    "        Usa la función zip\n",
    "        Puede ser que te convenga convertir los números a float antes de hacer la comparación\n",
    "\n",
    "    Reglas:\n",
    "        Usar ciclos.\n",
    "\n",
    "    Recuerda:\n",
    "        Cuida la indentación.\n",
    "    \"\"\"\n",
    "    \n",
    "    # Escribe aquí tu código\n",
    "    \n",
    "    \n",
    "    # Escribe aquí tu código\n",
    "    \n",
    "    return # Escribe aquí tu código"
   ]
  },
  {
   "cell_type": "code",
   "execution_count": null,
   "metadata": {},
   "outputs": [],
   "source": [
    "calificador.califica_pares_un_medio(pares_un_medio, UUID, DESEO_CONTRIBUIR_A_MEJORAR)"
   ]
  },
  {
   "cell_type": "code",
   "execution_count": null,
   "metadata": {},
   "outputs": [],
   "source": [
    "def promedios(numeros):\n",
    "    \"\"\"\n",
    "    Instrucciones:\n",
    "        Esta función recibe una lista, llamada numeros.\n",
    "        Obtener por separado el promedio \n",
    "        de los números pares y el promedio de los\n",
    "        impares y regresarlos en una tupla, en la que el\n",
    "        primer lugar es el promedio de los pares\n",
    "        y el segundo lugar el promedio de los impares\n",
    "    \n",
    "    Ejemplo:\n",
    "        lista = [1,2,3]\n",
    "        resultado = (2, 2)\n",
    "\n",
    "        lista = [2,2,2,4,3,5]\n",
    "        resultado = (5, 4)\n",
    "\n",
    "    Consejo:\n",
    "        No temas crear variables adicionales.\n",
    "\n",
    "    Reglas:\n",
    "        Usar ciclos.\n",
    "\n",
    "    Recuerda:\n",
    "        Cuida la indentación.\n",
    "    \"\"\"\n",
    "    \n",
    "    # Escribe aquí tu código\n",
    "    \n",
    "    \n",
    "    # Escribe aquí tu código\n",
    "    \n",
    "    return # Escribe aquí tu código"
   ]
  },
  {
   "cell_type": "code",
   "execution_count": null,
   "metadata": {},
   "outputs": [],
   "source": [
    "calificador.califica_promedios(promedios, UUID, DESEO_CONTRIBUIR_A_MEJORAR)"
   ]
  }
 ],
 "metadata": {
  "interpreter": {
   "hash": "348d93889cdc789e6cbe038b88f22de38d4107789a7ffcd22b7fa3c799b7a993"
  },
  "kernelspec": {
   "display_name": "Python 3.9.7 ('base')",
   "language": "python",
   "name": "python3"
  },
  "language_info": {
   "codemirror_mode": {
    "name": "ipython",
    "version": 3
   },
   "file_extension": ".py",
   "mimetype": "text/x-python",
   "name": "python",
   "nbconvert_exporter": "python",
   "pygments_lexer": "ipython3",
   "version": "3.9.7"
  },
  "orig_nbformat": 4
 },
 "nbformat": 4,
 "nbformat_minor": 2
}
