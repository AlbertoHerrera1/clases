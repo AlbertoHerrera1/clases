{
 "cells": [
  {
   "cell_type": "code",
   "execution_count": null,
   "metadata": {},
   "outputs": [],
   "source": [
    "#\n",
    "#\n",
    "# EJECUTAR ESTA CELDA\n",
    "#\n",
    "#\n",
    "\n",
    "#####################################\n",
    "#       Condicionales\n",
    "#####################################\n",
    "\n",
    "\n",
    "import calificador\n",
    "UUID = \"TU CLAVE\"\n",
    "DESEO_CONTRIBUIR_A_MEJORAR = True"
   ]
  },
  {
   "cell_type": "code",
   "execution_count": null,
   "metadata": {},
   "outputs": [],
   "source": [
    "def impuestos(ingresos, giro):\n",
    "    \"\"\"\n",
    "    Instrucciones:\n",
    "        Esta función recibe los ingresos de una\n",
    "        compañía (un número) y el giro de la misma\n",
    "        (un string).\n",
    "\n",
    "        Esta función dice qué tantos impuestos debe pagar\n",
    "        dicha empresa dadas las siguientes condiciones:\n",
    "\n",
    "        Si giro es 'Educación' o 'Ganadería'\n",
    "        y gana menos de 15000.00\n",
    "        paga el 8%, si gana más de o igual a 15000.00 \n",
    "        paga el 10%\n",
    "        Si el giro es 'Tecnología' o 'Textiles'\n",
    "        y gana menos de 15000.00 \n",
    "        paga el 12%, si gana más de o igual a 15000.00\n",
    "        paga el 14%.\n",
    "\n",
    "        La función regresa, como cadena de caracteres (string),\n",
    "        el porcentaje que paga \n",
    "\n",
    "\n",
    "    Recuerda:\n",
    "        Cuida la indentación.\n",
    "\n",
    "    Ejemplo:\n",
    "        Si ingresos = 20000 y giro = \"Textiles\"\n",
    "        regresa '14%'\n",
    "        Si ingresos = 12000 y giro = \"Educación\"\n",
    "        regresa '8%'\n",
    "    \"\"\"\n",
    "    \n",
    "    # Escribe aquí tu código\n",
    "    \n",
    "\n",
    "    # Escribe aquí tu código\n",
    "    \n",
    "    return # Escribe aquí tu código\n"
   ]
  },
  {
   "cell_type": "code",
   "execution_count": null,
   "metadata": {},
   "outputs": [],
   "source": [
    "calificador.califica_impuestos(impuestos, UUID, DESEO_CONTRIBUIR_A_MEJORAR)"
   ]
  },
  {
   "cell_type": "code",
   "execution_count": null,
   "metadata": {},
   "outputs": [],
   "source": [
    "def calificacion_aprobatoria(calificacion):\n",
    "    \"\"\"\n",
    "    Instrucciones:\n",
    "        Esta función recibe la calificación de un alumno,\n",
    "        la cual es un número real (float, con punto decimal)\n",
    "        luego de redondear la calificación \n",
    "        regresar el mensaje \"Pasaste\"\n",
    "        si es que el resultado es mayor o igual a 6\n",
    "        y \"Prueba de nuevo\"\n",
    "        si es que el resultado es menor a 6\n",
    "\n",
    "\n",
    "    Recuerda:\n",
    "        Cuida la indentación.\n",
    "\n",
    "    Ejemplo:\n",
    "        Si calificacion = 5.6 \n",
    "        regresa 'Pasaste'\n",
    "        Si calificacion = 5.4\n",
    "        regresa 'Prueba de nuevo'\n",
    "    \"\"\"\n",
    "    \n",
    "    # Escribe aquí tu código\n",
    "    \n",
    "\n",
    "    # Escribe aquí tu código\n",
    "    \n",
    "    return # Escribe aquí tu código\n"
   ]
  },
  {
   "cell_type": "code",
   "execution_count": null,
   "metadata": {},
   "outputs": [],
   "source": [
    "calificador.califica_calificacion_aprobatoria(calificacion_aprobatoria, UUID, DESEO_CONTRIBUIR_A_MEJORAR)"
   ]
  },
  {
   "cell_type": "code",
   "execution_count": null,
   "metadata": {},
   "outputs": [],
   "source": [
    "def puede_subir(estatura):\n",
    "    \"\"\"\n",
    "    Instrucciones:\n",
    "        Esta función recibe la estatura de una persona\n",
    "        que quiere subir a un juego.\n",
    "\n",
    "        Si la estatura es mayor o igual a 1.40\n",
    "        regresa \"Puede subir :D\"\n",
    "        caso contrario regresa \"No puede subir :(\"\n",
    "\n",
    "\n",
    "    Recuerda:\n",
    "        Cuida la indentación.\n",
    "\n",
    "    Ejemplo:\n",
    "        Si estatura = 1.40\n",
    "        regresa \"Puede subir :D\"\n",
    "        Si estatura = 1.39\n",
    "        regresa \"No puede subir :(\"\n",
    "    \"\"\"\n",
    "    \n",
    "    # Escribe aquí tu código\n",
    "    \n",
    "\n",
    "    # Escribe aquí tu código\n",
    "    \n",
    "    return # Escribe aquí tu código\n"
   ]
  },
  {
   "cell_type": "code",
   "execution_count": null,
   "metadata": {},
   "outputs": [],
   "source": [
    "calificador.califica_puede_subir(puede_subir, UUID, DESEO_CONTRIBUIR_A_MEJORAR)"
   ]
  },
  {
   "cell_type": "code",
   "execution_count": null,
   "metadata": {},
   "outputs": [],
   "source": [
    "def creacion_de_lista_vacia():\n",
    "    \"\"\"\n",
    "    Instrucciones:\n",
    "        Esta función no recibe ningún parámetro\n",
    "        y devuelve una lista vacía\n",
    "\n",
    "    Recuerda:\n",
    "        Cuida la indentación.\n",
    "    \"\"\"\n",
    "    \n",
    "    # Escribe aquí tu código\n",
    "    \n",
    "    \n",
    "    # Escribe aquí tu código\n",
    "    \n",
    "    return # Escribe aquí tu código"
   ]
  },
  {
   "cell_type": "code",
   "execution_count": null,
   "metadata": {},
   "outputs": [],
   "source": [
    "calificador.califica_creacion_de_lista_vacia(creacion_de_lista_vacia, UUID, DESEO_CONTRIBUIR_A_MEJORAR)"
   ]
  },
  {
   "cell_type": "code",
   "execution_count": null,
   "metadata": {},
   "outputs": [],
   "source": [
    "def creacion_de_una_tupla_vacia():\n",
    "    \"\"\"\n",
    "    Instrucciones:\n",
    "        Esta función no recibe ningún parámetro\n",
    "        y devuelve una tupla vacía\n",
    "\n",
    "    Recuerda:\n",
    "        Cuida la indentación.\n",
    "    \"\"\"\n",
    "    \n",
    "    # Escribe aquí tu código\n",
    "    \n",
    "    \n",
    "    # Escribe aquí tu código\n",
    "    \n",
    "    return # Escribe aquí tu código"
   ]
  },
  {
   "cell_type": "code",
   "execution_count": null,
   "metadata": {},
   "outputs": [],
   "source": [
    "calificador.califica_creacion_de_una_tupla_vacia(creacion_de_una_tupla_vacia, UUID, DESEO_CONTRIBUIR_A_MEJORAR)"
   ]
  },
  {
   "cell_type": "code",
   "execution_count": null,
   "metadata": {},
   "outputs": [],
   "source": [
    "def creacion_de_un_diccionario_vacio():\n",
    "    \"\"\"\n",
    "    Instrucciones:\n",
    "        Esta función no recibe ningún parámetro\n",
    "        y devuelve un diccionario vacío\n",
    "\n",
    "    Recuerda:\n",
    "        Cuida la indentación.\n",
    "    \"\"\"\n",
    "    \n",
    "    # Escribe aquí tu código\n",
    "    \n",
    "    \n",
    "    # Escribe aquí tu código\n",
    "    \n",
    "    return # Escribe aquí tu código"
   ]
  },
  {
   "cell_type": "code",
   "execution_count": null,
   "metadata": {},
   "outputs": [],
   "source": [
    "calificador.califica_creacion_de_un_diccionario_vacio(creacion_de_un_diccionario_vacio, UUID, DESEO_CONTRIBUIR_A_MEJORAR)"
   ]
  }
 ],
 "metadata": {
  "language_info": {
   "name": "python"
  },
  "orig_nbformat": 4
 },
 "nbformat": 4,
 "nbformat_minor": 2
}
