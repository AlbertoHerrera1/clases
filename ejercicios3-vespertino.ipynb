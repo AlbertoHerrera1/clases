{
 "cells": [
  {
   "cell_type": "markdown",
   "metadata": {},
   "source": [
    "# Ejercicios sobre ciclos"
   ]
  },
  {
   "cell_type": "code",
   "execution_count": null,
   "metadata": {},
   "outputs": [],
   "source": [
    "def ejercicio_1(lista):\n",
    "    \"\"\"\n",
    "    Instrucciones:\n",
    "        Esta función recibe como parámetro una lista.\n",
    "        Revisa cada elemento de la lista, obtiene su\n",
    "        valor de verdad y guarda en una nueva lista.\n",
    "        Devolver dicha lista en forma de tupla.\n",
    "    \"\"\"\n",
    "\n",
    "    # Escribe aquí tu código\n",
    "    \n",
    "\n",
    "    # Escribe aquí tu código\n",
    "\n",
    "    return # Escribe aquí tu código"
   ]
  },
  {
   "cell_type": "code",
   "execution_count": 1,
   "metadata": {},
   "outputs": [],
   "source": [
    "def ejercicio_2(diccionario):\n",
    "    \"\"\"\n",
    "    Instrucciones:\n",
    "        Esta función recibe como parámetro un diccionario.\n",
    "        Sabemos que tiene un parámetro parecido a 'nombre'\n",
    "        pero tiene combinación entre mayúsculas y minúsculas.\n",
    "        Encontrar ese parámetro y devolver el valor que tiene.\n",
    "    \"\"\"\n",
    "\n",
    "    # Escribe aquí tu código\n",
    "    \n",
    "\n",
    "    # Escribe aquí tu código\n",
    "\n",
    "    return # Escribe aquí tu código"
   ]
  },
  {
   "cell_type": "code",
   "execution_count": 3,
   "metadata": {},
   "outputs": [],
   "source": [
    "ejercicio_2({\"EdAD\": 14, \"NoMBrE\": \"Juanito\", \"ApellIDo\": \"Jhons\"})"
   ]
  },
  {
   "cell_type": "code",
   "execution_count": null,
   "metadata": {},
   "outputs": [],
   "source": [
    "def ejercicio_3(lista):\n",
    "    \"\"\"\n",
    "    Instrucciones:\n",
    "        Esta función recibe como parámetro una lista\n",
    "        con elementos de diferentes tipos.\n",
    "        Revisa todos los elementos y devuelve una lista\n",
    "        que contenga sólo los números.\n",
    "    \"\"\"\n",
    "\n",
    "    # Escribe aquí tu código\n",
    "    \n",
    "\n",
    "    # Escribe aquí tu código\n",
    "\n",
    "    return # Escribe aquí tu código"
   ]
  },
  {
   "cell_type": "code",
   "execution_count": 4,
   "metadata": {},
   "outputs": [],
   "source": [
    "def ejercicio_4(lista):\n",
    "    \"\"\"\n",
    "    Instrucciones:\n",
    "        Esta función recibe como parámetro una lista\n",
    "        con elementos de diferentes tipos.\n",
    "        Revisa todos los elementos y devuelve un diccionario\n",
    "        que tiene como claves los tipos encontrados en la lista\n",
    "        y como valor por cada tipo tiene una lista\n",
    "        cuyos elementos son de dicho tipo.\n",
    "\n",
    "    Consejo:\n",
    "        Crear un diccionario vacío y en cada iteración\n",
    "        revisar si el diccionario tiene la clave del tipo \n",
    "        del elemento en el que se encuentra, si no existe\n",
    "        dicha clave, crearla con una lista vacía, luego\n",
    "        agregar los elementos a su lista correspondiente.\n",
    "\n",
    "    Restricciones:\n",
    "        No escribir manualmente los tipos.\n",
    "    \"\"\"\n",
    "\n",
    "    # Escribe aquí tu código\n",
    "    \n",
    "\n",
    "    # Escribe aquí tu código\n",
    "\n",
    "    return # Escribe aquí tu código"
   ]
  },
  {
   "cell_type": "code",
   "execution_count": 6,
   "metadata": {},
   "outputs": [
    {
     "data": {
      "text/plain": [
       "{int: [1, 2, 3], str: ['HOla', 'hola', ';'], list: [[], [1, 2]], dict: [{}]}"
      ]
     },
     "execution_count": 6,
     "metadata": {},
     "output_type": "execute_result"
    }
   ],
   "source": [
    "ejercicio_4([1,2,3, \"HOla\", \"hola\", \";\", [], [1,2], {}])"
   ]
  },
  {
   "cell_type": "code",
   "execution_count": null,
   "metadata": {},
   "outputs": [],
   "source": [
    "def ejercicio_5(palabra):\n",
    "    \"\"\"\n",
    "    Instrucciones:\n",
    "        Esta función recibe como parámetro una palabra.\n",
    "        Cuenta las letras mayúsculas y las minúsculas\n",
    "        y devuelve un diccionario con dichas cuentas.\n",
    "\n",
    "    Consejo:\n",
    "        En python existen un método llamada isupper\n",
    "        la cual regresa verdadero si una cadena de caracteres tiene\n",
    "        todas sus letras en mayúsculas, similar el método\n",
    "        islower.\n",
    "\n",
    "    Ejemplo:\n",
    "        \"HOLA\".isupper() devuelve True\n",
    "        \"HOLA\".islower() devuelve False\n",
    "    \"\"\"\n",
    "\n",
    "    # Escribe aquí tu código\n",
    "    \n",
    "\n",
    "    # Escribe aquí tu código\n",
    "\n",
    "    return # Escribe aquí tu código"
   ]
  },
  {
   "cell_type": "code",
   "execution_count": 8,
   "metadata": {},
   "outputs": [],
   "source": [
    "def ejercicio_6(lista):\n",
    "    \"\"\"\n",
    "    Instrucciones:\n",
    "        Esta función recibe como parámetro una lista.\n",
    "        Dicha lista contiene solamente tuplas.\n",
    "        Cada tupla de la lista tiene en primer lugar\n",
    "        el nombre de una fruta y en segundo lugar \n",
    "        el número de mordidas que se le dio a esa fruta.\n",
    "        Es posible que haya frutas repetidas.\n",
    "        Devolver un diciconario que contenga como claves\n",
    "        los nombres de las frutas y el total de \n",
    "        mordidas por fruta\n",
    "\n",
    "    \n",
    "    \"\"\"\n",
    "\n",
    "    # Escribe aquí tu código\n",
    "    \n",
    "\n",
    "    # Escribe aquí tu código\n",
    "\n",
    "    return # Escribe aquí tu código"
   ]
  },
  {
   "cell_type": "code",
   "execution_count": 11,
   "metadata": {},
   "outputs": [
    {
     "data": {
      "text/plain": [
       "{'Manzana': 6, 'Pera': 8, 'Mango': 21}"
      ]
     },
     "execution_count": 11,
     "metadata": {},
     "output_type": "execute_result"
    }
   ],
   "source": [
    "ejercicio_6([(\"Manzana\", 2), (\"Pera\", 3), (\"Manzana\", 4), (\"Mango\", 10), (\"Mango\", 11), (\"Pera\", 5)])"
   ]
  },
  {
   "cell_type": "code",
   "execution_count": null,
   "metadata": {},
   "outputs": [],
   "source": [
    "def ejercicio_7(lista):\n",
    "    \"\"\"\n",
    "    Instrucciones:\n",
    "        Mismas instrucciones del ejercicio anterior, pero el diccionario\n",
    "        a devolver tiene el promedio de mordidas en lugar del total.\n",
    "            \n",
    "    \"\"\"\n",
    "\n",
    "    # Escribe aquí tu código\n",
    "    \n",
    "\n",
    "    # Escribe aquí tu código\n",
    "\n",
    "    return # Escribe aquí tu código"
   ]
  },
  {
   "cell_type": "code",
   "execution_count": null,
   "metadata": {},
   "outputs": [],
   "source": [
    "def ejercicio_8():\n",
    "    \"\"\"\n",
    "    Instrucciones:\n",
    "        Esta función no recibe parámetros.\n",
    "        Le pide al usuario ingresar cualquier número.\n",
    "        Guarda los números ingresados en una lista.\n",
    "        Devuelve un diccionario que tenga una clave \"ingresados\"\n",
    "        que tenga como valor la lista de los números ingresados\n",
    "        y otra clave \"promedio\" que tenga el promedio de los\n",
    "        números ingresados.\n",
    "\n",
    "    Restricciones: \n",
    "        Aunque se puede resolver de forma directa, Usar ciclos.\n",
    "        Usar la palabra continue para ignorar los números negativos.\n",
    "    \"\"\"\n",
    "\n",
    "    # Escribe aquí tu código\n",
    "    \n",
    "\n",
    "    # Escribe aquí tu código\n",
    "\n",
    "    return # Escribe aquí tu código"
   ]
  }
 ],
 "metadata": {
  "interpreter": {
   "hash": "348d93889cdc789e6cbe038b88f22de38d4107789a7ffcd22b7fa3c799b7a993"
  },
  "kernelspec": {
   "display_name": "Python 3.9.7 64-bit ('base': conda)",
   "language": "python",
   "name": "python3"
  },
  "language_info": {
   "codemirror_mode": {
    "name": "ipython",
    "version": 3
   },
   "file_extension": ".py",
   "mimetype": "text/x-python",
   "name": "python",
   "nbconvert_exporter": "python",
   "pygments_lexer": "ipython3",
   "version": "3.9.7"
  },
  "orig_nbformat": 4
 },
 "nbformat": 4,
 "nbformat_minor": 2
}
