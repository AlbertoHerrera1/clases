{
 "cells": [
  {
   "cell_type": "code",
   "execution_count": null,
   "metadata": {},
   "outputs": [],
   "source": [
    "def ejercicio_1(palabra):\n",
    "    \"\"\"\n",
    "    Instrucciones:\n",
    "        Esta función toma una palabra como\n",
    "        parámetro y devuelve el número de caracteres\n",
    "        diferentes que posee dicha palabra\n",
    "    \n",
    "    Ejemplo:\n",
    "        Si palabra es \"Hola\"\n",
    "        la función regresa un 4\n",
    "\n",
    "    Restricciones:\n",
    "        No intentar usar ciclos.\n",
    "        El espacio es un caracter válido.\n",
    "\n",
    "    Consejo:\n",
    "        Usa set() para crear un conjunto\n",
    "    \"\"\"\n",
    "\n",
    "    # Escribe aquí tu código\n",
    "    \n",
    "\n",
    "    # Escribe aquí tu código\n",
    "\n",
    "    return # Escribe aquí tu código"
   ]
  },
  {
   "cell_type": "code",
   "execution_count": null,
   "metadata": {},
   "outputs": [],
   "source": [
    "ejercicio_1(\"Hola mundo\")"
   ]
  },
  {
   "cell_type": "code",
   "execution_count": null,
   "metadata": {},
   "outputs": [],
   "source": [
    "def ejercicio_2():\n",
    "    \"\"\"\n",
    "    Instrucciones:\n",
    "        Esta función no recibe ningún parámetro.\n",
    "        Le pide al usuario 3 veces el nombre y la edad\n",
    "        de una persona, guarda el nombre y edad\n",
    "        de cada persona en un diccionario\n",
    "        y devolver una lista con dichos diccionarios\n",
    "    \n",
    "    Ejemplo:\n",
    "        [\n",
    "            {\"nombre\": \"Alberto\", \"edad\": 28}.\n",
    "            {\"nombre\": \"John\", \"edad\": 32},\n",
    "            {\"nombre\": \"Maria\", \"edad\": 27}\n",
    "        ]\n",
    "\n",
    "    \"\"\"\n",
    "\n",
    "    # Escribe aquí tu código\n",
    "    \n",
    "\n",
    "    # Escribe aquí tu código\n",
    "\n",
    "    return # Escribe aquí tu código"
   ]
  },
  {
   "cell_type": "code",
   "execution_count": null,
   "metadata": {},
   "outputs": [],
   "source": [
    "ejercicio_2()"
   ]
  },
  {
   "cell_type": "code",
   "execution_count": null,
   "metadata": {},
   "outputs": [],
   "source": [
    "def ejercicio_3():\n",
    "    \"\"\"\n",
    "    Instrucciones:\n",
    "        Esta función no recibe ningún parámetro.\n",
    "        Le pide al usuario 1 vez el nombre y la calificación\n",
    "        de una persona, guarda el nombre y calificación\n",
    "        de esa persona en un diccionario, que adicionalmente\n",
    "        tenga una clave llamada \"aprobatorio\" teniendo ésta un\n",
    "        True si es que la calificación es mayor o igual a 8\n",
    "        y False en caso contrario.\n",
    "    \n",
    "    Ejemplo:\n",
    "        Si palabra es \"Hola\"\n",
    "        la función regresa un 4\n",
    "    \"\"\"\n",
    "\n",
    "    # Escribe aquí tu código\n",
    "    \n",
    "\n",
    "    # Escribe aquí tu código\n",
    "\n",
    "    return # Escribe aquí tu código"
   ]
  },
  {
   "cell_type": "code",
   "execution_count": null,
   "metadata": {},
   "outputs": [],
   "source": [
    "ejercicio_3()"
   ]
  },
  {
   "cell_type": "code",
   "execution_count": null,
   "metadata": {},
   "outputs": [],
   "source": [
    "def ejercicio_4():\n",
    "    \"\"\"\n",
    "    Instrucciones:\n",
    "        Esta función no recibe parámetros.\n",
    "        Le pide al usuario un número entero\n",
    "        no negativo.\n",
    "        Si ese número es mayor o igual a 20,\n",
    "        devuelve la palabra \"Infinito\",\n",
    "        si ese número es menor a 20, devuelve\n",
    "        dicho número en una tupla.\n",
    "        Si el número no es un número no negativo\n",
    "        devuelve \"No entendí\"\n",
    "    \n",
    "    Ejemplo:\n",
    "        Si palabra es \"Hola\"\n",
    "        la función regresa un 4\n",
    "\n",
    "    \"\"\"\n",
    "\n",
    "    # Escribe aquí tu código\n",
    "    \n",
    "\n",
    "    # Escribe aquí tu código\n",
    "\n",
    "    return # Escribe aquí tu código"
   ]
  },
  {
   "cell_type": "code",
   "execution_count": null,
   "metadata": {},
   "outputs": [],
   "source": [
    "ejercicio_4()"
   ]
  },
  {
   "cell_type": "code",
   "execution_count": null,
   "metadata": {},
   "outputs": [],
   "source": [
    "def ejercicio_5(a, b, operador):\n",
    "    \"\"\"\n",
    "    Instrucciones:\n",
    "        Esta función toma dos números, a y b\n",
    "        y el nombre de un operador, tomado\n",
    "        de las 4 operaciones básicas y devuelve el \n",
    "        resultado de efectuar esa operación sobre \n",
    "        a y b en ese orden.\n",
    "        En el caso de la división verificar que b\n",
    "        sea distinto de cero, si es 0\n",
    "        devolver \"No puedo dividir entre cero\".\n",
    "        Si operador tiene otro valor, devolver \n",
    "        \"Operador no válido\".\n",
    "    \n",
    "    Ejemplo:\n",
    "        Si a = 2, b = 3\n",
    "        y operador = \"suma\"\n",
    "        devuelve a + b, o sea 5.\n",
    "        Si operador es \"resta\"\n",
    "        devuelve a - b, o sea -1\n",
    "\n",
    "    Restricciones:\n",
    "        Usar upper() o lower()\n",
    "        * Verificar si el operador es válido\n",
    "        dado un arreglo con los nombres de los operadores\n",
    "\n",
    "    \"\"\"\n",
    "\n",
    "    # Escribe aquí tu código\n",
    "    \n",
    "\n",
    "    # Escribe aquí tu código\n",
    "\n",
    "    return # Escribe aquí tu código"
   ]
  },
  {
   "cell_type": "code",
   "execution_count": null,
   "metadata": {},
   "outputs": [],
   "source": [
    "ejercicio_5(1,0,\"división\")"
   ]
  }
 ],
 "metadata": {
  "language_info": {
   "name": "python"
  },
  "orig_nbformat": 4
 },
 "nbformat": 4,
 "nbformat_minor": 2
}
