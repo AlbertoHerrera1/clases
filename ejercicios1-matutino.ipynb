{
 "cells": [
  {
   "cell_type": "code",
   "execution_count": null,
   "metadata": {},
   "outputs": [],
   "source": [
    "def ejercicio_1(palabra):\n",
    "    \"\"\"\n",
    "    Instrucciones:\n",
    "        Esta función toma una palabra como\n",
    "        parámetro y devuelve el número de caracteres\n",
    "        diferentes que posee dicha palabra\n",
    "    \n",
    "    Ejemplo:\n",
    "        Si palabra es \"Hola\"\n",
    "        la función regresa un 4\n",
    "\n",
    "    Restricciones:\n",
    "        No intentar usar ciclos.\n",
    "        El espacio es un caracter válido.\n",
    "\n",
    "    Consejo:\n",
    "        Usa set() para crear un conjunto\n",
    "    \"\"\"\n",
    "\n",
    "    # Escribe aquí tu código\n",
    "    \n",
    "\n",
    "    # Escribe aquí tu código\n",
    "\n",
    "    return # Escribe aquí tu código"
   ]
  },
  {
   "cell_type": "code",
   "execution_count": null,
   "metadata": {},
   "outputs": [],
   "source": [
    "ejercicio_1(\"Hola mundo\")"
   ]
  },
  {
   "cell_type": "code",
   "execution_count": null,
   "metadata": {},
   "outputs": [],
   "source": [
    "def ejercicio_2(palabra):\n",
    "    \"\"\"\n",
    "    Instrucciones:\n",
    "        Esta función toma una palabra como\n",
    "        parámetro y devuelve el número de caracteres\n",
    "        diferentes que posee dicha palabra\n",
    "    \n",
    "    Ejemplo:\n",
    "        Si palabra es \"Hola\"\n",
    "        la función regresa un 4\n",
    "\n",
    "    Restricciones:\n",
    "        No intentar usar ciclos.\n",
    "        No contar al espacio como un caracter.\n",
    "    \"\"\"\n",
    "\n",
    "    # Escribe aquí tu código\n",
    "    \n",
    "\n",
    "    # Escribe aquí tu código\n",
    "\n",
    "    return # Escribe aquí tu código"
   ]
  },
  {
   "cell_type": "code",
   "execution_count": null,
   "metadata": {},
   "outputs": [],
   "source": [
    "ejercicio_2(\"Hola mundo\")"
   ]
  },
  {
   "cell_type": "code",
   "execution_count": null,
   "metadata": {},
   "outputs": [],
   "source": [
    "def ejercicio_3():\n",
    "    \"\"\"\n",
    "    Instrucciones:\n",
    "        Esta función no recibe ningún parámetro.\n",
    "        Le pide al usuario 3 veces el nombre y la edad\n",
    "        de una persona, guarda el nombre y edad\n",
    "        de cada persona en un diccionario\n",
    "        y devolver una lista con dichos diccionarios\n",
    "    \n",
    "    Ejemplo:\n",
    "        [\n",
    "            {\"nombre\": \"Alberto\", \"edad\": 28}.\n",
    "            {\"nombre\": \"John\", \"edad\": 32},\n",
    "            {\"nombre\": \"Maria\", \"edad\": 27}\n",
    "        ]\n",
    "\n",
    "    \"\"\"\n",
    "\n",
    "    # Escribe aquí tu código\n",
    "    \n",
    "\n",
    "    # Escribe aquí tu código\n",
    "\n",
    "    return # Escribe aquí tu código"
   ]
  },
  {
   "cell_type": "code",
   "execution_count": null,
   "metadata": {},
   "outputs": [],
   "source": [
    "ejercicio_3()"
   ]
  },
  {
   "cell_type": "code",
   "execution_count": null,
   "metadata": {},
   "outputs": [],
   "source": [
    "def ejercicio_4():\n",
    "    \"\"\"\n",
    "    Instrucciones:\n",
    "        Esta función no recibe ningún parámetro.\n",
    "        Le pide al usuario 1 vez el nombre y la calificación\n",
    "        de una persona, guarda el nombre y calificación\n",
    "        de esa persona en un diccionario, que adicionalmente\n",
    "        tenga una clave llamada \"aprobatorio\" teniendo ésta un\n",
    "        True si es que la calificación es mayor o igual a 8\n",
    "        y False en caso contrario.\n",
    "    \n",
    "    Ejemplo:\n",
    "        Si palabra es \"Hola\"\n",
    "        la función regresa un 4\n",
    "    \"\"\"\n",
    "\n",
    "    # Escribe aquí tu código\n",
    "    \n",
    "\n",
    "    # Escribe aquí tu código\n",
    "\n",
    "    return # Escribe aquí tu código"
   ]
  },
  {
   "cell_type": "code",
   "execution_count": null,
   "metadata": {},
   "outputs": [],
   "source": [
    "ejercicio_4()"
   ]
  },
  {
   "cell_type": "code",
   "execution_count": null,
   "metadata": {},
   "outputs": [],
   "source": [
    "def ejercicio_5():\n",
    "    \"\"\"\n",
    "    Instrucciones:\n",
    "        Esta función no recibe parámetros.\n",
    "        Le pide al usuario un número entero\n",
    "        no negativo.\n",
    "        Si ese número es mayor o igual a 20,\n",
    "        devuelve la palabra \"Infinito\",\n",
    "        si ese número es menor a 20, devuelve\n",
    "        dicho número en una tupla.\n",
    "        Si el número no es un número no negativo\n",
    "        devuelve \"No entendí\"\n",
    "    \n",
    "    Ejemplo:\n",
    "        Si palabra es \"Hola\"\n",
    "        la función regresa un 4\n",
    "\n",
    "    \"\"\"\n",
    "\n",
    "    # Escribe aquí tu código\n",
    "    \n",
    "\n",
    "    # Escribe aquí tu código\n",
    "\n",
    "    return # Escribe aquí tu código"
   ]
  },
  {
   "cell_type": "code",
   "execution_count": null,
   "metadata": {},
   "outputs": [],
   "source": [
    "ejercicio_5()"
   ]
  },
  {
   "cell_type": "code",
   "execution_count": null,
   "metadata": {},
   "outputs": [],
   "source": [
    "def ejercicio_6(a, b, operador):\n",
    "    \"\"\"\n",
    "    Instrucciones:\n",
    "        Esta función toma dos números, a y b\n",
    "        y el nombre de un operador, tomado\n",
    "        de las 4 operaciones básicas y devuelve el \n",
    "        resultado de efectuar esa operación sobre \n",
    "        a y b en ese orden.\n",
    "        En el caso de la división verificar que b\n",
    "        sea distinto de cero, si es 0\n",
    "        devolver \"No puedo dividir entre cero\".\n",
    "        Si operador tiene otro valor, devolver \n",
    "        \"Operador no válido\".\n",
    "    \n",
    "    Ejemplo:\n",
    "        Si a = 2, b = 3\n",
    "        y operador = \"suma\"\n",
    "        devuelve a + b, o sea 5.\n",
    "        Si operador es \"resta\"\n",
    "        devuelve a - b, o sea -1\n",
    "\n",
    "    Restricciones:\n",
    "        Usar upper() o lower()\n",
    "        * Verificar si el operador es válido\n",
    "        dado un arreglo con los nombres de los operadores\n",
    "\n",
    "    \"\"\"\n",
    "\n",
    "    # Escribe aquí tu código\n",
    "    \n",
    "\n",
    "    # Escribe aquí tu código\n",
    "\n",
    "    return # Escribe aquí tu código"
   ]
  },
  {
   "cell_type": "code",
   "execution_count": null,
   "metadata": {},
   "outputs": [],
   "source": [
    "ejercicio_6(1,0,\"división\")"
   ]
  },
  {
   "cell_type": "code",
   "execution_count": null,
   "metadata": {},
   "outputs": [],
   "source": [
    "def ejercicio_7(a, b, operador):\n",
    "    \"\"\"\n",
    "    Instrucciones:\n",
    "        Cumplir con el objetivo del ejercicio 6\n",
    "        pero usando un diccionario\n",
    "    \"\"\"\n",
    "\n",
    "    # Escribe aquí tu código\n",
    "    \n",
    "\n",
    "    # Escribe aquí tu código\n",
    "\n",
    "    return # Escribe aquí tu código"
   ]
  },
  {
   "cell_type": "code",
   "execution_count": null,
   "metadata": {},
   "outputs": [],
   "source": [
    "ejercicio_7(1, 2, 'multiplicación')"
   ]
  },
  {
   "cell_type": "code",
   "execution_count": null,
   "metadata": {},
   "outputs": [],
   "source": [
    "def ejercicio_8():\n",
    "    \"\"\"\n",
    "    Instrucciones:\n",
    "        Esta función no recibe parámetros.\n",
    "        Pedirle al usuario 2 nombres de libros y su\n",
    "        isbn (cualquier cadena de caracteres),\n",
    "        guardar cada par nombre-isbn en un diccionario,\n",
    "        guardar ambos diccionarios en una lista,\n",
    "        guardar esa lista en un diccionario bajo la clave\n",
    "        \"libros\" y devolver dicho diccionario\n",
    "        \n",
    "    Restricciones:\n",
    "        El isbn debe tener una longitud de 5 caracteres,\n",
    "        en caso de no cumplir con esa condición no agregar el \n",
    "        libro y mostrar un mensaje que diga:\n",
    "        \"Libro no agregado de título: {titulo} e isbn: {isbn}\",\n",
    "        reemplazando lo que está entre llaves por sus respectivas\n",
    "        variables\n",
    "    \"\"\"\n",
    "\n",
    "    # Escribe aquí tu código\n",
    "    \n",
    "\n",
    "    # Escribe aquí tu código\n",
    "\n",
    "    return # Escribe aquí tu código"
   ]
  },
  {
   "cell_type": "code",
   "execution_count": null,
   "metadata": {},
   "outputs": [],
   "source": [
    "ejercicio_8()"
   ]
  },
  {
   "cell_type": "code",
   "execution_count": null,
   "metadata": {},
   "outputs": [],
   "source": [
    "def ejercicio_9(a, b):\n",
    "    \"\"\"\n",
    "    Instrucciones:\n",
    "        Esta función recibe dos números y devuelve\n",
    "        un verdadero si es que sus antepenúltimos dígitos\n",
    "        son iguales entre sí\n",
    "    \n",
    "    Ejemplo:\n",
    "        Si a = 234456\n",
    "        y b = 234123454\n",
    "        devuelve True\n",
    "\n",
    "    Restricciones:\n",
    "        Si el número no tiene antepenúltimo dígito\n",
    "        devolver la cadena \"No puedo verificarlos\"\n",
    "    \"\"\"\n",
    "\n",
    "    # Escribe aquí tu código\n",
    "    \n",
    "\n",
    "    # Escribe aquí tu código\n",
    "\n",
    "    return # Escribe aquí tu código"
   ]
  },
  {
   "cell_type": "code",
   "execution_count": null,
   "metadata": {},
   "outputs": [],
   "source": [
    "ejercicio_9(23,321123)"
   ]
  },
  {
   "cell_type": "code",
   "execution_count": null,
   "metadata": {},
   "outputs": [],
   "source": [
    "def ejercicio_10(lista):\n",
    "    \"\"\"\n",
    "    Instrucciones:\n",
    "        Esta función recibe una lista como parámetro.\n",
    "        Revisa el 2 elemento, si es que existe,\n",
    "        y verifica si es un número o si es una palabra,\n",
    "        si es un número sustituirlo consigo mismo elevado \n",
    "        al cuadrado, si es una palabra sustituirla consigo\n",
    "        misma en mayúscular.\n",
    "        En caso de que no haya segundo elemento regresar\n",
    "        una lista vacía.\n",
    "        En caso de que no sea ni cadena de caracteres ni\n",
    "        número regresar una lista vacía.\n",
    "    \"\"\"\n",
    "\n",
    "    # Escribe aquí tu código\n",
    "    \n",
    "\n",
    "    # Escribe aquí tu código\n",
    "\n",
    "    return # Escribe aquí tu código"
   ]
  },
  {
   "cell_type": "code",
   "execution_count": null,
   "metadata": {},
   "outputs": [],
   "source": [
    "ejercicio_10([1,\"hola\"])"
   ]
  }
 ],
 "metadata": {
  "interpreter": {
   "hash": "348d93889cdc789e6cbe038b88f22de38d4107789a7ffcd22b7fa3c799b7a993"
  },
  "kernelspec": {
   "display_name": "Python 3.9.7 64-bit ('base': conda)",
   "language": "python",
   "name": "python3"
  },
  "language_info": {
   "codemirror_mode": {
    "name": "ipython",
    "version": 3
   },
   "file_extension": ".py",
   "mimetype": "text/x-python",
   "name": "python",
   "nbconvert_exporter": "python",
   "pygments_lexer": "ipython3",
   "version": "3.9.7"
  },
  "orig_nbformat": 4
 },
 "nbformat": 4,
 "nbformat_minor": 2
}
