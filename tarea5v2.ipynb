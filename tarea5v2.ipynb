{
 "cells": [
  {
   "cell_type": "code",
   "execution_count": null,
   "metadata": {},
   "outputs": [],
   "source": [
    "#\n",
    "#\n",
    "# EJECUTAR ESTA CELDA\n",
    "#\n",
    "#\n",
    "\n",
    "#####################################\n",
    "#       Condicionales\n",
    "#####################################\n",
    "\n",
    "\n",
    "import calificador\n",
    "UUID = \"TU CLAVE\"\n",
    "DESEO_CONTRIBUIR_A_MEJORAR = True"
   ]
  },
  {
   "cell_type": "code",
   "execution_count": null,
   "metadata": {},
   "outputs": [],
   "source": [
    "def tipo_de_triangulo(lado_1, lado_2, lado_3):\n",
    "    \"\"\"\n",
    "    Instrucciones:\n",
    "        Esta función recibe la longitud\n",
    "        de los 3 lados de un triágulo.\n",
    "        Debe regresar el tipo de triángulo que es\n",
    "        según la longitud de sus lados.\n",
    "        Las opciones son: \"Isósceles\", \"Equilátero\" y\n",
    "        \"Escaleno\"\n",
    "\n",
    "\n",
    "    Recuerda:\n",
    "        Cuida la indentación.\n",
    "    \"\"\"\n",
    "    \n",
    "    # Escribe aquí tu código\n",
    "    \n",
    "\n",
    "    # Escribe aquí tu código\n",
    "    \n",
    "    return # Escribe aquí tu código\n"
   ]
  },
  {
   "cell_type": "code",
   "execution_count": null,
   "metadata": {},
   "outputs": [],
   "source": [
    "calificador.califica_tipo_de_triangulo(tipo_de_triangulo, UUID, DESEO_CONTRIBUIR_A_MEJORAR)"
   ]
  },
  {
   "cell_type": "code",
   "execution_count": null,
   "metadata": {},
   "outputs": [],
   "source": [
    "def obtener_longitud_de_una_lista(lista):\n",
    "    \"\"\"\n",
    "    Instrucciones:\n",
    "        Esta función recibe una lista y\n",
    "        devuelve la longitud de esa lista\n",
    "\n",
    "    Recuerda:\n",
    "        Cuida la indentación.\n",
    "    \"\"\"\n",
    "    \n",
    "    # Escribe aquí tu código\n",
    "    \n",
    "    \n",
    "    # Escribe aquí tu código\n",
    "    \n",
    "    return # Escribe aquí tu código"
   ]
  },
  {
   "cell_type": "code",
   "execution_count": null,
   "metadata": {},
   "outputs": [],
   "source": [
    "calificador.califica_obtener_longitud_de_una_lista(obtener_longitud_de_una_lista, UUID, DESEO_CONTRIBUIR_A_MEJORAR)"
   ]
  },
  {
   "cell_type": "code",
   "execution_count": null,
   "metadata": {},
   "outputs": [],
   "source": [
    "def obtener_longitud_de_una_tupla(tupla):\n",
    "    \"\"\"\n",
    "    Instrucciones:\n",
    "        Esta función recibe una tupla y\n",
    "        devuelve la longitud de esa tupla\n",
    "\n",
    "    Recuerda:\n",
    "        Cuida la indentación.\n",
    "    \"\"\"\n",
    "    \n",
    "    # Escribe aquí tu código\n",
    "    \n",
    "    \n",
    "    # Escribe aquí tu código\n",
    "    \n",
    "    return # Escribe aquí tu código"
   ]
  },
  {
   "cell_type": "code",
   "execution_count": null,
   "metadata": {},
   "outputs": [],
   "source": [
    "calificador.califica_obtener_longitud_de_una_tupla(obtener_longitud_de_una_tupla, UUID, DESEO_CONTRIBUIR_A_MEJORAR)"
   ]
  },
  {
   "cell_type": "code",
   "execution_count": null,
   "metadata": {},
   "outputs": [],
   "source": [
    "def obtener_longitud_de_un_diccionario(diccionario):\n",
    "    \"\"\"\n",
    "    Instrucciones:\n",
    "        Esta función recibe un diccionario y\n",
    "        devuelve la longitud de ese diccionario\n",
    "\n",
    "    Recuerda:\n",
    "        Cuida la indentación.\n",
    "    \"\"\"\n",
    "    \n",
    "    # Escribe aquí tu código\n",
    "    \n",
    "    \n",
    "    # Escribe aquí tu código\n",
    "    \n",
    "    return # Escribe aquí tu código"
   ]
  },
  {
   "cell_type": "code",
   "execution_count": null,
   "metadata": {},
   "outputs": [],
   "source": [
    "calificador.califica_obtener_longitud_de_un_diccionario(obtener_longitud_de_un_diccionario, UUID, DESEO_CONTRIBUIR_A_MEJORAR)"
   ]
  },
  {
   "cell_type": "code",
   "execution_count": null,
   "metadata": {},
   "outputs": [],
   "source": [
    "def creacion_de_una_lista_con_exactamente_un_elemento(elemento):\n",
    "    \"\"\"\n",
    "    Instrucciones:\n",
    "        Esta función recibe un elemento, puede\n",
    "        ser un número, una cadena de caracteres\n",
    "        una tupla, una lista o cualquier objeto de Python\n",
    "        y devuelve una lista con dicho objeto.\n",
    "\n",
    "    Recuerda:\n",
    "        Cuida la indentación.\n",
    "    \"\"\"\n",
    "    \n",
    "    # Escribe aquí tu código\n",
    "    \n",
    "    \n",
    "    # Escribe aquí tu código\n",
    "    \n",
    "    return # Escribe aquí tu código"
   ]
  },
  {
   "cell_type": "code",
   "execution_count": null,
   "metadata": {},
   "outputs": [],
   "source": [
    "calificador.califica_creacion_de_una_lista_con_exactamente_un_elemento(creacion_de_una_lista_con_exactamente_un_elemento, UUID, DESEO_CONTRIBUIR_A_MEJORAR)"
   ]
  },
  {
   "cell_type": "code",
   "execution_count": null,
   "metadata": {},
   "outputs": [],
   "source": [
    "def creacion_de_una_tupla_con_exactamente_un_elemento(elemento):\n",
    "\n",
    "    \"\"\"\n",
    "    Instrucciones:\n",
    "        Esta función recibe un elemento, puede\n",
    "        ser un número, una cadena de caracteres\n",
    "        una tupla, una lista o cualquier objeto de Python\n",
    "        y devuelve una tupla con dicho objeto.\n",
    "\n",
    "    Recuerda:\n",
    "        Cuida la indentación.\n",
    "    \"\"\"\n",
    "    \n",
    "    # Escribe aquí tu código\n",
    "    \n",
    "    \n",
    "    # Escribe aquí tu código\n",
    "    \n",
    "    return # Escribe aquí tu código"
   ]
  },
  {
   "cell_type": "code",
   "execution_count": null,
   "metadata": {},
   "outputs": [],
   "source": [
    "calificador.califica_creacion_de_una_tupla_con_exactamente_un_elemento(creacion_de_una_tupla_con_exactamente_un_elemento, UUID, DESEO_CONTRIBUIR_A_MEJORAR)"
   ]
  },
  {
   "cell_type": "code",
   "execution_count": null,
   "metadata": {},
   "outputs": [],
   "source": [
    "def creacion_de_un_diccionario_con_clave_edad(edad):\n",
    "\n",
    "    \"\"\"\n",
    "    Instrucciones:\n",
    "        Esta función recibe la edad de una persona\n",
    "        y devuelve un diccionario que tenga una única\n",
    "        clave llamada 'edad' y cuyo valor sea la\n",
    "        edad que llega por parámetro.\n",
    "\n",
    "    Recuerda:\n",
    "        Cuida la indentación.\n",
    "    \"\"\"\n",
    "    \n",
    "    # Escribe aquí tu código\n",
    "    \n",
    "    \n",
    "    # Escribe aquí tu código\n",
    "    \n",
    "    return # Escribe aquí tu código"
   ]
  },
  {
   "cell_type": "code",
   "execution_count": null,
   "metadata": {},
   "outputs": [],
   "source": [
    "calificador.califica_creacion_de_un_diccionario_con_clave_edad(creacion_de_un_diccionario_con_clave_edad, UUID, DESEO_CONTRIBUIR_A_MEJORAR)"
   ]
  }
 ],
 "metadata": {
  "language_info": {
   "name": "python"
  },
  "orig_nbformat": 4
 },
 "nbformat": 4,
 "nbformat_minor": 2
}
