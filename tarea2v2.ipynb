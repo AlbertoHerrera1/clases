{
 "cells": [
  {
   "cell_type": "code",
   "execution_count": null,
   "metadata": {},
   "outputs": [],
   "source": [
    "#\n",
    "#\n",
    "# EJECUTAR ESTA CELDA\n",
    "#\n",
    "#\n",
    "\n",
    "#####################################\n",
    "#       Tarea ejemplo\n",
    "#####################################\n",
    "\n",
    "\n",
    "import calificador\n",
    "UUID = \"TU CLAVE\"\n",
    "DESEO_CONTRIBUIR_A_MEJORAR = True"
   ]
  },
  {
   "cell_type": "code",
   "execution_count": null,
   "metadata": {},
   "outputs": [],
   "source": [
    "def redondear_a_n_digitos(numero, n):\n",
    "    \"\"\"\n",
    "    Instrucciones:\n",
    "        Esta función recibe un número\n",
    "        el cual puede ser de tipo\n",
    "        int (entero) o float (con decimales)\n",
    "        y regresa ese número redondeado \n",
    "        a n cifras\n",
    "\n",
    "        La función round puede recibir\n",
    "        en primer lugar el número a redondear\n",
    "        y en segundo lugar el número de decimales.\n",
    "        Algo como round(numero_a_redondear, numero_de_decimales)\n",
    "\n",
    "    Ejemplo:\n",
    "        Si numero = 2.45 y n = 1\n",
    "        regresa 2.5\n",
    "        Si numero = 3.456 y n = 2\n",
    "        regresa 3.46\n",
    "        Si numero = 10.98765 y n = 4\n",
    "        regresa 10.9877\n",
    "\n",
    "    Recuerda:\n",
    "        Cuida la indentación.\n",
    "    \"\"\"\n",
    "    \n",
    "    # Escribe aquí tu código\n",
    "    \n",
    "\n",
    "    # Escribe aquí tu código\n",
    "    \n",
    "    return # Escribe aquí tu código"
   ]
  },
  {
   "cell_type": "code",
   "execution_count": null,
   "metadata": {},
   "outputs": [],
   "source": [
    "redondear_a_n_digitos(3.98786, 1)"
   ]
  },
  {
   "cell_type": "code",
   "execution_count": null,
   "metadata": {},
   "outputs": [],
   "source": [
    "calificador.califica_redondear_a_n_digitos(redondear_a_n_digitos, UUID, DESEO_CONTRIBUIR_A_MEJORAR)"
   ]
  },
  {
   "cell_type": "code",
   "execution_count": null,
   "metadata": {},
   "outputs": [],
   "source": [
    "def division_entera(dividendo, divisor):\n",
    "    \"\"\"\n",
    "    Instrucciones:\n",
    "        Esta función recibe dos números\n",
    "        el número a dividir (dividendo)\n",
    "        y el número que divide (divisor)\n",
    "        y regresa el resultado de efectuar\n",
    "        la división entera, es decir, regresa\n",
    "        el cociente entero de efectuar la división\n",
    "\n",
    "        Usa el operador //\n",
    "\n",
    "    Ejemplo:\n",
    "        Si dividendo = 4 y divisor = 2\n",
    "        regresa 2\n",
    "        Si dividendo = 7 y divisor = 3\n",
    "        regresa 2\n",
    "        Si dividendo = 109 y divisor = 10\n",
    "        regresa 10\n",
    "\n",
    "    Recuerda:\n",
    "        Cuida la indentación.\n",
    "    \"\"\"\n",
    "    \n",
    "    # Escribe aquí tu código\n",
    "    \n",
    "\n",
    "    # Escribe aquí tu código\n",
    "    \n",
    "    return # Escribe aquí tu código"
   ]
  },
  {
   "cell_type": "code",
   "execution_count": null,
   "metadata": {},
   "outputs": [],
   "source": [
    "division_entera(4, 3)"
   ]
  },
  {
   "cell_type": "code",
   "execution_count": null,
   "metadata": {},
   "outputs": [],
   "source": [
    "calificador.califica_division_entera(division_entera, UUID, DESEO_CONTRIBUIR_A_MEJORAR)"
   ]
  },
  {
   "cell_type": "code",
   "execution_count": null,
   "metadata": {},
   "outputs": [],
   "source": [
    "def en_mayusculas(palabra):\n",
    "    \"\"\"\n",
    "    Instrucciones:\n",
    "        Esta función recibe una palabra como argumento\n",
    "        llamado 'palabra'\n",
    "        Usar el método upper()\n",
    "        para convertir la palabra que llega como argumento\n",
    "        a mayúsculas\n",
    "        y regresar la palabra en mayúsculas\n",
    "\n",
    "    Ejemplo:\n",
    "        Si palabra = 'hola, mundo'\n",
    "        regresa 'HOLA, MUNDO'\n",
    "\n",
    "    Recuerda:\n",
    "        Cuida la indentación.\n",
    "    \"\"\"\n",
    "\n",
    "    # Escribe aquí tu código\n",
    "    \n",
    "\n",
    "    # Escribe aquí tu código\n",
    "    \n",
    "    return # Escribe aquí tu código"
   ]
  },
  {
   "cell_type": "code",
   "execution_count": null,
   "metadata": {},
   "outputs": [],
   "source": [
    "en_mayusculas(\"estoy aprendiendo\")"
   ]
  },
  {
   "cell_type": "code",
   "execution_count": null,
   "metadata": {},
   "outputs": [],
   "source": [
    "calificador.califica_en_mayusculas(en_mayusculas, UUID, DESEO_CONTRIBUIR_A_MEJORAR)"
   ]
  },
  {
   "cell_type": "code",
   "execution_count": null,
   "metadata": {},
   "outputs": [],
   "source": [
    "def en_minusculas(palabra):\n",
    "    \"\"\"\n",
    "    Instrucciones:\n",
    "        Esta función recibe una palabra como argumento\n",
    "        llamado 'palabra'\n",
    "        Usar el método lower()\n",
    "        para convertir la palabra que llega como argumento\n",
    "        a minúsculas\n",
    "        y regresar la palabra en minúsculas\n",
    "\n",
    "    Ejemplo:\n",
    "        Si palabra = 'HOLA, MUNDO'\n",
    "        regresa 'hola, mundo'\n",
    "\n",
    "    Recuerda:\n",
    "        Cuida la indentación.\n",
    "    \"\"\"\n",
    "\n",
    "    # Escribe aquí tu código\n",
    "    \n",
    "\n",
    "    # Escribe aquí tu código\n",
    "    \n",
    "    return # Escribe aquí tu código"
   ]
  },
  {
   "cell_type": "code",
   "execution_count": null,
   "metadata": {},
   "outputs": [],
   "source": [
    "en_minusculas(\"HOLA, MUNDO\")"
   ]
  },
  {
   "cell_type": "code",
   "execution_count": null,
   "metadata": {},
   "outputs": [],
   "source": [
    "calificador.califica_en_minusculas(en_minusculas, UUID, DESEO_CONTRIBUIR_A_MEJORAR)"
   ]
  },
  {
   "cell_type": "code",
   "execution_count": null,
   "metadata": {},
   "outputs": [],
   "source": [
    "def mostrar_numeros(a, b, c):\n",
    "    \"\"\"\n",
    "    Instrucciones:\n",
    "        Esta función recibe como parámetros\n",
    "        tres números llamados\n",
    "        a, b y c.\n",
    "\n",
    "        La función debe regresar la cadena de caracteres\n",
    "        a = <a>, b = <b> y c = <c>\n",
    "        reemplazando lo que hay entre <> con el valor\n",
    "        de la variable correspondiente\n",
    "\n",
    "    Ejemplo:\n",
    "        Si a = 2\n",
    "        b = 3\n",
    "        c = 4\n",
    "        La función regresa 'a = 2, b = 3 y c = 4' (Ojo con los espacios y nota que no hay <>)\n",
    "\n",
    "    Recuerda:\n",
    "        Para meter variables dentro de cadenas de caracteres\n",
    "        puedes anteponer la letra f antes de las comillas\n",
    "        y luego usar llaves {} para meter la variable:\n",
    "        Si a = 1\n",
    "        f\"a = {a}\" (nota que le estoy pasando la variable)\n",
    "        devuelve 'a = 1'\n",
    "        O puedes usar la función format()\n",
    "        Si a = 1\n",
    "        \"a = {0}\".format(a) (nota el uso de índices en este caso)\n",
    "        devuelve 'a = 1'\n",
    "\n",
    "    Recuerda:\n",
    "        Cuida la indentación.\n",
    "    \"\"\"\n",
    "\n",
    "    # Escribe aquí tu código\n",
    "\n",
    "\n",
    "    # Escribe aquí tu código\n",
    "    \n",
    "    return # Escribe aquí tu código"
   ]
  },
  {
   "cell_type": "code",
   "execution_count": null,
   "metadata": {},
   "outputs": [],
   "source": [
    "mostrar_numeros(1,2,3)"
   ]
  },
  {
   "cell_type": "code",
   "execution_count": null,
   "metadata": {},
   "outputs": [],
   "source": [
    "calificador.califica_mostrar_numeros(mostrar_numeros, UUID, DESEO_CONTRIBUIR_A_MEJORAR)"
   ]
  },
  {
   "cell_type": "code",
   "execution_count": null,
   "metadata": {},
   "outputs": [],
   "source": [
    "def concatenar_cadenas(cadena1, cadena2):\n",
    "    \"\"\"\n",
    "    Instrucciones:\n",
    "        Esta función recibe como parámetros\n",
    "        dos cadenas llamadas \n",
    "        cadena1 y cadena2 respectivamente\n",
    "\n",
    "        Deberás crear una variable llamada\n",
    "        cadenas\n",
    "        que será el resultado de contactenar \n",
    "        la cadena1 y la cadena2\n",
    "\n",
    "    Ejemplo:\n",
    "        Si cadena1 = \"hola, \"\n",
    "        y cadena2 = \"mundo\"\n",
    "        cadenas tendra el valor de 'hola, mundo'\n",
    "\n",
    "    Recuerda:\n",
    "        Para concatenar cadenas se usa el operador +\n",
    "\n",
    "    Recuerda:\n",
    "        Cuida la indentación.\n",
    "\n",
    "    Observación:\n",
    "        Aunque este ejercicio se puede hacer con \n",
    "        una solución parecida al ejercicio anterior\n",
    "        usa el operador +\n",
    "    \"\"\"\n",
    "\n",
    "    # Escribe aquí tu código\n",
    "\n",
    "\n",
    "    # Escribe aquí tu código\n",
    "\n",
    "    return # Escribe aquí tu código"
   ]
  },
  {
   "cell_type": "code",
   "execution_count": null,
   "metadata": {},
   "outputs": [],
   "source": [
    "concatenar_cadenas(\"Hola, \", \"mundo\")"
   ]
  },
  {
   "cell_type": "code",
   "execution_count": null,
   "metadata": {},
   "outputs": [],
   "source": [
    "calificador.califica_concatenar_cadenas(concatenar_cadenas, UUID, DESEO_CONTRIBUIR_A_MEJORAR)"
   ]
  }
 ],
 "metadata": {
  "language_info": {
   "name": "python"
  },
  "orig_nbformat": 4
 },
 "nbformat": 4,
 "nbformat_minor": 2
}
