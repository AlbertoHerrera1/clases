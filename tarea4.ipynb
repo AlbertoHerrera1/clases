{
 "cells": [
  {
   "cell_type": "code",
   "execution_count": null,
   "metadata": {},
   "outputs": [],
   "source": [
    "#\n",
    "#\n",
    "# EJECUTAR ESTA CELDA\n",
    "#\n",
    "#\n",
    "\n",
    "#####################################\n",
    "#       Estructuras de datos\n",
    "#####################################\n",
    "\n",
    "\n",
    "import calificador\n",
    "UUID = \"TU CLAVE\"\n",
    "DESEO_CONTRIBUIR_A_MEJORAR = True"
   ]
  },
  {
   "cell_type": "markdown",
   "metadata": {},
   "source": [
    "# Ejercicios"
   ]
  },
  {
   "cell_type": "code",
   "execution_count": null,
   "metadata": {},
   "outputs": [],
   "source": [
    "def creacion_de_lista_vacia():\n",
    "    \"\"\"\n",
    "    Instrucciones:\n",
    "        Esta función no recibe ningún parámetro\n",
    "        y devuelve una lista vacía\n",
    "\n",
    "    Recuerda:\n",
    "        Cuida la indentación.\n",
    "    \"\"\"\n",
    "    \n",
    "    # Escribe aquí tu código\n",
    "    \n",
    "    \n",
    "    # Escribe aquí tu código\n",
    "    \n",
    "    return # Escribe aquí tu código"
   ]
  },
  {
   "cell_type": "code",
   "execution_count": null,
   "metadata": {},
   "outputs": [],
   "source": [
    "calificador.califica_creacion_de_lista_vacia(creacion_de_lista_vacia, UUID, DESEO_CONTRIBUIR_A_MEJORAR)"
   ]
  },
  {
   "cell_type": "code",
   "execution_count": null,
   "metadata": {},
   "outputs": [],
   "source": [
    "def creacion_de_una_tupla_vacia():\n",
    "    \"\"\"\n",
    "    Instrucciones:\n",
    "        Esta función no recibe ningún parámetro\n",
    "        y devuelve una tupla vacía\n",
    "\n",
    "    Recuerda:\n",
    "        Cuida la indentación.\n",
    "    \"\"\"\n",
    "    \n",
    "    # Escribe aquí tu código\n",
    "    \n",
    "    \n",
    "    # Escribe aquí tu código\n",
    "    \n",
    "    return # Escribe aquí tu código"
   ]
  },
  {
   "cell_type": "code",
   "execution_count": null,
   "metadata": {},
   "outputs": [],
   "source": [
    "calificador.califica_creacion_de_una_tupla_vacia(creacion_de_una_tupla_vacia, UUID, DESEO_CONTRIBUIR_A_MEJORAR)"
   ]
  },
  {
   "cell_type": "code",
   "execution_count": null,
   "metadata": {},
   "outputs": [],
   "source": [
    "def creacion_de_un_diccionario_vacio():\n",
    "    \"\"\"\n",
    "    Instrucciones:\n",
    "        Esta función no recibe ningún parámetro\n",
    "        y devuelve un diccionario vacío\n",
    "\n",
    "    Recuerda:\n",
    "        Cuida la indentación.\n",
    "    \"\"\"\n",
    "    \n",
    "    # Escribe aquí tu código\n",
    "    \n",
    "    \n",
    "    # Escribe aquí tu código\n",
    "    \n",
    "    return # Escribe aquí tu código"
   ]
  },
  {
   "cell_type": "code",
   "execution_count": null,
   "metadata": {},
   "outputs": [],
   "source": [
    "calificador.califica_creacion_de_un_diccionario_vacio(creacion_de_un_diccionario_vacio, UUID, DESEO_CONTRIBUIR_A_MEJORAR)"
   ]
  },
  {
   "cell_type": "code",
   "execution_count": null,
   "metadata": {},
   "outputs": [],
   "source": [
    "def obtener_longitud_de_una_lista(lista):\n",
    "    \"\"\"\n",
    "    Instrucciones:\n",
    "        Esta función recibe una lista y\n",
    "        devuelve la longitud de esa lista\n",
    "\n",
    "    Recuerda:\n",
    "        Cuida la indentación.\n",
    "    \"\"\"\n",
    "    \n",
    "    # Escribe aquí tu código\n",
    "    \n",
    "    \n",
    "    # Escribe aquí tu código\n",
    "    \n",
    "    return # Escribe aquí tu código"
   ]
  },
  {
   "cell_type": "code",
   "execution_count": null,
   "metadata": {},
   "outputs": [],
   "source": [
    "calificador.califica_obtener_longitud_de_una_lista(obtener_longitud_de_una_lista, UUID, DESEO_CONTRIBUIR_A_MEJORAR)"
   ]
  },
  {
   "cell_type": "code",
   "execution_count": null,
   "metadata": {},
   "outputs": [],
   "source": [
    "def obtener_longitud_de_una_tupla(tupla):\n",
    "    \"\"\"\n",
    "    Instrucciones:\n",
    "        Esta función recibe una tupla y\n",
    "        devuelve la longitud de esa tupla\n",
    "\n",
    "    Recuerda:\n",
    "        Cuida la indentación.\n",
    "    \"\"\"\n",
    "    \n",
    "    # Escribe aquí tu código\n",
    "    \n",
    "    \n",
    "    # Escribe aquí tu código\n",
    "    \n",
    "    return # Escribe aquí tu código"
   ]
  },
  {
   "cell_type": "code",
   "execution_count": null,
   "metadata": {},
   "outputs": [],
   "source": [
    "calificador.califica_obtener_longitud_de_una_tupla(obtener_longitud_de_una_tupla, UUID, DESEO_CONTRIBUIR_A_MEJORAR)"
   ]
  },
  {
   "cell_type": "code",
   "execution_count": null,
   "metadata": {},
   "outputs": [],
   "source": [
    "def obtener_longitud_de_un_diccionario(diccionario):\n",
    "    \"\"\"\n",
    "    Instrucciones:\n",
    "        Esta función recibe un diccionario y\n",
    "        devuelve la longitud de ese diccionario\n",
    "\n",
    "    Recuerda:\n",
    "        Cuida la indentación.\n",
    "    \"\"\"\n",
    "    \n",
    "    # Escribe aquí tu código\n",
    "    \n",
    "    \n",
    "    # Escribe aquí tu código\n",
    "    \n",
    "    return # Escribe aquí tu código"
   ]
  },
  {
   "cell_type": "code",
   "execution_count": null,
   "metadata": {},
   "outputs": [],
   "source": [
    "calificador.califica_obtener_longitud_de_un_diccionario(obtener_longitud_de_un_diccionario, UUID, DESEO_CONTRIBUIR_A_MEJORAR)"
   ]
  },
  {
   "cell_type": "code",
   "execution_count": null,
   "metadata": {},
   "outputs": [],
   "source": [
    "def creacion_de_una_lista_con_exactamente_un_elemento(elemento):\n",
    "    \"\"\"\n",
    "    Instrucciones:\n",
    "        Esta función recibe un elemento, puede\n",
    "        ser un número, una cadena de caracteres\n",
    "        una tupla, una lista o cualquier objeto de Python\n",
    "        y devuelve una lista con dicho objeto.\n",
    "\n",
    "    Recuerda:\n",
    "        Cuida la indentación.\n",
    "    \"\"\"\n",
    "    \n",
    "    # Escribe aquí tu código\n",
    "    \n",
    "    \n",
    "    # Escribe aquí tu código\n",
    "    \n",
    "    return # Escribe aquí tu código"
   ]
  },
  {
   "cell_type": "code",
   "execution_count": null,
   "metadata": {},
   "outputs": [],
   "source": [
    "calificador.califica_creacion_de_una_lista_con_exactamente_un_elemento(creacion_de_una_lista_con_exactamente_un_elemento, UUID, DESEO_CONTRIBUIR_A_MEJORAR)"
   ]
  },
  {
   "cell_type": "code",
   "execution_count": null,
   "metadata": {},
   "outputs": [],
   "source": [
    "def creacion_de_una_tupla_con_exactamente_un_elemento(elemento):\n",
    "\n",
    "    \"\"\"\n",
    "    Instrucciones:\n",
    "        Esta función recibe un elemento, puede\n",
    "        ser un número, una cadena de caracteres\n",
    "        una tupla, una lista o cualquier objeto de Python\n",
    "        y devuelve una tupla con dicho objeto.\n",
    "\n",
    "    Recuerda:\n",
    "        Cuida la indentación.\n",
    "    \"\"\"\n",
    "    \n",
    "    # Escribe aquí tu código\n",
    "    \n",
    "    \n",
    "    # Escribe aquí tu código\n",
    "    \n",
    "    return # Escribe aquí tu código"
   ]
  },
  {
   "cell_type": "code",
   "execution_count": null,
   "metadata": {},
   "outputs": [],
   "source": [
    "calificador.califica_creacion_de_una_tupla_con_exactamente_un_elemento(creacion_de_una_tupla_con_exactamente_un_elemento, UUID, DESEO_CONTRIBUIR_A_MEJORAR)"
   ]
  },
  {
   "cell_type": "code",
   "execution_count": null,
   "metadata": {},
   "outputs": [],
   "source": [
    "def creacion_de_un_diccionario_con_clave_edad(edad):\n",
    "\n",
    "    \"\"\"\n",
    "    Instrucciones:\n",
    "        Esta función recibe la edad de una persona\n",
    "        y devuelve un diccionario que tenga una única\n",
    "        clave llamada 'edad' y cuyo valor sea la\n",
    "        edad que llega por parámetro.\n",
    "\n",
    "    Recuerda:\n",
    "        Cuida la indentación.\n",
    "    \"\"\"\n",
    "    \n",
    "    # Escribe aquí tu código\n",
    "    \n",
    "    \n",
    "    # Escribe aquí tu código\n",
    "    \n",
    "    return # Escribe aquí tu código"
   ]
  },
  {
   "cell_type": "code",
   "execution_count": null,
   "metadata": {},
   "outputs": [],
   "source": [
    "calificador.califica_creacion_de_un_diccionario_con_clave_edad(creacion_de_un_diccionario_con_clave_edad, UUID, DESEO_CONTRIBUIR_A_MEJORAR)"
   ]
  },
  {
   "cell_type": "code",
   "execution_count": null,
   "metadata": {},
   "outputs": [],
   "source": [
    "def creacion_de_una_lista_con_tres_elementos():\n",
    "\n",
    "    \"\"\"\n",
    "    Instrucciones:\n",
    "        Esta función no recibe ningún parámetro\n",
    "        y regresa una lista con las letras\n",
    "        'a', 'b', 'c', es decir, regresa una lista\n",
    "        con 3 elementos.\n",
    "\n",
    "    Recuerda:\n",
    "        Cuida la indentación.\n",
    "    \"\"\"\n",
    "    \n",
    "    # Escribe aquí tu código\n",
    "    \n",
    "    \n",
    "    # Escribe aquí tu código\n",
    "    \n",
    "    return # Escribe aquí tu código"
   ]
  },
  {
   "cell_type": "code",
   "execution_count": null,
   "metadata": {},
   "outputs": [],
   "source": [
    "calificador.califica_creacion_de_una_lista_con_tres_elementos(creacion_de_una_lista_con_tres_elementos, UUID, DESEO_CONTRIBUIR_A_MEJORAR)"
   ]
  },
  {
   "cell_type": "code",
   "execution_count": null,
   "metadata": {},
   "outputs": [],
   "source": [
    "def creacion_de_una_tupla_con_tres_elementos():\n",
    "\n",
    "    \"\"\"\n",
    "    Instrucciones:\n",
    "        Esta función no recibe ningún parámetro\n",
    "        y regresa una tupla con las letras\n",
    "        'a', '1', 'b', es decir, regresa una tupla\n",
    "        con 3 elementos.\n",
    "\n",
    "    Recuerda:\n",
    "        Cuida la indentación.\n",
    "    \"\"\"\n",
    "    \n",
    "    # Escribe aquí tu código\n",
    "    \n",
    "    \n",
    "    # Escribe aquí tu código\n",
    "    \n",
    "    return # Escribe aquí tu código"
   ]
  },
  {
   "cell_type": "code",
   "execution_count": null,
   "metadata": {},
   "outputs": [],
   "source": [
    "calificador.califica_creacion_de_una_tupla_con_tres_elementos(creacion_de_una_tupla_con_tres_elementos, UUID, DESEO_CONTRIBUIR_A_MEJORAR)"
   ]
  },
  {
   "cell_type": "code",
   "execution_count": null,
   "metadata": {},
   "outputs": [],
   "source": [
    "def acceder_al_elemento_5(lista):\n",
    "\n",
    "    \"\"\"\n",
    "    Instrucciones:\n",
    "        Esta función recibe una lista\n",
    "        y regresa el elemento con el índice\n",
    "        5 de dicha lista.\n",
    "\n",
    "    Recuerda:\n",
    "        Cuida la indentación.\n",
    "    \"\"\"\n",
    "    \n",
    "    # Escribe aquí tu código\n",
    "    \n",
    "    \n",
    "    # Escribe aquí tu código\n",
    "    \n",
    "    return # Escribe aquí tu código"
   ]
  },
  {
   "cell_type": "code",
   "execution_count": null,
   "metadata": {},
   "outputs": [],
   "source": [
    "calificador.califica_acceder_al_elemento_5(acceder_al_elemento_5, UUID, DESEO_CONTRIBUIR_A_MEJORAR)"
   ]
  },
  {
   "cell_type": "code",
   "execution_count": null,
   "metadata": {},
   "outputs": [],
   "source": [
    "def acceder_al_ultimo_elemento_de_una_tupla_en_rango(tope):\n",
    "\n",
    "    \"\"\"\n",
    "    Instrucciones:\n",
    "        Esta función recibe un número, el cual\n",
    "        funciona como tope en la creación de una tupla.\n",
    "        Deberás crear una tupla con los números del 0\n",
    "        a tope, acceder al último elemento de dicha tupla\n",
    "        y regresarlo.\n",
    "\n",
    "    Recuerda:\n",
    "        Cuida la indentación.\n",
    "    \"\"\"\n",
    "    \n",
    "    # Escribe aquí tu código\n",
    "    \n",
    "    \n",
    "    # Escribe aquí tu código\n",
    "    \n",
    "    return # Escribe aquí tu código"
   ]
  },
  {
   "cell_type": "code",
   "execution_count": null,
   "metadata": {},
   "outputs": [],
   "source": [
    "calificador.califica_acceder_al_ultimo_elemento_de_una_tupla_en_rango(acceder_al_ultimo_elemento_de_una_tupla_en_rango, UUID, DESEO_CONTRIBUIR_A_MEJORAR)"
   ]
  },
  {
   "cell_type": "code",
   "execution_count": null,
   "metadata": {},
   "outputs": [],
   "source": [
    "def conjunto_con_elementos_del_1_al_5():\n",
    "\n",
    "    \"\"\"\n",
    "    Instrucciones:\n",
    "        Esta función no recibe ningún parámetro\n",
    "        y devuelve un conjunto con los elementos\n",
    "        1,2,3,4,5.\n",
    "\n",
    "    Recuerda:\n",
    "        Cuida la indentación.\n",
    "    \"\"\"\n",
    "    \n",
    "    # Escribe aquí tu código\n",
    "    \n",
    "    \n",
    "    # Escribe aquí tu código\n",
    "    \n",
    "    return # Escribe aquí tu código"
   ]
  },
  {
   "cell_type": "code",
   "execution_count": null,
   "metadata": {},
   "outputs": [],
   "source": [
    "calificador.califica_conjunto_con_elementos_del_1_al_5(conjunto_con_elementos_del_1_al_5, UUID, DESEO_CONTRIBUIR_A_MEJORAR)"
   ]
  },
  {
   "cell_type": "code",
   "execution_count": null,
   "metadata": {},
   "outputs": [],
   "source": [
    "def conjunto_con_tres_palabras(p1, p2, p3):\n",
    "\n",
    "    \"\"\"\n",
    "    Instrucciones:\n",
    "        Esta función recibe una tres\n",
    "        elementos y regresa un conjunto \n",
    "        con dichos elementos.\n",
    "\n",
    "    Recuerda:\n",
    "        Cuida la indentación.\n",
    "    \"\"\"\n",
    "    \n",
    "    # Escribe aquí tu código\n",
    "    \n",
    "    \n",
    "    # Escribe aquí tu código\n",
    "    \n",
    "    return # Escribe aquí tu código"
   ]
  },
  {
   "cell_type": "code",
   "execution_count": null,
   "metadata": {},
   "outputs": [],
   "source": [
    "calificador.califica_conjunto_con_tres_palabras(conjunto_con_tres_palabras, UUID, DESEO_CONTRIBUIR_A_MEJORAR)"
   ]
  },
  {
   "cell_type": "code",
   "execution_count": null,
   "metadata": {},
   "outputs": [],
   "source": [
    "def creacion_de_diccionario_dentro_de_otro_diccionario():\n",
    "    \"\"\"\n",
    "    Instrucciones:\n",
    "        Esta función no recibe parámetros y regresa un diccionario\n",
    "        con la siguiente estructura:\n",
    "        Una clave llamada 'estado' cuyo valor es 'Activo',\n",
    "        una clave llamada 'datos' cuyo valor es otro diccionario\n",
    "        con dos claves, una llamada 'curso' cuyo valor es\n",
    "        'Python de la A a la Z' y otra clave llamada 'tareas'\n",
    "        cuyo valor es 3.\n",
    "\n",
    "    Recuerda:\n",
    "        Cuida la indentación.\n",
    "    \"\"\"\n",
    "    \n",
    "    # Escribe aquí tu código\n",
    "    \n",
    "    \n",
    "    # Escribe aquí tu código\n",
    "    \n",
    "    return # Escribe aquí tu código"
   ]
  },
  {
   "cell_type": "code",
   "execution_count": null,
   "metadata": {},
   "outputs": [],
   "source": [
    "calificador.califica_creacion_de_diccionario_dentro_de_otro_diccionario(creacion_de_diccionario_dentro_de_otro_diccionario, UUID, DESEO_CONTRIBUIR_A_MEJORAR)"
   ]
  },
  {
   "cell_type": "code",
   "execution_count": null,
   "metadata": {},
   "outputs": [],
   "source": [
    "def creacion_de_lista_de_diccionarios():\n",
    "    \"\"\"\n",
    "    Instrucciones:\n",
    "        Esta función no recibe parámteros y devuelve una \n",
    "        lista con dos diccionario de la siguiente forma:\n",
    "        El primer diccionario tiene la clave pais cuyo valor\n",
    "        es 'México' y tiene otra clave cuyo valor es 'nombre oficial'\n",
    "        cuyo valor es 'Estados Unidos Mexicanos'.\n",
    "        El segundo diccionario tiene la clave 'pais' cuyo valor\n",
    "        es 'Estados Unidos' y tiene otra clave cuyo valor es\n",
    "        'nombre oficial' cuyo valor es 'Estados Unidos de América'.\n",
    "\n",
    "    Recuerda:\n",
    "        Cuida la indentación.\n",
    "    \"\"\"\n",
    "    \n",
    "    # Escribe aquí tu código\n",
    "    \n",
    "    \n",
    "    # Escribe aquí tu código\n",
    "    \n",
    "    return # Escribe aquí tu código"
   ]
  },
  {
   "cell_type": "code",
   "execution_count": null,
   "metadata": {},
   "outputs": [],
   "source": [
    "calificador.califica_creacion_de_lista_de_diccionarios(creacion_de_lista_de_diccionarios, UUID, DESEO_CONTRIBUIR_A_MEJORAR)"
   ]
  },
  {
   "cell_type": "code",
   "execution_count": null,
   "metadata": {},
   "outputs": [],
   "source": [
    "def creacion_de_diccionario_con_listas():\n",
    "\n",
    "    \"\"\"\n",
    "    Instrucciones:\n",
    "        Esta función no recibe parámetros y regresa\n",
    "        un diccionario de la siguiente forma:\n",
    "        Tiene una clave llamada 'tarea1' cuyos\n",
    "        valores son una lista con los números\n",
    "        10, 10, 8.\n",
    "        Y tiene una clave llamada 'tarea2' cuyos\n",
    "        valores son una lista con los números\n",
    "        10, 8, 7.\n",
    "\n",
    "    Recuerda:\n",
    "        Cuida la indentación.\n",
    "    \"\"\"\n",
    "    \n",
    "    # Escribe aquí tu código\n",
    "    \n",
    "    \n",
    "    # Escribe aquí tu código\n",
    "    \n",
    "    return # Escribe aquí tu código"
   ]
  },
  {
   "cell_type": "code",
   "execution_count": null,
   "metadata": {},
   "outputs": [],
   "source": [
    "calificador.califica_creacion_de_diccionario_con_listas(creacion_de_diccionario_con_listas, UUID, DESEO_CONTRIBUIR_A_MEJORAR)"
   ]
  },
  {
   "cell_type": "code",
   "execution_count": null,
   "metadata": {},
   "outputs": [],
   "source": [
    "def creacion_de_diccionario_con_tuplas():\n",
    "    \"\"\"\n",
    "    Instrucciones:\n",
    "        Esta función no recibe parámetros y regresa\n",
    "        un diccionario de la siguiente forma:\n",
    "        Tiene una clave llamada 'historial'\n",
    "        cuyo valor es una tupla con 3 elementos,\n",
    "        el primer elemento de la tupla es\n",
    "        otra tupla con los números 3,5,1,6,\n",
    "        el segundo elemento de la tupla es\n",
    "        otra tupla con los números 56,2,1,7,\n",
    "        el tercer elemento de la tupla es\n",
    "        otra tupla con los números 62,4,78,3. \n",
    "\n",
    "    Recuerda:\n",
    "        Cuida la indentación.\n",
    "    \"\"\"\n",
    "    \n",
    "    # Escribe aquí tu código\n",
    "    \n",
    "    \n",
    "    # Escribe aquí tu código\n",
    "    \n",
    "    return # Escribe aquí tu código"
   ]
  },
  {
   "cell_type": "code",
   "execution_count": null,
   "metadata": {},
   "outputs": [],
   "source": [
    "calificador.califica_creacion_de_diccionario_con_tuplas(creacion_de_diccionario_con_tuplas, UUID, DESEO_CONTRIBUIR_A_MEJORAR)"
   ]
  },
  {
   "cell_type": "code",
   "execution_count": null,
   "metadata": {},
   "outputs": [],
   "source": [
    "def creacion_de_diccionario_a_partir_de_clave(clave, valor):\n",
    "\n",
    "    \"\"\"\n",
    "    Instrucciones:\n",
    "        Esta función recibe una clave y un valor\n",
    "        y regresa un diccionario con esa clave\n",
    "        y cuyo valor sea el valor que llega por parámetro\n",
    "\n",
    "    Recuerda:\n",
    "        Cuida la indentación.\n",
    "    \"\"\"\n",
    "    \n",
    "    # Escribe aquí tu código\n",
    "    \n",
    "    \n",
    "    # Escribe aquí tu código\n",
    "    \n",
    "    # return # Escribe aquí tu código\n",
    "    \n",
    "    return # Escribe aquí tu código"
   ]
  },
  {
   "cell_type": "code",
   "execution_count": null,
   "metadata": {},
   "outputs": [],
   "source": [
    "calificador.califica_creacion_de_diccionario_a_partir_de_clave(creacion_de_diccionario_a_partir_de_clave, UUID, DESEO_CONTRIBUIR_A_MEJORAR)"
   ]
  },
  {
   "cell_type": "code",
   "execution_count": null,
   "metadata": {},
   "outputs": [],
   "source": [
    "def lista_hasta_10000():\n",
    "\n",
    "    \"\"\"\n",
    "    Instrucciones:\n",
    "        Esta función no recibe parámetros y regresa\n",
    "        una lista con los números del 0 al 10000\n",
    "\n",
    "    Recuerda:\n",
    "        Cuida la indentación.\n",
    "    \"\"\"\n",
    "    \n",
    "    # Escribe aquí tu código\n",
    "    \n",
    "    \n",
    "    # Escribe aquí tu código\n",
    "    \n",
    "    #return # Escribe aquí tu código\n",
    "    \n",
    "    return # Escribe aquí tu código"
   ]
  },
  {
   "cell_type": "code",
   "execution_count": null,
   "metadata": {},
   "outputs": [],
   "source": [
    "calificador.califica_lista_hasta_10000(lista_hasta_10000, UUID, DESEO_CONTRIBUIR_A_MEJORAR)"
   ]
  },
  {
   "cell_type": "code",
   "execution_count": null,
   "metadata": {},
   "outputs": [],
   "source": [
    "def lista_en_rango(tope):\n",
    "\n",
    "    \"\"\"\n",
    "    Instrucciones:\n",
    "        Esta función recibe como parámetro\n",
    "        un número, el cual sirve como tope\n",
    "        para crear una lista con los números\n",
    "        del 0 a tope - 1, debes regresar dicha lista.\n",
    "\n",
    "    Recuerda:\n",
    "        Cuida la indentación.\n",
    "    \"\"\"\n",
    "    \n",
    "    # Escribe aquí tu código\n",
    "    \n",
    "    \n",
    "    # Escribe aquí tu código\n",
    "    \n",
    "    return # Escribe aquí tu código"
   ]
  },
  {
   "cell_type": "code",
   "execution_count": null,
   "metadata": {},
   "outputs": [],
   "source": [
    "calificador.califica_lista_en_rango(lista_en_rango, UUID, DESEO_CONTRIBUIR_A_MEJORAR)"
   ]
  },
  {
   "cell_type": "code",
   "execution_count": null,
   "metadata": {},
   "outputs": [],
   "source": [
    "def lista_en_rango_v_2(inicio, fin):\n",
    "\n",
    "    \"\"\"\n",
    "    Instrucciones:\n",
    "        Esta función recibe como parámetros\n",
    "        el inicio y fin de una lista con los números\n",
    "        que van de inicio a fin - 1.\n",
    "\n",
    "    Recuerda:\n",
    "        Cuida la indentación.\n",
    "    \"\"\"\n",
    "    \n",
    "    # Escribe aquí tu código\n",
    "    \n",
    "    \n",
    "    # Escribe aquí tu código\n",
    "    \n",
    "    return # Escribe aquí tu código"
   ]
  },
  {
   "cell_type": "code",
   "execution_count": null,
   "metadata": {},
   "outputs": [],
   "source": [
    "calificador.califica_lista_en_rango_v_2(lista_en_rango_v_2, UUID, DESEO_CONTRIBUIR_A_MEJORAR)"
   ]
  },
  {
   "cell_type": "code",
   "execution_count": null,
   "metadata": {},
   "outputs": [],
   "source": [
    "def agregar_elementos_al_final_de_una_lista(lista, elemento1, elemento2, elemento3):\n",
    "    \"\"\"\n",
    "    Instrucciones:\n",
    "        Esta función recibe como parámetros\n",
    "        una lista y tres elementos.\n",
    "        La función regresa dicha lista con los\n",
    "        3 elementos que llegan como parámetro\n",
    "        agregados al final de la lista, en el orden\n",
    "        en que llegan.\n",
    "\n",
    "        Usa el método append\n",
    "\n",
    "    Recuerda:\n",
    "        Cuida la indentación.\n",
    "    \"\"\"\n",
    "    \n",
    "    # Escribe aquí tu código\n",
    "    \n",
    "    \n",
    "    # Escribe aquí tu código\n",
    "    \n",
    "    return # Escribe aquí tu código"
   ]
  },
  {
   "cell_type": "code",
   "execution_count": null,
   "metadata": {},
   "outputs": [],
   "source": [
    "calificador.califica_agregar_elementos_al_final_de_una_lista(agregar_elementos_al_final_de_una_lista, UUID, DESEO_CONTRIBUIR_A_MEJORAR)"
   ]
  },
  {
   "cell_type": "code",
   "execution_count": null,
   "metadata": {},
   "outputs": [],
   "source": [
    "def extender_lista_con_otra_lista(lista1, lista2):\n",
    "    \"\"\"\n",
    "    Instrucciones:\n",
    "        Esta función recibe como parámetros\n",
    "        dos listas y regresa una lista con la\n",
    "        unión de ambas.\n",
    "\n",
    "        Usa el método extend\n",
    "\n",
    "    Recuerda:\n",
    "        Cuida la indentación.\n",
    "    \"\"\"\n",
    "    \n",
    "    # Escribe aquí tu código\n",
    "    \n",
    "    \n",
    "    # Escribe aquí tu código\n",
    "    \n",
    "    return # Escribe aquí tu código"
   ]
  },
  {
   "cell_type": "code",
   "execution_count": null,
   "metadata": {},
   "outputs": [],
   "source": [
    "calificador.califica_extender_lista_con_otra_lista(extender_lista_con_otra_lista, UUID, DESEO_CONTRIBUIR_A_MEJORAR)"
   ]
  },
  {
   "cell_type": "code",
   "execution_count": null,
   "metadata": {},
   "outputs": [],
   "source": [
    "def insertar_elementos_en_una_posicion(lista, elemento, posicion):\n",
    "\n",
    "    \"\"\"\n",
    "    Instrucciones:\n",
    "        Esta función recibe como parámetros\n",
    "        una lista, un elemento y una posición\n",
    "        y regresa una lista con el elemento insertado\n",
    "        en esa posición.\n",
    "\n",
    "        Usa el método insert\n",
    "\n",
    "    Recuerda:\n",
    "        Cuida la indentación.\n",
    "    \"\"\"\n",
    "    \n",
    "    # Escribe aquí tu código\n",
    "    \n",
    "    \n",
    "    # Escribe aquí tu código\n",
    "    \n",
    "    return # Escribe aquí tu código"
   ]
  },
  {
   "cell_type": "code",
   "execution_count": null,
   "metadata": {},
   "outputs": [],
   "source": [
    "calificador.califica_insertar_elementos_en_una_posicion(insertar_elementos_en_una_posicion, UUID, DESEO_CONTRIBUIR_A_MEJORAR)"
   ]
  },
  {
   "cell_type": "code",
   "execution_count": null,
   "metadata": {},
   "outputs": [],
   "source": [
    "def borrar_elemento_por_indice(lista, indice):\n",
    "    \"\"\"\n",
    "    Instrucciones:\n",
    "        Esta función recibe como parámetros\n",
    "        una lista, un índice, borra el elemento\n",
    "        en la posición índice y devuelve dicha lista\n",
    "\n",
    "        Usa la palabra del\n",
    "\n",
    "    Recuerda:\n",
    "        Cuida la indentación.\n",
    "    \"\"\"\n",
    "    \n",
    "    # Escribe aquí tu código\n",
    "\n",
    "    \n",
    "    # Escribe aquí tu código\n",
    "    \n",
    "    return # Escribe aquí tu código"
   ]
  },
  {
   "cell_type": "code",
   "execution_count": null,
   "metadata": {},
   "outputs": [],
   "source": [
    "calificador.califica_borrar_elemento_por_indice(borrar_elemento_por_indice, UUID, DESEO_CONTRIBUIR_A_MEJORAR)"
   ]
  },
  {
   "cell_type": "code",
   "execution_count": null,
   "metadata": {},
   "outputs": [],
   "source": [
    "def borrar_coincidencia(lista, elemento):\n",
    "    \"\"\"\n",
    "    Instrucciones:\n",
    "        Esta función recibe como parámetros\n",
    "        una lista, un elemento, borra el elemento\n",
    "        devuelve dicha lista\n",
    "\n",
    "        Usa el método remove\n",
    "\n",
    "    Recuerda:\n",
    "        Cuida la indentación.\n",
    "    \"\"\"\n",
    "    \n",
    "    # Escribe aquí tu código\n",
    "    \n",
    "    \n",
    "    # Escribe aquí tu código\n",
    "    \n",
    "    return # Escribe aquí tu código"
   ]
  },
  {
   "cell_type": "code",
   "execution_count": null,
   "metadata": {},
   "outputs": [],
   "source": [
    "calificador.califica_borrar_coincidencia(borrar_coincidencia, UUID, DESEO_CONTRIBUIR_A_MEJORAR)"
   ]
  },
  {
   "cell_type": "code",
   "execution_count": null,
   "metadata": {},
   "outputs": [],
   "source": [
    "def ordenar_lista(lista):\n",
    "\n",
    "    \"\"\"\n",
    "    Instrucciones:\n",
    "        Esta función recibe como parámetro\n",
    "        una lista y regresa dicha lista ordenada\n",
    "\n",
    "        Usa el método sort\n",
    "\n",
    "    Recuerda:\n",
    "        Cuida la indentación.\n",
    "    \"\"\"\n",
    "    \n",
    "    # Escribe aquí tu código\n",
    "    \n",
    "    \n",
    "    # Escribe aquí tu código\n",
    "    \n",
    "    return # Escribe aquí tu código"
   ]
  },
  {
   "cell_type": "code",
   "execution_count": null,
   "metadata": {},
   "outputs": [],
   "source": [
    "calificador.califica_ordenar_lista(ordenar_lista, UUID, DESEO_CONTRIBUIR_A_MEJORAR)"
   ]
  },
  {
   "cell_type": "code",
   "execution_count": null,
   "metadata": {},
   "outputs": [],
   "source": [
    "def asignar_en_5(lista, objeto):\n",
    "\n",
    "    \"\"\"\n",
    "    Instrucciones:\n",
    "        Esta función recibe como parámetros\n",
    "        una lista y un objeto y regresa dicha lista ordenada\n",
    "        con el objeto insertado en el índice 5\n",
    "\n",
    "\n",
    "    Recuerda:\n",
    "        Cuida la indentación.\n",
    "    \"\"\"\n",
    "    \n",
    "    # Escribe aquí tu código\n",
    "    \n",
    "    \n",
    "    # Escribe aquí tu código\n",
    "    \n",
    "    # return Escribe aquí tu código"
   ]
  },
  {
   "cell_type": "code",
   "execution_count": null,
   "metadata": {},
   "outputs": [],
   "source": [
    "calificador.califica_asignar_en_5(asignar_en_5, UUID, DESEO_CONTRIBUIR_A_MEJORAR)"
   ]
  },
  {
   "cell_type": "markdown",
   "metadata": {},
   "source": [
    "# Problemas"
   ]
  },
  {
   "cell_type": "code",
   "execution_count": null,
   "metadata": {},
   "outputs": [],
   "source": [
    "def borrar_elemento_en_estructura_compleja(estructura):\n",
    "    \"\"\"\n",
    "    Instrucciones:\n",
    "        Esta función recibe como parámetro el siguiente diccionario\n",
    "    {\n",
    "        'tiendas': {\n",
    "            'Don Pepe Chuy': [\n",
    "                {\n",
    "                    'Ventas': [100, 200, 300, -1] <=====\n",
    "                },\n",
    "                {\n",
    "                    'Ventas': [100, 200, 300]\n",
    "                }\n",
    "            ],\n",
    "            'El Ruki': [\n",
    "                {\n",
    "                    'Ventas': [234, 543, 654]\n",
    "                },\n",
    "                {\n",
    "                    'Ventas': [980, 579, 123, 0] <=====\n",
    "                }\n",
    "            ]\n",
    "        }\n",
    "    }\n",
    "\n",
    "    La función regresa el mismo diccionario sin los elementos\n",
    "    -1 y 0 de donde están las flechas\n",
    "        \n",
    "\n",
    "    Recuerda:\n",
    "        Cuida la indentación.\n",
    "    \"\"\"\n",
    "    \n",
    "    # Escribe aquí tu código\n",
    "    \n",
    "    \n",
    "    # Escribe aquí tu código\n",
    "    return # Escribe aquí tu código"
   ]
  },
  {
   "cell_type": "code",
   "execution_count": null,
   "metadata": {},
   "outputs": [],
   "source": [
    "calificador.califica_borrar_elemento_en_estructura_compleja(borrar_elemento_en_estructura_compleja, UUID, DESEO_CONTRIBUIR_A_MEJORAR)"
   ]
  },
  {
   "cell_type": "code",
   "execution_count": null,
   "metadata": {},
   "outputs": [],
   "source": [
    "def obtener_promedio(alumnos):\n",
    "\n",
    "    \"\"\"\n",
    "    Instrucciones:\n",
    "        Esta función recibe como parámetro el siguiente diccionario\n",
    "    {\n",
    "    'Pepe':[\n",
    "            {'nombre': 'primer parcial', 'calif': 9},\n",
    "            {'nombre': 'segundo parcial', 'calif': 10}\n",
    "        ],\n",
    "    'Juan': [\n",
    "            {'nombre': 'primer parcial', 'calif': 9},\n",
    "            {'nombre': 'segundo parcial', 'calif': 10}\n",
    "        ]\n",
    "    }\n",
    "\n",
    "    La función regresa un diccionario con dos claves\n",
    "    'Pepe' y 'Juan' y cuyos valores son el promedio \n",
    "    de Pepe y Juan\n",
    "\n",
    "    Recuerda:\n",
    "        Cuida la indentación.\n",
    "    \"\"\"\n",
    "    \n",
    "    # Escribe aquí tu código\n",
    "    \n",
    "    \n",
    "    # Escribe aquí tu código\n",
    "    \n",
    "    return # Escribe aquí tu código"
   ]
  },
  {
   "cell_type": "code",
   "execution_count": null,
   "metadata": {},
   "outputs": [],
   "source": [
    "calificador.califica_obtener_promedio(obtener_promedio, UUID, DESEO_CONTRIBUIR_A_MEJORAR)"
   ]
  },
  {
   "cell_type": "code",
   "execution_count": null,
   "metadata": {},
   "outputs": [],
   "source": []
  }
 ],
 "metadata": {
  "interpreter": {
   "hash": "52e906d48b26901c718c7cd569792dc03a2dc8ecec1e49796e8e9092c38d0e33"
  },
  "kernelspec": {
   "display_name": "Python 3.9.7 64-bit ('jupyterservices': conda)",
   "language": "python",
   "name": "python3"
  },
  "language_info": {
   "codemirror_mode": {
    "name": "ipython",
    "version": 3
   },
   "file_extension": ".py",
   "mimetype": "text/x-python",
   "name": "python",
   "nbconvert_exporter": "python",
   "pygments_lexer": "ipython3",
   "version": "3.9.7"
  },
  "orig_nbformat": 4
 },
 "nbformat": 4,
 "nbformat_minor": 2
}
