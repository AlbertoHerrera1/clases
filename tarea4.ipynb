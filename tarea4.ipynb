{
 "cells": [
  {
   "cell_type": "code",
   "execution_count": 1,
   "metadata": {},
   "outputs": [
    {
     "name": "stdout",
     "output_type": "stream",
     "text": [
      "28\n"
     ]
    }
   ],
   "source": [
    "#\n",
    "#\n",
    "# EJECUTAR ESTA CELDA\n",
    "#\n",
    "#\n",
    "\n",
    "#####################################\n",
    "#       Estructuras de datos\n",
    "#####################################\n",
    "\n",
    "\n",
    "import calificador\n",
    "UUID = \"aqsxwedcrfvtgbyhnujmikl,opñl\"\n",
    "print(len(UUID))\n",
    "DESEO_CONTRIBUIR_A_MEJORAR = True"
   ]
  },
  {
   "cell_type": "markdown",
   "metadata": {},
   "source": [
    "# Ejercicios"
   ]
  },
  {
   "cell_type": "code",
   "execution_count": 2,
   "metadata": {},
   "outputs": [],
   "source": [
    "def creacion_de_lista_vacia():\n",
    "    return []"
   ]
  },
  {
   "cell_type": "code",
   "execution_count": 3,
   "metadata": {},
   "outputs": [
    {
     "name": "stdout",
     "output_type": "stream",
     "text": [
      "=====================================================================\n",
      "\n",
      "============> Calificando t3-creacion_de_lista_vacia <============\n",
      "\n",
      "=====================================================================\n",
      "\n",
      "\n",
      "        ======================================================\n",
      "                    ||          Calificación: 100.0            \n",
      "                    ||          Aciertos: 1                   \n",
      "                    ||          Errores: 0                     \n",
      "        ======================================================\n",
      "            \n",
      "======> Casos existosos: <======\n",
      "\n",
      "Valores de entrada: None.                     Valor esperado: [].                     Valor obtenido: []\n",
      "\n",
      "======> No hubo errores :D <======\n",
      "\n",
      "============> Enviando calificación <============\n",
      "\n",
      "============> Calificación recibida <============\n",
      "\n"
     ]
    }
   ],
   "source": [
    "calificador.califica_creacion_de_lista_vacia(creacion_de_lista_vacia, UUID, DESEO_CONTRIBUIR_A_MEJORAR)"
   ]
  },
  {
   "cell_type": "code",
   "execution_count": 4,
   "metadata": {},
   "outputs": [],
   "source": [
    "def creacion_de_una_tupla_vacia():\n",
    "    return ()"
   ]
  },
  {
   "cell_type": "code",
   "execution_count": 5,
   "metadata": {},
   "outputs": [
    {
     "name": "stdout",
     "output_type": "stream",
     "text": [
      "=====================================================================\n",
      "\n",
      "============> Calificando t3-creacion_de_una_tupla_vacia <============\n",
      "\n",
      "=====================================================================\n",
      "\n",
      "\n",
      "        ======================================================\n",
      "                    ||          Calificación: 100.0            \n",
      "                    ||          Aciertos: 1                   \n",
      "                    ||          Errores: 0                     \n",
      "        ======================================================\n",
      "            \n",
      "======> Casos existosos: <======\n",
      "\n",
      "Valores de entrada: None.                     Valor esperado: ().                     Valor obtenido: ()\n",
      "\n",
      "======> No hubo errores :D <======\n",
      "\n",
      "============> Enviando calificación <============\n",
      "\n",
      "============> Calificación recibida <============\n",
      "\n"
     ]
    }
   ],
   "source": [
    "calificador.califica_creacion_de_una_tupla_vacia(creacion_de_una_tupla_vacia, UUID, DESEO_CONTRIBUIR_A_MEJORAR)"
   ]
  },
  {
   "cell_type": "code",
   "execution_count": 6,
   "metadata": {},
   "outputs": [],
   "source": [
    "def creacion_de_un_diccionario_vacio():\n",
    "    return {}"
   ]
  },
  {
   "cell_type": "code",
   "execution_count": 7,
   "metadata": {},
   "outputs": [
    {
     "name": "stdout",
     "output_type": "stream",
     "text": [
      "=====================================================================\n",
      "\n",
      "============> Calificando t3-creacion_de_un_diccionario_vacio <============\n",
      "\n",
      "=====================================================================\n",
      "\n",
      "\n",
      "        ======================================================\n",
      "                    ||          Calificación: 100.0            \n",
      "                    ||          Aciertos: 1                   \n",
      "                    ||          Errores: 0                     \n",
      "        ======================================================\n",
      "            \n",
      "======> Casos existosos: <======\n",
      "\n",
      "Valores de entrada: None.                     Valor esperado: {}.                     Valor obtenido: {}\n",
      "\n",
      "======> No hubo errores :D <======\n",
      "\n",
      "============> Enviando calificación <============\n",
      "\n",
      "============> Calificación recibida <============\n",
      "\n"
     ]
    }
   ],
   "source": [
    "calificador.califica_creacion_de_un_diccionario_vacio(creacion_de_un_diccionario_vacio, UUID, DESEO_CONTRIBUIR_A_MEJORAR)"
   ]
  },
  {
   "cell_type": "code",
   "execution_count": 8,
   "metadata": {},
   "outputs": [],
   "source": [
    "def obtener_longitud_de_una_lista(lista):\n",
    "    return len(lista)"
   ]
  },
  {
   "cell_type": "code",
   "execution_count": 9,
   "metadata": {},
   "outputs": [
    {
     "name": "stdout",
     "output_type": "stream",
     "text": [
      "=====================================================================\n",
      "\n",
      "============> Calificando t3-obtener_longitu_de_una_lista <============\n",
      "\n",
      "=====================================================================\n",
      "\n",
      "\n",
      "        ======================================================\n",
      "                    ||          Calificación: 100.0            \n",
      "                    ||          Aciertos: 4                   \n",
      "                    ||          Errores: 0                     \n",
      "        ======================================================\n",
      "            \n",
      "======> Casos existosos: <======\n",
      "\n",
      "Valores de entrada: [].                     Valor esperado: 0.                     Valor obtenido: 0\n",
      "\n",
      "Valores de entrada: [1, 2, 3].                     Valor esperado: 3.                     Valor obtenido: 3\n",
      "\n",
      "Valores de entrada: [1, 2, 3, 4, 5, 6, 7, 8, 9, 10].                     Valor esperado: 10.                     Valor obtenido: 10\n",
      "\n",
      "Valores de entrada: [0, 1, 2, 3, 4, 5, 6, 7, 8, 9, 10, 11, 12, 13, 14, 15, 16, 17, 18, 19, 20, 21, 22, 23, 24, 25, 26, 27, 28, 29, 30, 31, 32, 33, 34, 35, 36, 37, 38, 39, 40, 41, 42, 43, 44, 45, 46, 47, 48, 49, 50, 51, 52, 53, 54, 55, 56, 57, 58, 59, 60, 61, 62, 63, 64, 65, 66, 67, 68, 69, 70, 71, 72, 73, 74, 75, 76, 77, 78, 79, 80, 81, 82, 83, 84, 85, 86, 87, 88, 89, 90, 91, 92, 93, 94, 95, 96, 97, 98, 99].                     Valor esperado: 100.                     Valor obtenido: 100\n",
      "\n",
      "======> No hubo errores :D <======\n",
      "\n",
      "============> Enviando calificación <============\n",
      "\n",
      "============> Calificación recibida <============\n",
      "\n"
     ]
    }
   ],
   "source": [
    "calificador.califica_obtener_longitud_de_una_lista(obtener_longitud_de_una_lista, UUID, DESEO_CONTRIBUIR_A_MEJORAR)"
   ]
  },
  {
   "cell_type": "code",
   "execution_count": 10,
   "metadata": {},
   "outputs": [],
   "source": [
    "def obtener_longitud_de_una_tupla(tupla):\n",
    "    return len(tupla)"
   ]
  },
  {
   "cell_type": "code",
   "execution_count": 11,
   "metadata": {},
   "outputs": [
    {
     "name": "stdout",
     "output_type": "stream",
     "text": [
      "=====================================================================\n",
      "\n",
      "============> Calificando t3-obtener_longitud_de_una_tupla <============\n",
      "\n",
      "=====================================================================\n",
      "\n",
      "\n",
      "        ======================================================\n",
      "                    ||          Calificación: 100.0            \n",
      "                    ||          Aciertos: 4                   \n",
      "                    ||          Errores: 0                     \n",
      "        ======================================================\n",
      "            \n",
      "======> Casos existosos: <======\n",
      "\n",
      "Valores de entrada: ().                     Valor esperado: 0.                     Valor obtenido: 0\n",
      "\n",
      "Valores de entrada: (1, 2, 3).                     Valor esperado: 3.                     Valor obtenido: 3\n",
      "\n",
      "Valores de entrada: (1, 2, 3, 4, 5, 6, 7, 8, 9, 10).                     Valor esperado: 10.                     Valor obtenido: 10\n",
      "\n",
      "Valores de entrada: (0, 1, 2, 3, 4, 5, 6, 7, 8, 9, 10, 11, 12, 13, 14, 15, 16, 17, 18, 19, 20, 21, 22, 23, 24, 25, 26, 27, 28, 29, 30, 31, 32, 33, 34, 35, 36, 37, 38, 39, 40, 41, 42, 43, 44, 45, 46, 47, 48, 49, 50, 51, 52, 53, 54, 55, 56, 57, 58, 59, 60, 61, 62, 63, 64, 65, 66, 67, 68, 69, 70, 71, 72, 73, 74, 75, 76, 77, 78, 79, 80, 81, 82, 83, 84, 85, 86, 87, 88, 89, 90, 91, 92, 93, 94, 95, 96, 97, 98, 99).                     Valor esperado: 100.                     Valor obtenido: 100\n",
      "\n",
      "======> No hubo errores :D <======\n",
      "\n",
      "============> Enviando calificación <============\n",
      "\n",
      "============> Calificación recibida <============\n",
      "\n"
     ]
    }
   ],
   "source": [
    "calificador.califica_obtener_longitud_de_una_tupla(obtener_longitud_de_una_tupla, UUID, DESEO_CONTRIBUIR_A_MEJORAR)"
   ]
  },
  {
   "cell_type": "code",
   "execution_count": 12,
   "metadata": {},
   "outputs": [],
   "source": [
    "def obtener_longitud_de_un_diccionario(diccionario):\n",
    "    return len(diccionario)"
   ]
  },
  {
   "cell_type": "code",
   "execution_count": 13,
   "metadata": {},
   "outputs": [
    {
     "name": "stdout",
     "output_type": "stream",
     "text": [
      "=====================================================================\n",
      "\n",
      "============> Calificando t3-obtener_longitud_de_un_diccionario <============\n",
      "\n",
      "=====================================================================\n",
      "\n",
      "\n",
      "        ======================================================\n",
      "                    ||          Calificación: 100.0            \n",
      "                    ||          Aciertos: 4                   \n",
      "                    ||          Errores: 0                     \n",
      "        ======================================================\n",
      "            \n",
      "======> Casos existosos: <======\n",
      "\n",
      "Valores de entrada: {}.                     Valor esperado: 0.                     Valor obtenido: 0\n",
      "\n",
      "Valores de entrada: {'Uno': 1, 'Dos': 2, 'Tres': 3}.                     Valor esperado: 3.                     Valor obtenido: 3\n",
      "\n",
      "Valores de entrada: {'Dia': 'Martes'}.                     Valor esperado: 1.                     Valor obtenido: 1\n",
      "\n",
      "Valores de entrada: {'Curso': 'Python de la a a la z', 'Fecha': '17 de enero'}.                     Valor esperado: 2.                     Valor obtenido: 2\n",
      "\n",
      "======> No hubo errores :D <======\n",
      "\n",
      "============> Enviando calificación <============\n",
      "\n",
      "============> Calificación recibida <============\n",
      "\n"
     ]
    }
   ],
   "source": [
    "calificador.califica_obtener_longitud_de_un_diccionario(obtener_longitud_de_un_diccionario, UUID, DESEO_CONTRIBUIR_A_MEJORAR)"
   ]
  },
  {
   "cell_type": "code",
   "execution_count": 2,
   "metadata": {},
   "outputs": [],
   "source": [
    "def creacion_de_una_lista_con_exactamente_un_elemento(elemento):\n",
    "    return [elemento]"
   ]
  },
  {
   "cell_type": "code",
   "execution_count": 3,
   "metadata": {},
   "outputs": [
    {
     "name": "stdout",
     "output_type": "stream",
     "text": [
      "=====================================================================\n",
      "\n",
      "============> Calificando t3-creacion_de_una_lista_con_exactamente_un_elemento <============\n",
      "\n",
      "=====================================================================\n",
      "\n",
      "\n",
      "        ======================================================\n",
      "                    ||          Calificación: 100.0            \n",
      "                    ||          Aciertos: 4                   \n",
      "                    ||          Errores: 0                     \n",
      "        ======================================================\n",
      "            \n",
      "======> Casos existosos: <======\n",
      "\n",
      "Valores de entrada: 1.                     Valor esperado: [1].                     Valor obtenido: [1]\n",
      "\n",
      "Valores de entrada: {'Uno': 1, 'Dos': 2, 'Tres': 3}.                     Valor esperado: [{'Uno': 1, 'Dos': 2, 'Tres': 3}].                     Valor obtenido: [{'Uno': 1, 'Dos': 2, 'Tres': 3}]\n",
      "\n",
      "Valores de entrada: {'Dia': 'Martes'}.                     Valor esperado: [{'Dia': 'Martes'}].                     Valor obtenido: [{'Dia': 'Martes'}]\n",
      "\n",
      "Valores de entrada: {'Curso': 'Python de la a a la z', 'Fecha': '17 de enero'}.                     Valor esperado: [{'Curso': 'Python de la a a la z', 'Fecha': '17 de enero'}].                     Valor obtenido: [{'Curso': 'Python de la a a la z', 'Fecha': '17 de enero'}]\n",
      "\n",
      "======> No hubo errores :D <======\n",
      "\n",
      "============> Enviando calificación <============\n",
      "\n",
      "============> Calificación recibida <============\n",
      "\n"
     ]
    }
   ],
   "source": [
    "calificador.califica_creacion_de_una_lista_con_exactamente_un_elemento(creacion_de_una_lista_con_exactamente_un_elemento, UUID, DESEO_CONTRIBUIR_A_MEJORAR)"
   ]
  },
  {
   "cell_type": "code",
   "execution_count": 2,
   "metadata": {},
   "outputs": [],
   "source": [
    "def creacion_de_una_tupla_con_exactamente_un_elemento(elemento):\n",
    "    return tuple((elemento,))"
   ]
  },
  {
   "cell_type": "code",
   "execution_count": 3,
   "metadata": {},
   "outputs": [
    {
     "name": "stdout",
     "output_type": "stream",
     "text": [
      "=====================================================================\n",
      "\n",
      "============> Calificando t3-creacion_de_una_tupla_con_exactamente_un_elemento <============\n",
      "\n",
      "=====================================================================\n",
      "\n",
      "\n",
      "        ======================================================\n",
      "                    ||          Calificación: 100.0            \n",
      "                    ||          Aciertos: 4                   \n",
      "                    ||          Errores: 0                     \n",
      "        ======================================================\n",
      "            \n",
      "======> Casos existosos: <======\n",
      "\n",
      "Valores de entrada: 1.                     Valor esperado: (1,).                     Valor obtenido: (1,)\n",
      "\n",
      "Valores de entrada: {'Uno': 1, 'Dos': 2, 'Tres': 3}.                     Valor esperado: ({'Uno': 1, 'Dos': 2, 'Tres': 3},).                     Valor obtenido: ({'Uno': 1, 'Dos': 2, 'Tres': 3},)\n",
      "\n",
      "Valores de entrada: {'Dia': 'Martes'}.                     Valor esperado: ({'Dia': 'Martes'},).                     Valor obtenido: ({'Dia': 'Martes'},)\n",
      "\n",
      "Valores de entrada: {'Curso': 'Python de la a a la z', 'Fecha': '17 de enero'}.                     Valor esperado: ({'Curso': 'Python de la a a la z', 'Fecha': '17 de enero'},).                     Valor obtenido: ({'Curso': 'Python de la a a la z', 'Fecha': '17 de enero'},)\n",
      "\n",
      "======> No hubo errores :D <======\n",
      "\n",
      "============> Enviando calificación <============\n",
      "\n",
      "============> Calificación recibida <============\n",
      "\n"
     ]
    }
   ],
   "source": [
    "calificador.califica_creacion_de_una_tupla_con_exactamente_un_elemento(creacion_de_una_tupla_con_exactamente_un_elemento, UUID, DESEO_CONTRIBUIR_A_MEJORAR)"
   ]
  },
  {
   "cell_type": "code",
   "execution_count": 4,
   "metadata": {},
   "outputs": [],
   "source": [
    "def creacion_de_un_diccionario_con_clave_edad(edad):\n",
    "    return {'edad': edad}"
   ]
  },
  {
   "cell_type": "code",
   "execution_count": 5,
   "metadata": {},
   "outputs": [
    {
     "name": "stdout",
     "output_type": "stream",
     "text": [
      "=====================================================================\n",
      "\n",
      "============> Calificando t3-creacion_de_un_diccionario_con_clave_edad <============\n",
      "\n",
      "=====================================================================\n",
      "\n",
      "\n",
      "        ======================================================\n",
      "                    ||          Calificación: 100.0            \n",
      "                    ||          Aciertos: 2                   \n",
      "                    ||          Errores: 0                     \n",
      "        ======================================================\n",
      "            \n",
      "======> Casos existosos: <======\n",
      "\n",
      "Valores de entrada: 27.                     Valor esperado: {'edad': 27}.                     Valor obtenido: {'edad': 27}\n",
      "\n",
      "Valores de entrada: 60.                     Valor esperado: {'edad': 60}.                     Valor obtenido: {'edad': 60}\n",
      "\n",
      "======> No hubo errores :D <======\n",
      "\n",
      "============> Enviando calificación <============\n",
      "\n",
      "============> Calificación recibida <============\n",
      "\n"
     ]
    }
   ],
   "source": [
    "calificador.califica_creacion_de_un_diccionario_con_clave_edad(creacion_de_un_diccionario_con_clave_edad, UUID, DESEO_CONTRIBUIR_A_MEJORAR)"
   ]
  },
  {
   "cell_type": "code",
   "execution_count": 6,
   "metadata": {},
   "outputs": [],
   "source": [
    "def creacion_de_una_lista_con_tres_elementos():\n",
    "    return ['a', 'b', 'c']"
   ]
  },
  {
   "cell_type": "code",
   "execution_count": 7,
   "metadata": {},
   "outputs": [
    {
     "name": "stdout",
     "output_type": "stream",
     "text": [
      "=====================================================================\n",
      "\n",
      "============> Calificando t3-creacion_de_una_lista_con_tres_elementos <============\n",
      "\n",
      "=====================================================================\n",
      "\n",
      "\n",
      "        ======================================================\n",
      "                    ||          Calificación: 100.0            \n",
      "                    ||          Aciertos: 1                   \n",
      "                    ||          Errores: 0                     \n",
      "        ======================================================\n",
      "            \n",
      "======> Casos existosos: <======\n",
      "\n",
      "Valores de entrada: None.                     Valor esperado: ['a', 'b', 'c'].                     Valor obtenido: ['a', 'b', 'c']\n",
      "\n",
      "======> No hubo errores :D <======\n",
      "\n",
      "============> Enviando calificación <============\n",
      "\n",
      "============> Calificación recibida <============\n",
      "\n"
     ]
    }
   ],
   "source": [
    "calificador.califica_creacion_de_una_lista_con_tres_elementos(creacion_de_una_lista_con_tres_elementos, UUID, DESEO_CONTRIBUIR_A_MEJORAR)"
   ]
  },
  {
   "cell_type": "code",
   "execution_count": 8,
   "metadata": {},
   "outputs": [],
   "source": [
    "def creacion_de_una_tupla_con_tres_elementos():\n",
    "    return ('a', '1', 'b')"
   ]
  },
  {
   "cell_type": "code",
   "execution_count": 9,
   "metadata": {},
   "outputs": [
    {
     "name": "stdout",
     "output_type": "stream",
     "text": [
      "=====================================================================\n",
      "\n",
      "============> Calificando t3-creacion_de_una_tupla_con_tres_elementos <============\n",
      "\n",
      "=====================================================================\n",
      "\n",
      "\n",
      "        ======================================================\n",
      "                    ||          Calificación: 100.0            \n",
      "                    ||          Aciertos: 1                   \n",
      "                    ||          Errores: 0                     \n",
      "        ======================================================\n",
      "            \n",
      "======> Casos existosos: <======\n",
      "\n",
      "Valores de entrada: None.                     Valor esperado: ('a', '1', 'b').                     Valor obtenido: ('a', '1', 'b')\n",
      "\n",
      "======> No hubo errores :D <======\n",
      "\n",
      "============> Enviando calificación <============\n",
      "\n",
      "============> Calificación recibida <============\n",
      "\n"
     ]
    }
   ],
   "source": [
    "calificador.califica_creacion_de_una_tupla_con_tres_elementos(creacion_de_una_tupla_con_tres_elementos, UUID, DESEO_CONTRIBUIR_A_MEJORAR)"
   ]
  },
  {
   "cell_type": "code",
   "execution_count": 24,
   "metadata": {},
   "outputs": [],
   "source": [
    "def acceder_al_elemento_5():\n",
    "    lista = [1,2,3,4,5,6]\n",
    "    return lista[5]"
   ]
  },
  {
   "cell_type": "code",
   "execution_count": 25,
   "metadata": {},
   "outputs": [
    {
     "name": "stdout",
     "output_type": "stream",
     "text": [
      "=====================================================================\n",
      "\n",
      "============> Calificando t3-acceder_al_elemento_5 <============\n",
      "\n",
      "=====================================================================\n",
      "\n",
      "\n",
      "        ======================================================\n",
      "                    ||          Calificación: 100.0            \n",
      "                    ||          Aciertos: 1                   \n",
      "                    ||          Errores: 0                     \n",
      "        ======================================================\n",
      "            \n",
      "======> Casos existosos: <======\n",
      "\n",
      "Valores de entrada: None.                 Valor esperado: 6.                 Valor obtenido: 6\n",
      "\n",
      "======> No hubo errores :D <======\n",
      "\n",
      "============> Enviando calificación <============\n",
      "\n",
      "============> Calificación recibida <============\n",
      "\n"
     ]
    }
   ],
   "source": [
    "calificador.califica_acceder_al_elemento_5(acceder_al_elemento_5, UUID, DESEO_CONTRIBUIR_A_MEJORAR)"
   ]
  },
  {
   "cell_type": "code",
   "execution_count": 2,
   "metadata": {},
   "outputs": [],
   "source": [
    "def acceder_al_ultimo_elemento_de_una_tupla_en_rango(tope):\n",
    "    return tuple(range(tope))[-1]"
   ]
  },
  {
   "cell_type": "code",
   "execution_count": 3,
   "metadata": {},
   "outputs": [
    {
     "name": "stdout",
     "output_type": "stream",
     "text": [
      "=====================================================================\n",
      "\n",
      "============> Calificando t3-acceder_al_ultimo_elemento_de_una_tupla_en_rango <============\n",
      "\n",
      "=====================================================================\n",
      "\n",
      "\n",
      "        ======================================================\n",
      "                    ||          Calificación: 100.0            \n",
      "                    ||          Aciertos: 3                   \n",
      "                    ||          Errores: 0                     \n",
      "        ======================================================\n",
      "            \n",
      "======> Casos existosos: <======\n",
      "\n",
      "Valores de entrada: 27.                     Valor esperado: 26.                     Valor obtenido: 26\n",
      "\n",
      "Valores de entrada: 60.                     Valor esperado: 59.                     Valor obtenido: 59\n",
      "\n",
      "Valores de entrada: 101.                     Valor esperado: 100.                     Valor obtenido: 100\n",
      "\n",
      "======> No hubo errores :D <======\n",
      "\n",
      "============> Enviando calificación <============\n",
      "\n",
      "============> Calificación recibida <============\n",
      "\n"
     ]
    }
   ],
   "source": [
    "calificador.califica_acceder_al_ultimo_elemento_de_una_tupla_en_rango(acceder_al_ultimo_elemento_de_una_tupla_en_rango, UUID, DESEO_CONTRIBUIR_A_MEJORAR)"
   ]
  },
  {
   "cell_type": "code",
   "execution_count": 2,
   "metadata": {},
   "outputs": [],
   "source": [
    "def conjunto_con_elementos_del_1_al_5():\n",
    "    return {1,2,3,4,5}"
   ]
  },
  {
   "cell_type": "code",
   "execution_count": 3,
   "metadata": {},
   "outputs": [
    {
     "name": "stdout",
     "output_type": "stream",
     "text": [
      "=====================================================================\n",
      "\n",
      "============> Calificando t3-conjunto_con_elementos_del_1_al_5 <============\n",
      "\n",
      "=====================================================================\n",
      "\n",
      "\n",
      "        ======================================================\n",
      "                    ||          Calificación: 100.0            \n",
      "                    ||          Aciertos: 1                   \n",
      "                    ||          Errores: 0                     \n",
      "        ======================================================\n",
      "            \n",
      "======> Casos existosos: <======\n",
      "\n",
      "Valores de entrada: None.                     Valor esperado: {1, 2, 3, 4, 5}.                     Valor obtenido: {1, 2, 3, 4, 5}\n",
      "\n",
      "======> No hubo errores :D <======\n",
      "\n",
      "============> Enviando calificación <============\n",
      "\n",
      "============> Calificación recibida <============\n",
      "\n"
     ]
    }
   ],
   "source": [
    "calificador.califica_conjunto_con_elementos_del_1_al_5(conjunto_con_elementos_del_1_al_5, UUID, DESEO_CONTRIBUIR_A_MEJORAR)"
   ]
  },
  {
   "cell_type": "code",
   "execution_count": 2,
   "metadata": {},
   "outputs": [],
   "source": [
    "def conjunto_con_tres_palabras(p1, p2, p3):\n",
    "    return {p1, p2, p3}"
   ]
  },
  {
   "cell_type": "code",
   "execution_count": 3,
   "metadata": {},
   "outputs": [
    {
     "name": "stdout",
     "output_type": "stream",
     "text": [
      "=====================================================================\n",
      "\n",
      "============> Calificando t3-conjunto_con_tres_palabras <============\n",
      "\n",
      "=====================================================================\n",
      "\n",
      "\n",
      "        ======================================================\n",
      "                    ||          Calificación: 100.0            \n",
      "                    ||          Aciertos: 1                   \n",
      "                    ||          Errores: 0                     \n",
      "        ======================================================\n",
      "            \n",
      "======> Casos existosos: <======\n",
      "\n",
      "Valores de entrada: Hola.                     Valor esperado: {'Aloha', 'Saludos', 'Hola'}.                     Valor obtenido: {'Aloha', 'Saludos', 'Hola'}\n",
      "\n",
      "======> No hubo errores :D <======\n",
      "\n",
      "============> Enviando calificación <============\n",
      "\n",
      "============> Calificación recibida <============\n",
      "\n"
     ]
    }
   ],
   "source": [
    "calificador.califica_conjunto_con_tres_palabras(conjunto_con_tres_palabras, UUID, DESEO_CONTRIBUIR_A_MEJORAR)"
   ]
  },
  {
   "cell_type": "code",
   "execution_count": 2,
   "metadata": {},
   "outputs": [],
   "source": [
    "def creacion_de_diccionario_dentro_de_otro_diccionario():\n",
    "    return {\n",
    "    'estado': 'Activo',\n",
    "    'datos': {\n",
    "        'curso': 'Python de la A a la Z',\n",
    "        'tareas': 3\n",
    "        }\n",
    "    }"
   ]
  },
  {
   "cell_type": "code",
   "execution_count": 3,
   "metadata": {},
   "outputs": [
    {
     "name": "stdout",
     "output_type": "stream",
     "text": [
      "=====================================================================\n",
      "\n",
      "============> Calificando t3-creacion_de_diccionario_dentro_de_otro_diccionario <============\n",
      "\n",
      "=====================================================================\n",
      "\n",
      "\n",
      "        ======================================================\n",
      "                    ||          Calificación: 0.0            \n",
      "                    ||          Aciertos: 0                   \n",
      "                    ||          Errores: 1                     \n",
      "        ======================================================\n",
      "            \n",
      "======> Casos existosos: <======\n",
      "\n",
      "======> Casos con error <======\n",
      "\n",
      "Valores de entrada: None.                         Valor esperado: {'estado': 'Activo', 'datos': {'curso': 'Python de la A a la Z', 'tareas': 2}}.                         Valor obtenido: {'estado': 'Activo', 'datos': {'curso': 'Python de la A a la Z', 'tareas': 3}}\n",
      "\n",
      "============> Enviando calificación <============\n",
      "\n",
      "============> Calificación recibida <============\n",
      "\n"
     ]
    }
   ],
   "source": [
    "calificador.califica_creacion_de_diccionario_dentro_de_otro_diccionario(creacion_de_diccionario_dentro_de_otro_diccionario, UUID, DESEO_CONTRIBUIR_A_MEJORAR)"
   ]
  },
  {
   "cell_type": "code",
   "execution_count": 2,
   "metadata": {},
   "outputs": [],
   "source": [
    "def creacion_de_lista_de_diccionarios():\n",
    "    return [\n",
    "        {\"pais\": \"México\", \"nombre oficial\": \"Estados Unidos Mexicanos\"},\n",
    "        {\"pais\": \"Estados Unidos\", \"nombre oficial\": \"Estados Unidos de América\"}\n",
    "    ]"
   ]
  },
  {
   "cell_type": "code",
   "execution_count": 3,
   "metadata": {},
   "outputs": [
    {
     "name": "stdout",
     "output_type": "stream",
     "text": [
      "=====================================================================\n",
      "\n",
      "============> Calificando t3-creacion_de_lista_de_diccionarios <============\n",
      "\n",
      "=====================================================================\n",
      "\n",
      "\n",
      "        ======================================================\n",
      "                    ||          Calificación: 100.0            \n",
      "                    ||          Aciertos: 1                   \n",
      "                    ||          Errores: 0                     \n",
      "        ======================================================\n",
      "            \n",
      "======> Casos existosos: <======\n",
      "\n",
      "Valores de entrada: None.                     Valor esperado: [{'pais': 'México', 'nombre oficial': 'Estados Unidos Mexicanos'}, {'pais': 'Estados Unidos', 'nombre oficial': 'Estados Unidos de América'}].                     Valor obtenido: [{'pais': 'México', 'nombre oficial': 'Estados Unidos Mexicanos'}, {'pais': 'Estados Unidos', 'nombre oficial': 'Estados Unidos de América'}]\n",
      "\n",
      "======> No hubo errores :D <======\n",
      "\n",
      "============> Enviando calificación <============\n",
      "\n",
      "============> Calificación recibida <============\n",
      "\n"
     ]
    }
   ],
   "source": [
    "calificador.califica_creacion_de_lista_de_diccionarios(creacion_de_lista_de_diccionarios, UUID, DESEO_CONTRIBUIR_A_MEJORAR)"
   ]
  },
  {
   "cell_type": "code",
   "execution_count": 4,
   "metadata": {},
   "outputs": [],
   "source": [
    "def creacion_de_diccionario_con_listas():\n",
    "    return {\n",
    "        \"tarea1\": [\n",
    "            10, 10, 8\n",
    "        ],\n",
    "        \"tarea2\": [\n",
    "            10, 8, 7\n",
    "        ]\n",
    "    }"
   ]
  },
  {
   "cell_type": "code",
   "execution_count": 5,
   "metadata": {},
   "outputs": [
    {
     "name": "stdout",
     "output_type": "stream",
     "text": [
      "=====================================================================\n",
      "\n",
      "============> Calificando t3-creacion_de_diccionario_con_listas <============\n",
      "\n",
      "=====================================================================\n",
      "\n",
      "\n",
      "        ======================================================\n",
      "                    ||          Calificación: 100.0            \n",
      "                    ||          Aciertos: 1                   \n",
      "                    ||          Errores: 0                     \n",
      "        ======================================================\n",
      "            \n",
      "======> Casos existosos: <======\n",
      "\n",
      "Valores de entrada: None.                     Valor esperado: {'tarea1': [10, 10, 8], 'tarea2': [10, 8, 7]}.                     Valor obtenido: {'tarea1': [10, 10, 8], 'tarea2': [10, 8, 7]}\n",
      "\n",
      "======> No hubo errores :D <======\n",
      "\n",
      "============> Enviando calificación <============\n",
      "\n",
      "============> Calificación recibida <============\n",
      "\n"
     ]
    }
   ],
   "source": [
    "calificador.califica_creacion_de_diccionario_con_listas(creacion_de_diccionario_con_listas, UUID, DESEO_CONTRIBUIR_A_MEJORAR)"
   ]
  },
  {
   "cell_type": "code",
   "execution_count": null,
   "metadata": {},
   "outputs": [],
   "source": [
    "def creacion_de_diccionario_con_tuplas():\n",
    "    return {\n",
    "        \"historial\": ((3,5,1,6), (56,2,1,7), (62,4,78,3))\n",
    "    }"
   ]
  },
  {
   "cell_type": "code",
   "execution_count": null,
   "metadata": {},
   "outputs": [],
   "source": [
    "def creacion_de_diccionario_a_partir_de_clave(clave, valor):\n",
    "    return {clave: valor}"
   ]
  },
  {
   "cell_type": "code",
   "execution_count": null,
   "metadata": {},
   "outputs": [],
   "source": [
    "def lista_hasta_10000():\n",
    "    return list(range(10001))"
   ]
  },
  {
   "cell_type": "code",
   "execution_count": null,
   "metadata": {},
   "outputs": [],
   "source": [
    "def lista_en_rango(tope):\n",
    "    return list(range(tope))"
   ]
  },
  {
   "cell_type": "code",
   "execution_count": null,
   "metadata": {},
   "outputs": [],
   "source": [
    "def lista_en_rango_v_2(inicio, fin):\n",
    "    return list(range(inicio, fin))"
   ]
  },
  {
   "cell_type": "code",
   "execution_count": null,
   "metadata": {},
   "outputs": [],
   "source": [
    "def agregar_elementos_al_final_de_una_ista(elemento1, elemento2, elemento3):\n",
    "    lista = []\n",
    "    lista.append(elemento1)\n",
    "    lista.append(elemento2)\n",
    "    lista.append(elemento3)\n",
    "    return lista"
   ]
  },
  {
   "cell_type": "code",
   "execution_count": null,
   "metadata": {},
   "outputs": [],
   "source": [
    "def extender_lista_con_otra_lista(lista1, lista2):\n",
    "    return lista1.extend(lista2)"
   ]
  },
  {
   "cell_type": "code",
   "execution_count": null,
   "metadata": {},
   "outputs": [],
   "source": [
    "def insertar_elementos_en_una_posicion(lista, elemento, posicion):\n",
    "    return lista.insert(posicion, elemento)"
   ]
  },
  {
   "cell_type": "code",
   "execution_count": null,
   "metadata": {},
   "outputs": [],
   "source": [
    "def borrar_elemento_por_indice(indice):\n",
    "    lista = [1,2,3,4,5,6,7,8,9]\n",
    "    del lista[indice]\n",
    "    return lista"
   ]
  },
  {
   "cell_type": "code",
   "execution_count": null,
   "metadata": {},
   "outputs": [],
   "source": [
    "def borrar_coincidencia(elemento):\n",
    "    lista = [1, 'hola', 2, 'salduo', 3, 'adiós']\n",
    "    lista.remove(elemento)\n",
    "    return lista"
   ]
  },
  {
   "cell_type": "code",
   "execution_count": null,
   "metadata": {},
   "outputs": [],
   "source": [
    "def ordenar_lista(lista):\n",
    "    return lista.sort()"
   ]
  },
  {
   "cell_type": "code",
   "execution_count": null,
   "metadata": {},
   "outputs": [],
   "source": [
    "def asignar_en_5(lista, valor):\n",
    "    lista[5] = valor\n",
    "    return lista"
   ]
  },
  {
   "cell_type": "markdown",
   "metadata": {},
   "source": [
    "# Problemas"
   ]
  },
  {
   "cell_type": "code",
   "execution_count": null,
   "metadata": {},
   "outputs": [],
   "source": [
    "def borrar_elemento_en_estructura_compleja(estructura):\n",
    "    e = {\n",
    "        'tiendas': {\n",
    "            'Don Pepe Chuy': [\n",
    "                {\n",
    "                    'Ventas': [100, 200, 300, -1]\n",
    "                },\n",
    "                {\n",
    "                    'Ventas': [100, 200, 300]\n",
    "                }\n",
    "            ],\n",
    "            'El Ruki': [\n",
    "                {\n",
    "                    'Ventas': [234, 543, 654]\n",
    "                },\n",
    "                {\n",
    "                    'Ventas': [980, 579, 123, 0]\n",
    "                }\n",
    "            ]\n",
    "        }\n",
    "    }\n",
    "    e['tiendas']['Don Pepe Chuy'][0]['Ventas'].remove(-1)\n",
    "    e['tiendas']['El Ruki'][1]['Ventas'].remove(0)\n",
    "    return e"
   ]
  },
  {
   "cell_type": "code",
   "execution_count": null,
   "metadata": {},
   "outputs": [],
   "source": [
    "borrar_elemento_en_estructura_compleja(2)"
   ]
  },
  {
   "cell_type": "code",
   "execution_count": null,
   "metadata": {},
   "outputs": [],
   "source": [
    "def obtener_promedio(alumnos):\n",
    "    a = {\n",
    "    'Pepe':[\n",
    "            {'nombre': 'primer parcial', 'calif': 9},\n",
    "            {'nombre': 'segundo parcial', 'calif': 10}\n",
    "        ],\n",
    "    'Juan': [\n",
    "            {'nombre': 'primer parcial', 'calif': 9},\n",
    "            {'nombre': 'segundo parcial', 'calif': 10}\n",
    "        ]\n",
    "    }\n",
    "    calificacion_pepe = (a['Pepe'][0]['calif'] + a['Pepe'][1]['calif']) / 2\n",
    "    calificacion_juan = (a['Juan'][0]['calif'] + a['Juan'][1]['calif']) / 2\n",
    "    promedio = {'Pepe': calificacion_pepe, 'Juan': calificacion_juan}\n",
    "    return promedio"
   ]
  },
  {
   "cell_type": "code",
   "execution_count": null,
   "metadata": {},
   "outputs": [],
   "source": [
    "obtener_promedio(23)"
   ]
  }
 ],
 "metadata": {
  "interpreter": {
   "hash": "52e906d48b26901c718c7cd569792dc03a2dc8ecec1e49796e8e9092c38d0e33"
  },
  "kernelspec": {
   "display_name": "Python 3.9.7 64-bit ('jupyterservices': conda)",
   "language": "python",
   "name": "python3"
  },
  "language_info": {
   "codemirror_mode": {
    "name": "ipython",
    "version": 3
   },
   "file_extension": ".py",
   "mimetype": "text/x-python",
   "name": "python",
   "nbconvert_exporter": "python",
   "pygments_lexer": "ipython3",
   "version": "3.9.7"
  },
  "orig_nbformat": 4
 },
 "nbformat": 4,
 "nbformat_minor": 2
}
