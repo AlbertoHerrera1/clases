{
 "cells": [
  {
   "cell_type": "markdown",
   "metadata": {},
   "source": [
    "# Mini proyecto - Veterinaria"
   ]
  },
  {
   "cell_type": "markdown",
   "metadata": {},
   "source": [
    "## Objetivo:\n",
    "\n",
    "Crear un mini sistema administrativo para una veterinaria"
   ]
  },
  {
   "cell_type": "markdown",
   "metadata": {},
   "source": [
    "## Instrucciones:\n",
    "\n",
    " - Crear una clase Propietario con las siguientes propiedades privadas:\n",
    "  - nombre de tipo string\n",
    "  - direccion de tipo string\n",
    "  - telefono de tipo int\n",
    "\n",
    " - La clase propietario deberá contar con métodos para ver y modificar las propiedades del propietario\n",
    "\n",
    " - Crear una clase Perro con las siguientes propiedades privadas:\n",
    "  - nombre de tipo str\n",
    "  - raza de tipo str\n",
    "  - propietario de tipo Propietario\n",
    "\n",
    " - La clase Perro deberá contar con métodos para ver y modificar las propiedades del propietario\n",
    "\n",
    " - Crear una clase Pajaro con las siguientes propiedades privadas:\n",
    "  - nombre de tipo string\n",
    "  - color de tipo str\n",
    "  - propietario de tipo Propietario\n",
    "\n",
    " - La clase Pajaro deberá contar con métodos para ver y modificar las propiedades del propietario\n",
    "\n",
    " - Crear una clase Gato con las siguientes propiedades privadas:\n",
    "  - nombre de tipo string\n",
    "  - peso de tipo float \n",
    "  - propietario de tipo Propietario\n",
    "\n",
    " - La clase Gato deberá contar con métodos para ver y modificar las propiedades del propietario\n",
    "\n",
    " - Crear una clase Veterinaria con las siguientes propiedades privadas:\n",
    "  - nombre\n",
    "  - direccion de tipo string\n",
    "  - mascotas de tipo list\n",
    "\n",
    " Sobrecargar los métodos __str__ y __repr__ de las clases anteriores\n",
    "\n",
    " - La clase Veterinaria deberá contar con métodos para ver sus propiedades, además de los siguientes:\n",
    "  - buscar_mascota: Éste método recibe el nombre de una mascota y el nombre de su propietario y busca a la mascota con esas características, en caso de encontrarla regresar un True, caso contrario regresa False.\n",
    "  - agregar_mascota: Éste método recibe una mascota y verifica si se encuentra en la lista de mascotas, si se encuentra, regresar un verdadero, si no, regresar un falso\n",
    "  - entregar_mascota: Éste método recibe el nombre de una mascota y el nombre de su propietario, verifica si se encuentra la mascota, en caso de que se encuentre la quita de la lista de mascotas y mostrar un mensaje diciendo que la mascota ha sido entregada a su dueño, además de mostrar el nombre del dueño y de la mascota.\n"
   ]
  },
  {
   "cell_type": "code",
   "execution_count": null,
   "metadata": {},
   "outputs": [],
   "source": []
  }
 ],
 "metadata": {
  "interpreter": {
   "hash": "348d93889cdc789e6cbe038b88f22de38d4107789a7ffcd22b7fa3c799b7a993"
  },
  "kernelspec": {
   "display_name": "Python 3.9.7 ('base')",
   "language": "python",
   "name": "python3"
  },
  "language_info": {
   "codemirror_mode": {
    "name": "ipython",
    "version": 3
   },
   "file_extension": ".py",
   "mimetype": "text/x-python",
   "name": "python",
   "nbconvert_exporter": "python",
   "pygments_lexer": "ipython3",
   "version": "3.9.7"
  },
  "orig_nbformat": 4
 },
 "nbformat": 4,
 "nbformat_minor": 2
}
