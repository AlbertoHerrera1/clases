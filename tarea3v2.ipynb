{
 "cells": [
  {
   "cell_type": "code",
   "execution_count": null,
   "metadata": {},
   "outputs": [],
   "source": [
    "#\n",
    "#\n",
    "# EJECUTAR ESTA CELDA\n",
    "#\n",
    "#\n",
    "\n",
    "#####################################\n",
    "#       Operaciones artiméticas\n",
    "#####################################\n",
    "\n",
    "\n",
    "import calificador\n",
    "UUID = \"TU CLAVE\"\n",
    "DESEO_CONTRIBUIR_A_MEJORAR = True"
   ]
  },
  {
   "cell_type": "code",
   "execution_count": null,
   "metadata": {},
   "outputs": [],
   "source": [
    "def peso_de_un_cuerpo(masa):\n",
    "    \"\"\"\n",
    "    Instrucciones:\n",
    "        Esta función recibe como parámetro\n",
    "        la masa de un cuerpo en la variable masa\n",
    "\n",
    "        Deberás calcular el peso de un cuerpo\n",
    "        con esa masa.\n",
    "        La formula para calcular el peso de un cuerpo\n",
    "        es gravedad*masa\n",
    "        Toma la gravedad de la tierra con un valor de \n",
    "        9.81.\n",
    "\n",
    "    Observación:\n",
    "        No te sorprendas si al hacer una multiplicación\n",
    "        como 10*9.81 el resultado no sea exactamente\n",
    "        98.1\n",
    "\n",
    "    Recuerda:\n",
    "        Cuida la indentación.\n",
    "    \"\"\"\n",
    "\n",
    "    # Escribe aquí tu código\n",
    "\n",
    "\n",
    "    # Escribe aquí tu código\n",
    "\n",
    "    return # Escribe aquí tu código"
   ]
  },
  {
   "cell_type": "code",
   "execution_count": null,
   "metadata": {},
   "outputs": [],
   "source": [
    "calificador.califica_peso_de_un_cuerpo(peso_de_un_cuerpo, UUID, DESEO_CONTRIBUIR_A_MEJORAR)"
   ]
  },
  {
   "cell_type": "code",
   "execution_count": null,
   "metadata": {},
   "outputs": [],
   "source": [
    "def calculo_de_velocidad_constante(distancia, instante_t):\n",
    "    \"\"\"\n",
    "    Instrucciones:\n",
    "        Esta función recibe como parámetros\n",
    "        la distancia que recorre un objeto en movimiento\n",
    "        y el instante te tiempo t en el que se quiere\n",
    "        medir su velocidad\n",
    "        \n",
    "\n",
    "        Calcula la velocidad del cuerpo en movimiento\n",
    "        data la distancia y el instante_t\n",
    "\n",
    "        La formula para calcular la velocidad es\n",
    "        distancia / tiempo\n",
    "\n",
    "    Recuerda:\n",
    "        Cuida la indentación.\n",
    "        \n",
    "    \"\"\"\n",
    "\n",
    "    # Escribe aquí tu código\n",
    "\n",
    "\n",
    "    # Escribe aquí tu código\n",
    "\n",
    "    return # Escribe aquí tu código"
   ]
  },
  {
   "cell_type": "code",
   "execution_count": null,
   "metadata": {},
   "outputs": [],
   "source": [
    "calificador.califica_calculo_de_velocidad_constante(calculo_de_velocidad_constante, UUID, DESEO_CONTRIBUIR_A_MEJORAR)"
   ]
  },
  {
   "cell_type": "code",
   "execution_count": null,
   "metadata": {},
   "outputs": [],
   "source": [
    "def calculo_de_velocidad_con_aceleracion(velocidad_inicial, aceleracion, instante_t):\n",
    "    \"\"\"\n",
    "    Instrucciones:\n",
    "        Esta función recibe como parámetros\n",
    "        la velocidad inicial, la aceleracion\n",
    "        y un instante t\n",
    "        de un cuerpo en movimiento uniformemente\n",
    "        acelerado.\n",
    "\n",
    "        Calcula la velocidad del cuerpo en movimiento\n",
    "        dada su velocidad inicial y aceleracion \n",
    "        en el tiempo t\n",
    "\n",
    "        La fórmula para calcular la velocidad de un cuerpo\n",
    "        en movimiento con aceleración constante es:\n",
    "        velocidad_inicial + aceleracion * tiempo\n",
    "\n",
    "    Recuerda:\n",
    "        Cuida la indentación.\n",
    "        \n",
    "    \"\"\"\n",
    "\n",
    "    # Escribe aquí tu código\n",
    "\n",
    "\n",
    "    # Escribe aquí tu código\n",
    "\n",
    "    return # Escribe aquí tu código"
   ]
  },
  {
   "cell_type": "code",
   "execution_count": null,
   "metadata": {},
   "outputs": [],
   "source": [
    "calificador.califica_calculo_de_velocidad_con_aceleracion(calculo_de_velocidad_con_aceleracion, UUID, DESEO_CONTRIBUIR_A_MEJORAR)"
   ]
  },
  {
   "cell_type": "code",
   "execution_count": null,
   "metadata": {},
   "outputs": [],
   "source": [
    "def calculo_de_posicion_de_un_cuerpo_en_movimiento_con_aceleracion_constante(posicion_inicial, velocidad_inicial, instante_t, aceleracion):\n",
    "    \"\"\"\n",
    "    Instrucciones:\n",
    "        Esta función recibe como parámetros\n",
    "        la posición inicial, velocidad inicial\n",
    "        y aceleracion en un instante de tiempo t\n",
    "        de un cuerpo en movimiento con aceleración\n",
    "        constante.\n",
    "\n",
    "        Calcula la posición de dicho cuerpo al cabo \n",
    "        de del tiempo t.\n",
    "\n",
    "        La fórmula para calcular la posición es:\n",
    "        posicion inicial + velocidad inicial * tiempo + 1/2 * aceleracion * (tiempo al cuadrado)\n",
    "\n",
    "    Recuerda:\n",
    "        Cuida la indentación.\n",
    "\n",
    "    \"\"\"\n",
    "\n",
    "    # Escribe aquí tu código\n",
    "\n",
    "\n",
    "    # Escribe aquí tu código\n",
    "\n",
    "    return # Escribe aquí tu código"
   ]
  },
  {
   "cell_type": "code",
   "execution_count": null,
   "metadata": {},
   "outputs": [],
   "source": [
    "calificador.califica_calculo_de_posicion_de_un_cuerpo_en_movimiento_con_aceleracion_constante(calculo_de_posicion_de_un_cuerpo_en_movimiento_con_aceleracion_constante, UUID, DESEO_CONTRIBUIR_A_MEJORAR)"
   ]
  },
  {
   "cell_type": "code",
   "execution_count": null,
   "metadata": {},
   "outputs": [],
   "source": [
    "def promedio_inidice_masa_corporal(peso_p1, estatura_p1, peso_p2, estatura_p2, peso_p3, estatura_p3):\n",
    "    \"\"\"\n",
    "    Instrucciones:\n",
    "        Esta función recibe como parámetros\n",
    "        el peso y la estatura de 3 personas.\n",
    "\n",
    "        Deberás calcular el promedio del \n",
    "        indice de masa corporal de cada persona.\n",
    "\n",
    "        El índice de masa corporal se calcula como\n",
    "        peso / (estatura al cuadrado).\n",
    "\n",
    "        El promedio sería la suma de los tres \n",
    "        índices de masa corporal entre 3.\n",
    "\n",
    "    Recuerda:\n",
    "        Cuida la indentación.\n",
    "        \n",
    "    \"\"\"\n",
    "\n",
    "    # Escribe aquí tu código\n",
    "\n",
    "\n",
    "    # Escribe aquí tu código\n",
    "\n",
    "    return # Escribe aquí tu código"
   ]
  },
  {
   "cell_type": "code",
   "execution_count": null,
   "metadata": {},
   "outputs": [],
   "source": [
    "calificador.califica_promedio_inidice_masa_corporal(promedio_inidice_masa_corporal, UUID, DESEO_CONTRIBUIR_A_MEJORAR)"
   ]
  }
 ],
 "metadata": {
  "language_info": {
   "name": "python"
  },
  "orig_nbformat": 4
 },
 "nbformat": 4,
 "nbformat_minor": 2
}
