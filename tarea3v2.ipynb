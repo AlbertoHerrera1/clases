{
 "cells": [
  {
   "cell_type": "code",
   "execution_count": 1,
   "metadata": {},
   "outputs": [],
   "source": [
    "#\n",
    "#\n",
    "# EJECUTAR ESTA CELDA\n",
    "#\n",
    "#\n",
    "\n",
    "#####################################\n",
    "#       Operaciones artiméticas\n",
    "#####################################\n",
    "\n",
    "\n",
    "import calificador\n",
    "UUID = \"TU CLAVE\"\n",
    "DESEO_CONTRIBUIR_A_MEJORAR = True"
   ]
  },
  {
   "cell_type": "code",
   "execution_count": null,
   "metadata": {},
   "outputs": [],
   "source": [
    "def peso_de_un_cuerpo(masa):\n",
    "    \"\"\"\n",
    "    Instrucciones:\n",
    "        Esta función recibe como parámetro\n",
    "        la masa de un cuerpo en la variable de nombre masa.\n",
    "\n",
    "        Deberás calcular el peso de un cuerpo\n",
    "        con esa masa.\n",
    "        La formula para calcular el peso de un cuerpo\n",
    "        es gravedad*masa\n",
    "        Toma la gravedad de la tierra con un valor de \n",
    "        9.81.\n",
    "\n",
    "    Observación:\n",
    "        No te sorprendas si al hacer una multiplicación\n",
    "        como 10*9.81 el resultado no sea exactamente\n",
    "        98.1\n",
    "\n",
    "    Recuerda:\n",
    "        Cuida la indentación.\n",
    "    \"\"\"\n",
    "\n",
    "    # Escribe aquí tu código\n",
    "\n",
    "\n",
    "    # Escribe aquí tu código\n",
    "\n",
    "    return # Escribe aquí tu código"
   ]
  },
  {
   "cell_type": "code",
   "execution_count": null,
   "metadata": {},
   "outputs": [],
   "source": [
    "calificador.califica_peso_de_un_cuerpo(peso_de_un_cuerpo, UUID, DESEO_CONTRIBUIR_A_MEJORAR)"
   ]
  },
  {
   "cell_type": "code",
   "execution_count": null,
   "metadata": {},
   "outputs": [],
   "source": [
    "def calculo_de_velocidad_constante(distancia, tiempo_t):\n",
    "    \"\"\"\n",
    "    Instrucciones:\n",
    "        Esta función recibe como parámetros\n",
    "        la distancia que recorre un objeto en movimiento\n",
    "        y el tiempo t en el que se quiere\n",
    "        medir su velocidad\n",
    "        \n",
    "\n",
    "        Calcula la velocidad del cuerpo en movimiento\n",
    "        data la distancia y el tiempo_t\n",
    "\n",
    "        La formula para calcular la velocidad es\n",
    "        distancia / tiempo\n",
    "\n",
    "    Recuerda:\n",
    "        Cuida la indentación.\n",
    "        \n",
    "    \"\"\"\n",
    "\n",
    "    # Escribe aquí tu código\n",
    "\n",
    "\n",
    "    # Escribe aquí tu código\n",
    "\n",
    "    return # Escribe aquí tu código"
   ]
  },
  {
   "cell_type": "code",
   "execution_count": null,
   "metadata": {},
   "outputs": [],
   "source": [
    "calificador.califica_calculo_de_velocidad_constante(calculo_de_velocidad_constante, UUID, DESEO_CONTRIBUIR_A_MEJORAR)"
   ]
  },
  {
   "cell_type": "code",
   "execution_count": null,
   "metadata": {},
   "outputs": [],
   "source": [
    "def calculo_de_velocidad_con_aceleracion(velocidad_inicial, aceleracion, tiempo_t):\n",
    "    \"\"\"\n",
    "    Instrucciones:\n",
    "        Esta función recibe como parámetros\n",
    "        la velocidad inicial, la aceleracion\n",
    "        y un tiempo t\n",
    "        de un cuerpo en movimiento uniformemente\n",
    "        acelerado.\n",
    "\n",
    "        Calcula la velocidad del cuerpo en movimiento\n",
    "        dada su velocidad inicial y aceleracion \n",
    "        en el tiempo t\n",
    "\n",
    "        La fórmula para calcular la velocidad de un cuerpo\n",
    "        en movimiento con aceleración constante es:\n",
    "        velocidad_inicial + aceleracion * tiempo\n",
    "\n",
    "    Recuerda:\n",
    "        Cuida la indentación.\n",
    "        \n",
    "    \"\"\"\n",
    "\n",
    "    # Escribe aquí tu código\n",
    "\n",
    "\n",
    "    # Escribe aquí tu código\n",
    "\n",
    "    return # Escribe aquí tu código"
   ]
  },
  {
   "cell_type": "code",
   "execution_count": null,
   "metadata": {},
   "outputs": [],
   "source": [
    "calificador.califica_calculo_de_velocidad_con_aceleracion(calculo_de_velocidad_con_aceleracion, UUID, DESEO_CONTRIBUIR_A_MEJORAR)"
   ]
  },
  {
   "cell_type": "code",
   "execution_count": null,
   "metadata": {},
   "outputs": [],
   "source": [
    "def calculo_de_posicion_de_un_cuerpo_en_movimiento_con_aceleracion_constante(posicion_inicial, velocidad_inicial, tiempo_t, aceleracion):\n",
    "    \"\"\"\n",
    "    Instrucciones:\n",
    "        Esta función recibe como parámetros\n",
    "        la posición inicial, velocidad inicial\n",
    "        y aceleracion en un  tiempo t\n",
    "        de un cuerpo en movimiento con aceleración\n",
    "        constante.\n",
    "\n",
    "        Calcula la posición de dicho cuerpo al cabo \n",
    "        de del tiempo t.\n",
    "\n",
    "        La fórmula para calcular la posición es:\n",
    "        posicion inicial + velocidad inicial * tiempo + 1/2 * aceleracion * (tiempo al cuadrado)\n",
    "\n",
    "    Recuerda:\n",
    "        Cuida la indentación.\n",
    "\n",
    "    \"\"\"\n",
    "\n",
    "    # Escribe aquí tu código\n",
    "\n",
    "\n",
    "    # Escribe aquí tu código\n",
    "\n",
    "    return # Escribe aquí tu código"
   ]
  },
  {
   "cell_type": "code",
   "execution_count": null,
   "metadata": {},
   "outputs": [],
   "source": [
    "calificador.califica_calculo_de_posicion_de_un_cuerpo_en_movimiento_con_aceleracion_constante(calculo_de_posicion_de_un_cuerpo_en_movimiento_con_aceleracion_constante, UUID, DESEO_CONTRIBUIR_A_MEJORAR)"
   ]
  },
  {
   "cell_type": "code",
   "execution_count": null,
   "metadata": {},
   "outputs": [],
   "source": [
    "def promedio_inidice_masa_corporal(peso_p1, estatura_p1, peso_p2, estatura_p2, peso_p3, estatura_p3):\n",
    "    \"\"\"\n",
    "    Instrucciones:\n",
    "        Esta función recibe como parámetros\n",
    "        el peso y la estatura de 3 personas.\n",
    "\n",
    "        Deberás calcular el promedio del \n",
    "        indice de masa corporal de cada persona.\n",
    "\n",
    "        El índice de masa corporal se calcula como\n",
    "        peso / (estatura al cuadrado).\n",
    "\n",
    "        El promedio sería la suma de los tres \n",
    "        índices de masa corporal entre 3.\n",
    "\n",
    "    Recuerda:\n",
    "        Cuida la indentación.\n",
    "        \n",
    "    \"\"\"\n",
    "\n",
    "    # Escribe aquí tu código\n",
    "\n",
    "\n",
    "    # Escribe aquí tu código\n",
    "\n",
    "    return # Escribe aquí tu código"
   ]
  },
  {
   "cell_type": "code",
   "execution_count": null,
   "metadata": {},
   "outputs": [],
   "source": [
    "calificador.califica_promedio_inidice_masa_corporal(promedio_inidice_masa_corporal, UUID, DESEO_CONTRIBUIR_A_MEJORAR)"
   ]
  },
  {
   "cell_type": "code",
   "execution_count": null,
   "metadata": {},
   "outputs": [],
   "source": [
    "def primer_caracter(frase):\n",
    "    \"\"\"\n",
    "    Instrucciones:\n",
    "        Esta función recibe una frase como argumento\n",
    "        llamado frase\n",
    "        y devuelve el primer caracter de esa frase\n",
    "\n",
    "    Ejemplo:\n",
    "        Si frase == \"Curso de Python\"\n",
    "        regresa 'C'\n",
    "\n",
    "    Recuerda:\n",
    "        Cuida la indentación.\n",
    "    \"\"\"\n",
    "\n",
    "    # Escribe aquí tu código\n",
    "    \n",
    "\n",
    "    # Escribe aquí tu código\n",
    "    \n",
    "    return # Escribe aquí tu código\n"
   ]
  },
  {
   "cell_type": "code",
   "execution_count": null,
   "metadata": {},
   "outputs": [],
   "source": [
    "primer_caracter(\"Curso de Python\")"
   ]
  },
  {
   "cell_type": "code",
   "execution_count": null,
   "metadata": {},
   "outputs": [],
   "source": [
    "calificador.califica_primer_caracter(primer_caracter, UUID, DESEO_CONTRIBUIR_A_MEJORAR)"
   ]
  },
  {
   "cell_type": "code",
   "execution_count": null,
   "metadata": {},
   "outputs": [],
   "source": [
    "def penultimo_caracter(frase):\n",
    "    \"\"\"\n",
    "    Instrucciones:\n",
    "        Esta función recibe una frase como argumento\n",
    "        llamado frase\n",
    "        y devuelve el penúltimo caracter de esa frase\n",
    "\n",
    "    Ejemplo:\n",
    "        Si frase == \"Curso de Python\"\n",
    "        regresa 'o'\n",
    "\n",
    "    Recuerda:\n",
    "        Cuida la indentación.\n",
    "    \"\"\"\n",
    "\n",
    "    # Escribe aquí tu código\n",
    "    \n",
    "\n",
    "    # Escribe aquí tu código\n",
    "    \n",
    "    return # Escribe aquí tu código"
   ]
  },
  {
   "cell_type": "code",
   "execution_count": null,
   "metadata": {},
   "outputs": [],
   "source": [
    "penultimo_caracter(\"Hola\")"
   ]
  },
  {
   "cell_type": "code",
   "execution_count": null,
   "metadata": {},
   "outputs": [],
   "source": [
    "calificador.califica_penultimo_caracter(penultimo_caracter, UUID, DESEO_CONTRIBUIR_A_MEJORAR)"
   ]
  },
  {
   "cell_type": "code",
   "execution_count": null,
   "metadata": {},
   "outputs": [],
   "source": [
    "def son_iguales(frase_1, frase_2):\n",
    "    \"\"\"\n",
    "    Instrucciones:\n",
    "        Esta función recibe dos frases\n",
    "        y regresa la frase \n",
    "        \"Son iguales\"\n",
    "        si es que son iguales\n",
    "        y \"Son diferentes\"\n",
    "        Si es que son diferentes\n",
    "\n",
    "    Recuerda:\n",
    "        Cuida la indentación.\n",
    "\n",
    "    Ejemplo:\n",
    "        Si frase_1 == \"Buenos días\" y frase_2 == \"buenos días\"\n",
    "        regresa 'Son diferentes'\n",
    "        Si frase_1 == \"Hola\" y frase_2 == \"Hola\"\n",
    "        regresa 'Son iguales'\n",
    "    \"\"\"\n",
    "    \n",
    "    # Escribe aquí tu código\n",
    "    \n",
    "\n",
    "    # Escribe aquí tu código\n",
    "    \n",
    "    return # Escribe aquí tu código\n"
   ]
  },
  {
   "cell_type": "code",
   "execution_count": null,
   "metadata": {},
   "outputs": [],
   "source": [
    "calificador.califica_son_iguales(son_iguales, UUID, DESEO_CONTRIBUIR_A_MEJORAR)"
   ]
  },
  {
   "cell_type": "code",
   "execution_count": null,
   "metadata": {},
   "outputs": [],
   "source": [
    "def mayor_de_edad(edad):\n",
    "    \"\"\"\n",
    "    Instrucciones:\n",
    "        Esta función recibe la edad\n",
    "        de una persona, si la edad es mayor \n",
    "        o igual a 18 regresa la cadena \"Eres mayor de edad\",\n",
    "        caso contrario regresa la cadena \"Eres menor de edad\"\n",
    "\n",
    "\n",
    "    Recuerda:\n",
    "        Cuida la indentación.\n",
    "\n",
    "    Ejemplo:\n",
    "        Si edad == 21 \n",
    "        regresa 'Eres mayor de edad'\n",
    "        Si edad == 14\n",
    "        regresa 'Eres menor de edad'\n",
    "    \"\"\"\n",
    "    \n",
    "    # Escribe aquí tu código\n",
    "     \n",
    "\n",
    "    # Escribe aquí tu código\n",
    "    \n",
    "    return # Escribe aquí tu código\n"
   ]
  },
  {
   "cell_type": "code",
   "execution_count": null,
   "metadata": {},
   "outputs": [],
   "source": [
    "calificador.califica_mayor_de_edad(mayor_de_edad, UUID, DESEO_CONTRIBUIR_A_MEJORAR)"
   ]
  },
  {
   "cell_type": "code",
   "execution_count": null,
   "metadata": {},
   "outputs": [],
   "source": [
    "def es_mayor(n_1, n_2):\n",
    "    \"\"\"\n",
    "    Instrucciones:\n",
    "        Esta función recibe dos números\n",
    "        y regresa la frase \n",
    "        \"El primero es mayor\"\n",
    "        si el primer número es mayor que el \n",
    "        segundo, la frase\n",
    "        \"El segundo es mayor\"\n",
    "        si el segundo número es mayor,\n",
    "        o la frase \n",
    "        \"Son iguales\"\n",
    "        Si es que son iguales\n",
    "\n",
    "\n",
    "    Recuerda:\n",
    "        Cuida la indentación.\n",
    "\n",
    "    Ejemplo:\n",
    "        Si n_1 == 2 y n_2 == 3\n",
    "        regresa 'El segundo es mayor'\n",
    "        Si n_1 == 9 y n_2 == 6\n",
    "        regresa 'El primero es mayor'\n",
    "        Si n_1 == 27 y n_2 == 27\n",
    "        regresa 'Son iguales'\n",
    "    \"\"\"\n",
    "    \n",
    "    # Escribe aquí tu código\n",
    "    \n",
    "\n",
    "    # Escribe aquí tu código\n",
    "    \n",
    "    return # Escribe aquí tu código\n"
   ]
  },
  {
   "cell_type": "code",
   "execution_count": null,
   "metadata": {},
   "outputs": [],
   "source": [
    "calificador.califica_es_mayor(es_mayor, UUID, DESEO_CONTRIBUIR_A_MEJORAR)"
   ]
  },
  {
   "cell_type": "code",
   "execution_count": null,
   "metadata": {},
   "outputs": [],
   "source": [
    "def en_medio(numero):\n",
    "    \"\"\"\n",
    "    Instrucciones:\n",
    "        Esta función recibe un número.\n",
    "\n",
    "        Regresa la palabra \"Pertenece\" si\n",
    "        el número está en el rango de 21 a 30\n",
    "        (incluyendo el 21 y el 30)\n",
    "        caso contrario regresa \"No pertenece\"\n",
    "\n",
    "\n",
    "    Recuerda:\n",
    "        Cuida la indentación.\n",
    "\n",
    "    Ejemplo:\n",
    "        Si numero == 21\n",
    "        regresa 'Pertenece'\n",
    "        Si numero == 18\n",
    "        regresa 'No pertenece'\n",
    "        Si numero == 31\n",
    "        regresa 'No pertenece'\n",
    "    \"\"\"\n",
    "    \n",
    "    # Escribe aquí tu código\n",
    "    \n",
    "    \n",
    "    # Escribe aquí tu código\n",
    "    \n",
    "    return # Escribe aquí tu código\n"
   ]
  },
  {
   "cell_type": "code",
   "execution_count": null,
   "metadata": {},
   "outputs": [],
   "source": [
    "calificador.califica_en_medio(en_medio, UUID, DESEO_CONTRIBUIR_A_MEJORAR)"
   ]
  }
 ],
 "metadata": {
  "interpreter": {
   "hash": "348d93889cdc789e6cbe038b88f22de38d4107789a7ffcd22b7fa3c799b7a993"
  },
  "kernelspec": {
   "display_name": "Python 3.9.7 ('base')",
   "language": "python",
   "name": "python3"
  },
  "language_info": {
   "codemirror_mode": {
    "name": "ipython",
    "version": 3
   },
   "file_extension": ".py",
   "mimetype": "text/x-python",
   "name": "python",
   "nbconvert_exporter": "python",
   "pygments_lexer": "ipython3",
   "version": "3.9.7"
  },
  "orig_nbformat": 4
 },
 "nbformat": 4,
 "nbformat_minor": 2
}
