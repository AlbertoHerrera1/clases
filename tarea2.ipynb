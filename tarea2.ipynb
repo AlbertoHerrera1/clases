{
 "cells": [
  {
   "cell_type": "code",
   "execution_count": 25,
   "metadata": {},
   "outputs": [],
   "source": [
    "import calificador\n",
    "UUID = \"ihbihbhi\"\n",
    "DESEO_CONTRIBUIR_A_MEJORAR = True"
   ]
  },
  {
   "cell_type": "code",
   "execution_count": 26,
   "metadata": {},
   "outputs": [],
   "source": [
    "def suma(a, b):\n",
    "    \"\"\"\n",
    "    Instrucciones:\n",
    "        Esta función toma los parámetros a y b\n",
    "        y devuelve la suma de dichos parámetros\n",
    "    \n",
    "    Ejemplo:\n",
    "        Si a = 1\n",
    "        y b = 2\n",
    "        la función debe regresar un 3\n",
    "\n",
    "    Recuerda:\n",
    "        Lo que la función \"regresa\" va justo después\n",
    "        de la palabra return\n",
    "    \"\"\"\n",
    "\n",
    "    # Escribe aquí tu código\n",
    "    \n",
    "\n",
    "    # Escribe aquí tu código\n",
    "    \n",
    "    return a + b"
   ]
  },
  {
   "cell_type": "code",
   "execution_count": 27,
   "metadata": {},
   "outputs": [
    {
     "data": {
      "text/plain": [
       "50"
      ]
     },
     "execution_count": 27,
     "metadata": {},
     "output_type": "execute_result"
    }
   ],
   "source": [
    "suma(20, 30)"
   ]
  },
  {
   "cell_type": "code",
   "execution_count": 28,
   "metadata": {},
   "outputs": [
    {
     "name": "stdout",
     "output_type": "stream",
     "text": [
      "=====================================================================\n",
      "\n",
      "============> Calificando t1-suma <============\n",
      "\n",
      "=====================================================================\n",
      "\n",
      "======> Calificación: 100.0 <======\n",
      "\n",
      "======> Aciertos: 20 <======\n",
      "\n",
      "======> Errores: 0 <======\n",
      "\n",
      "======> Casos existosos: <======\n",
      "\n",
      "Valores de entrada: (0, -2).                 Valor esperado: -2.                 Valor obtenido: -2\n",
      "Valores de entrada: (0, -1).                 Valor esperado: -1.                 Valor obtenido: -1\n",
      "Valores de entrada: (0, 0).                 Valor esperado: 0.                 Valor obtenido: 0\n",
      "Valores de entrada: (0, 1).                 Valor esperado: 1.                 Valor obtenido: 1\n",
      "Valores de entrada: (1, -2).                 Valor esperado: -1.                 Valor obtenido: -1\n",
      "Valores de entrada: (1, -1).                 Valor esperado: 0.                 Valor obtenido: 0\n",
      "Valores de entrada: (1, 0).                 Valor esperado: 1.                 Valor obtenido: 1\n",
      "Valores de entrada: (1, 1).                 Valor esperado: 2.                 Valor obtenido: 2\n",
      "Valores de entrada: (2, -2).                 Valor esperado: 0.                 Valor obtenido: 0\n",
      "Valores de entrada: (2, -1).                 Valor esperado: 1.                 Valor obtenido: 1\n",
      "Valores de entrada: (2, 0).                 Valor esperado: 2.                 Valor obtenido: 2\n",
      "Valores de entrada: (2, 1).                 Valor esperado: 3.                 Valor obtenido: 3\n",
      "Valores de entrada: (3, -2).                 Valor esperado: 1.                 Valor obtenido: 1\n",
      "Valores de entrada: (3, -1).                 Valor esperado: 2.                 Valor obtenido: 2\n",
      "Valores de entrada: (3, 0).                 Valor esperado: 3.                 Valor obtenido: 3\n",
      "Valores de entrada: (3, 1).                 Valor esperado: 4.                 Valor obtenido: 4\n",
      "Valores de entrada: (4, -2).                 Valor esperado: 2.                 Valor obtenido: 2\n",
      "Valores de entrada: (4, -1).                 Valor esperado: 3.                 Valor obtenido: 3\n",
      "Valores de entrada: (4, 0).                 Valor esperado: 4.                 Valor obtenido: 4\n",
      "Valores de entrada: (4, 1).                 Valor esperado: 5.                 Valor obtenido: 5\n",
      "======> Casos con error <======\n",
      "\n",
      "======> No hubo errores :D <======\n",
      "\n",
      "{'calificacion': 100.0, 'curso': 'pythondelaaalaz', 'ejercicio': 't1-suma', 'fecha': '2022-01-11 17:00:40.764625', 'opinion': 3, 'resultados': [{'argumentos': [0, -2], 'esperado': -2, 'estado': True, 'obtenido': -2}, {'argumentos': [0, -1], 'esperado': -1, 'estado': True, 'obtenido': -1}, {'argumentos': [0, 0], 'esperado': 0, 'estado': True, 'obtenido': 0}, {'argumentos': [0, 1], 'esperado': 1, 'estado': True, 'obtenido': 1}, {'argumentos': [1, -2], 'esperado': -1, 'estado': True, 'obtenido': -1}, {'argumentos': [1, -1], 'esperado': 0, 'estado': True, 'obtenido': 0}, {'argumentos': [1, 0], 'esperado': 1, 'estado': True, 'obtenido': 1}, {'argumentos': [1, 1], 'esperado': 2, 'estado': True, 'obtenido': 2}, {'argumentos': [2, -2], 'esperado': 0, 'estado': True, 'obtenido': 0}, {'argumentos': [2, -1], 'esperado': 1, 'estado': True, 'obtenido': 1}, {'argumentos': [2, 0], 'esperado': 2, 'estado': True, 'obtenido': 2}, {'argumentos': [2, 1], 'esperado': 3, 'estado': True, 'obtenido': 3}, {'argumentos': [3, -2], 'esperado': 1, 'estado': True, 'obtenido': 1}, {'argumentos': [3, -1], 'esperado': 2, 'estado': True, 'obtenido': 2}, {'argumentos': [3, 0], 'esperado': 3, 'estado': True, 'obtenido': 3}, {'argumentos': [3, 1], 'esperado': 4, 'estado': True, 'obtenido': 4}, {'argumentos': [4, -2], 'esperado': 2, 'estado': True, 'obtenido': 2}, {'argumentos': [4, -1], 'esperado': 3, 'estado': True, 'obtenido': 3}, {'argumentos': [4, 0], 'esperado': 4, 'estado': True, 'obtenido': 4}, {'argumentos': [4, 1], 'esperado': 5, 'estado': True, 'obtenido': 5}], 'tarea': '1', 'uuid': 'ihbihbhi'}\n"
     ]
    }
   ],
   "source": [
    "calificador.califica_suma(suma, UUID, DESEO_CONTRIBUIR_A_MEJORAR)"
   ]
  },
  {
   "cell_type": "code",
   "execution_count": 5,
   "metadata": {},
   "outputs": [],
   "source": [
    "def resta(a, b):\n",
    "    \"\"\"\n",
    "    Instrucciones:\n",
    "        Esta función toma los parámetros a y b\n",
    "        y regresa el resultado de restar b a a\n",
    "\n",
    "    Ejemplo:\n",
    "        Si a = 3\n",
    "        y b = 5\n",
    "        la función regresa -2\n",
    "    \"\"\"\n",
    "\n",
    "    # Escribe aquí tu código\n",
    "    \n",
    "\n",
    "    # Escribe aquí tu código\n",
    "    \n",
    "    return a-b"
   ]
  },
  {
   "cell_type": "code",
   "execution_count": 6,
   "metadata": {},
   "outputs": [
    {
     "data": {
      "text/plain": [
       "-5"
      ]
     },
     "execution_count": 6,
     "metadata": {},
     "output_type": "execute_result"
    }
   ],
   "source": [
    "resta(10, 15)"
   ]
  },
  {
   "cell_type": "code",
   "execution_count": 7,
   "metadata": {},
   "outputs": [
    {
     "name": "stdout",
     "output_type": "stream",
     "text": [
      "=====================================================================\n",
      "\n",
      "============> Calificando t1-resta <============\n",
      "\n",
      "=====================================================================\n",
      "\n",
      "======> Calificación: 100.0 <======\n",
      "\n",
      "======> Aciertos: 20 <======\n",
      "\n",
      "======> Errores: 0 <======\n",
      "\n",
      "======> Casos existosos: <======\n",
      "\n",
      "Valores de entrada: (0, -2).                 Valor esperado: 2.                 Valor obtenido: 2\n",
      "Valores de entrada: (0, -1).                 Valor esperado: 1.                 Valor obtenido: 1\n",
      "Valores de entrada: (0, 0).                 Valor esperado: 0.                 Valor obtenido: 0\n",
      "Valores de entrada: (0, 1).                 Valor esperado: -1.                 Valor obtenido: -1\n",
      "Valores de entrada: (1, -2).                 Valor esperado: 3.                 Valor obtenido: 3\n",
      "Valores de entrada: (1, -1).                 Valor esperado: 2.                 Valor obtenido: 2\n",
      "Valores de entrada: (1, 0).                 Valor esperado: 1.                 Valor obtenido: 1\n",
      "Valores de entrada: (1, 1).                 Valor esperado: 0.                 Valor obtenido: 0\n",
      "Valores de entrada: (2, -2).                 Valor esperado: 4.                 Valor obtenido: 4\n",
      "Valores de entrada: (2, -1).                 Valor esperado: 3.                 Valor obtenido: 3\n",
      "Valores de entrada: (2, 0).                 Valor esperado: 2.                 Valor obtenido: 2\n",
      "Valores de entrada: (2, 1).                 Valor esperado: 1.                 Valor obtenido: 1\n",
      "Valores de entrada: (3, -2).                 Valor esperado: 5.                 Valor obtenido: 5\n",
      "Valores de entrada: (3, -1).                 Valor esperado: 4.                 Valor obtenido: 4\n",
      "Valores de entrada: (3, 0).                 Valor esperado: 3.                 Valor obtenido: 3\n",
      "Valores de entrada: (3, 1).                 Valor esperado: 2.                 Valor obtenido: 2\n",
      "Valores de entrada: (4, -2).                 Valor esperado: 6.                 Valor obtenido: 6\n",
      "Valores de entrada: (4, -1).                 Valor esperado: 5.                 Valor obtenido: 5\n",
      "Valores de entrada: (4, 0).                 Valor esperado: 4.                 Valor obtenido: 4\n",
      "Valores de entrada: (4, 1).                 Valor esperado: 3.                 Valor obtenido: 3\n",
      "======> Casos con error <======\n",
      "\n",
      "======> No hubo errores :D <======\n",
      "\n",
      "{'calificacion': 100.0, 'curso': 'pythondelaaalaz', 'ejercicio': 't1-resta', 'fecha': '2022-01-11 16:46:45.212991', 'opinion': 4, 'resultados': [{'argumentos': [0, -2], 'esperado': 2, 'estado': True, 'obtenido': 2}, {'argumentos': [0, -1], 'esperado': 1, 'estado': True, 'obtenido': 1}, {'argumentos': [0, 0], 'esperado': 0, 'estado': True, 'obtenido': 0}, {'argumentos': [0, 1], 'esperado': -1, 'estado': True, 'obtenido': -1}, {'argumentos': [1, -2], 'esperado': 3, 'estado': True, 'obtenido': 3}, {'argumentos': [1, -1], 'esperado': 2, 'estado': True, 'obtenido': 2}, {'argumentos': [1, 0], 'esperado': 1, 'estado': True, 'obtenido': 1}, {'argumentos': [1, 1], 'esperado': 0, 'estado': True, 'obtenido': 0}, {'argumentos': [2, -2], 'esperado': 4, 'estado': True, 'obtenido': 4}, {'argumentos': [2, -1], 'esperado': 3, 'estado': True, 'obtenido': 3}, {'argumentos': [2, 0], 'esperado': 2, 'estado': True, 'obtenido': 2}, {'argumentos': [2, 1], 'esperado': 1, 'estado': True, 'obtenido': 1}, {'argumentos': [3, -2], 'esperado': 5, 'estado': True, 'obtenido': 5}, {'argumentos': [3, -1], 'esperado': 4, 'estado': True, 'obtenido': 4}, {'argumentos': [3, 0], 'esperado': 3, 'estado': True, 'obtenido': 3}, {'argumentos': [3, 1], 'esperado': 2, 'estado': True, 'obtenido': 2}, {'argumentos': [4, -2], 'esperado': 6, 'estado': True, 'obtenido': 6}, {'argumentos': [4, -1], 'esperado': 5, 'estado': True, 'obtenido': 5}, {'argumentos': [4, 0], 'esperado': 4, 'estado': True, 'obtenido': 4}, {'argumentos': [4, 1], 'esperado': 3, 'estado': True, 'obtenido': 3}], 'tarea': '1', 'uuid': 'ihbihbhi'}\n"
     ]
    }
   ],
   "source": [
    "calificador.califica_resta(resta, UUID, DESEO_CONTRIBUIR_A_MEJORAR)"
   ]
  },
  {
   "cell_type": "code",
   "execution_count": 10,
   "metadata": {},
   "outputs": [],
   "source": [
    "def multiplicacion(a, b):\n",
    "    \"\"\"\n",
    "    Instrucciones:\n",
    "        Esta función toma los parámetros a y b\n",
    "        y regresa el resultado de multiplicar b y a\n",
    "\n",
    "    Ejemplo:\n",
    "        Si a = 3\n",
    "        y b = 5\n",
    "        la función regresa 15\n",
    "    \"\"\"\n",
    "\n",
    "    # Escribe aquí tu código\n",
    "    \n",
    "\n",
    "    # Escribe aquí tu código\n",
    "    \n",
    "    return a * b"
   ]
  },
  {
   "cell_type": "code",
   "execution_count": 11,
   "metadata": {},
   "outputs": [
    {
     "data": {
      "text/plain": [
       "40"
      ]
     },
     "execution_count": 11,
     "metadata": {},
     "output_type": "execute_result"
    }
   ],
   "source": [
    "multiplicacion(8, 5)"
   ]
  },
  {
   "cell_type": "code",
   "execution_count": 12,
   "metadata": {},
   "outputs": [
    {
     "name": "stdout",
     "output_type": "stream",
     "text": [
      "=====================================================================\n",
      "\n",
      "============> Calificando t1-multiplicacion <============\n",
      "\n",
      "=====================================================================\n",
      "\n",
      "======> Calificación: 100.0 <======\n",
      "\n",
      "======> Aciertos: 20 <======\n",
      "\n",
      "======> Errores: 0 <======\n",
      "\n",
      "======> Casos existosos: <======\n",
      "\n",
      "Valores de entrada: (0, -2).                 Valor esperado: 0.                 Valor obtenido: 0\n",
      "Valores de entrada: (0, -1).                 Valor esperado: 0.                 Valor obtenido: 0\n",
      "Valores de entrada: (0, 0).                 Valor esperado: 0.                 Valor obtenido: 0\n",
      "Valores de entrada: (0, 1).                 Valor esperado: 0.                 Valor obtenido: 0\n",
      "Valores de entrada: (1, -2).                 Valor esperado: -2.                 Valor obtenido: -2\n",
      "Valores de entrada: (1, -1).                 Valor esperado: -1.                 Valor obtenido: -1\n",
      "Valores de entrada: (1, 0).                 Valor esperado: 0.                 Valor obtenido: 0\n",
      "Valores de entrada: (1, 1).                 Valor esperado: 1.                 Valor obtenido: 1\n",
      "Valores de entrada: (2, -2).                 Valor esperado: -4.                 Valor obtenido: -4\n",
      "Valores de entrada: (2, -1).                 Valor esperado: -2.                 Valor obtenido: -2\n",
      "Valores de entrada: (2, 0).                 Valor esperado: 0.                 Valor obtenido: 0\n",
      "Valores de entrada: (2, 1).                 Valor esperado: 2.                 Valor obtenido: 2\n",
      "Valores de entrada: (3, -2).                 Valor esperado: -6.                 Valor obtenido: -6\n",
      "Valores de entrada: (3, -1).                 Valor esperado: -3.                 Valor obtenido: -3\n",
      "Valores de entrada: (3, 0).                 Valor esperado: 0.                 Valor obtenido: 0\n",
      "Valores de entrada: (3, 1).                 Valor esperado: 3.                 Valor obtenido: 3\n",
      "Valores de entrada: (4, -2).                 Valor esperado: -8.                 Valor obtenido: -8\n",
      "Valores de entrada: (4, -1).                 Valor esperado: -4.                 Valor obtenido: -4\n",
      "Valores de entrada: (4, 0).                 Valor esperado: 0.                 Valor obtenido: 0\n",
      "Valores de entrada: (4, 1).                 Valor esperado: 4.                 Valor obtenido: 4\n",
      "======> Casos con error <======\n",
      "\n",
      "======> No hubo errores :D <======\n",
      "\n",
      "{'calificacion': 100.0, 'curso': 'pythondelaaalaz', 'ejercicio': 't1-multiplicacion', 'fecha': '2022-01-11 16:47:03.747444', 'opinion': 4, 'resultados': [{'argumentos': [0, -2], 'esperado': 0, 'estado': True, 'obtenido': 0}, {'argumentos': [0, -1], 'esperado': 0, 'estado': True, 'obtenido': 0}, {'argumentos': [0, 0], 'esperado': 0, 'estado': True, 'obtenido': 0}, {'argumentos': [0, 1], 'esperado': 0, 'estado': True, 'obtenido': 0}, {'argumentos': [1, -2], 'esperado': -2, 'estado': True, 'obtenido': -2}, {'argumentos': [1, -1], 'esperado': -1, 'estado': True, 'obtenido': -1}, {'argumentos': [1, 0], 'esperado': 0, 'estado': True, 'obtenido': 0}, {'argumentos': [1, 1], 'esperado': 1, 'estado': True, 'obtenido': 1}, {'argumentos': [2, -2], 'esperado': -4, 'estado': True, 'obtenido': -4}, {'argumentos': [2, -1], 'esperado': -2, 'estado': True, 'obtenido': -2}, {'argumentos': [2, 0], 'esperado': 0, 'estado': True, 'obtenido': 0}, {'argumentos': [2, 1], 'esperado': 2, 'estado': True, 'obtenido': 2}, {'argumentos': [3, -2], 'esperado': -6, 'estado': True, 'obtenido': -6}, {'argumentos': [3, -1], 'esperado': -3, 'estado': True, 'obtenido': -3}, {'argumentos': [3, 0], 'esperado': 0, 'estado': True, 'obtenido': 0}, {'argumentos': [3, 1], 'esperado': 3, 'estado': True, 'obtenido': 3}, {'argumentos': [4, -2], 'esperado': -8, 'estado': True, 'obtenido': -8}, {'argumentos': [4, -1], 'esperado': -4, 'estado': True, 'obtenido': -4}, {'argumentos': [4, 0], 'esperado': 0, 'estado': True, 'obtenido': 0}, {'argumentos': [4, 1], 'esperado': 4, 'estado': True, 'obtenido': 4}], 'tarea': '1', 'uuid': 'ihbihbhi'}\n"
     ]
    }
   ],
   "source": [
    "calificador.califica_multiplicacion(multiplicacion, UUID, DESEO_CONTRIBUIR_A_MEJORAR)"
   ]
  },
  {
   "cell_type": "code",
   "execution_count": 13,
   "metadata": {},
   "outputs": [],
   "source": [
    "def division(a, b):\n",
    "    \"\"\"\n",
    "    Instrucciones:\n",
    "        Esta función toma los parámetros a y b\n",
    "        y regresa el resultado de dividir a entre b\n",
    "\n",
    "    Ejemplo:\n",
    "        Si a = 10\n",
    "        y b = 5\n",
    "        la función regresa 2\n",
    "    \"\"\"\n",
    "\n",
    "    # Escribe aquí tu código\n",
    "    \n",
    "\n",
    "    # Escribe aquí tu código\n",
    "    \n",
    "    return a / b"
   ]
  },
  {
   "cell_type": "code",
   "execution_count": 14,
   "metadata": {},
   "outputs": [
    {
     "data": {
      "text/plain": [
       "5.0"
      ]
     },
     "execution_count": 14,
     "metadata": {},
     "output_type": "execute_result"
    }
   ],
   "source": [
    "division(10, 2)"
   ]
  },
  {
   "cell_type": "code",
   "execution_count": 15,
   "metadata": {},
   "outputs": [
    {
     "name": "stdout",
     "output_type": "stream",
     "text": [
      "=====================================================================\n",
      "\n",
      "============> Calificando t1-division <============\n",
      "\n",
      "=====================================================================\n",
      "\n",
      "======> Calificación: 100.0 <======\n",
      "\n",
      "======> Aciertos: 20 <======\n",
      "\n",
      "======> Errores: 0 <======\n",
      "\n",
      "======> Casos existosos: <======\n",
      "\n",
      "Valores de entrada: (-2, 1).                 Valor esperado: -2.0.                 Valor obtenido: -2.0\n",
      "Valores de entrada: (-2, 2).                 Valor esperado: -1.0.                 Valor obtenido: -1.0\n",
      "Valores de entrada: (-2, 3).                 Valor esperado: -0.6666666666666666.                 Valor obtenido: -0.6666666666666666\n",
      "Valores de entrada: (-2, 4).                 Valor esperado: -0.5.                 Valor obtenido: -0.5\n",
      "Valores de entrada: (-2, 5).                 Valor esperado: -0.4.                 Valor obtenido: -0.4\n",
      "Valores de entrada: (-1, 1).                 Valor esperado: -1.0.                 Valor obtenido: -1.0\n",
      "Valores de entrada: (-1, 2).                 Valor esperado: -0.5.                 Valor obtenido: -0.5\n",
      "Valores de entrada: (-1, 3).                 Valor esperado: -0.3333333333333333.                 Valor obtenido: -0.3333333333333333\n",
      "Valores de entrada: (-1, 4).                 Valor esperado: -0.25.                 Valor obtenido: -0.25\n",
      "Valores de entrada: (-1, 5).                 Valor esperado: -0.2.                 Valor obtenido: -0.2\n",
      "Valores de entrada: (0, 1).                 Valor esperado: 0.0.                 Valor obtenido: 0.0\n",
      "Valores de entrada: (0, 2).                 Valor esperado: 0.0.                 Valor obtenido: 0.0\n",
      "Valores de entrada: (0, 3).                 Valor esperado: 0.0.                 Valor obtenido: 0.0\n",
      "Valores de entrada: (0, 4).                 Valor esperado: 0.0.                 Valor obtenido: 0.0\n",
      "Valores de entrada: (0, 5).                 Valor esperado: 0.0.                 Valor obtenido: 0.0\n",
      "Valores de entrada: (1, 1).                 Valor esperado: 1.0.                 Valor obtenido: 1.0\n",
      "Valores de entrada: (1, 2).                 Valor esperado: 0.5.                 Valor obtenido: 0.5\n",
      "Valores de entrada: (1, 3).                 Valor esperado: 0.3333333333333333.                 Valor obtenido: 0.3333333333333333\n",
      "Valores de entrada: (1, 4).                 Valor esperado: 0.25.                 Valor obtenido: 0.25\n",
      "Valores de entrada: (1, 5).                 Valor esperado: 0.2.                 Valor obtenido: 0.2\n",
      "======> Casos con error <======\n",
      "\n",
      "======> No hubo errores :D <======\n",
      "\n",
      "{'calificacion': 100.0, 'curso': 'pythondelaaalaz', 'ejercicio': 't1-division', 'fecha': '2022-01-11 16:47:22.842126', 'opinion': 4, 'resultados': [{'argumentos': [-2, 1], 'esperado': -2.0, 'estado': True, 'obtenido': -2.0}, {'argumentos': [-2, 2], 'esperado': -1.0, 'estado': True, 'obtenido': -1.0}, {'argumentos': [-2, 3], 'esperado': -0.6666666666666666, 'estado': True, 'obtenido': -0.6666666666666666}, {'argumentos': [-2, 4], 'esperado': -0.5, 'estado': True, 'obtenido': -0.5}, {'argumentos': [-2, 5], 'esperado': -0.4, 'estado': True, 'obtenido': -0.4}, {'argumentos': [-1, 1], 'esperado': -1.0, 'estado': True, 'obtenido': -1.0}, {'argumentos': [-1, 2], 'esperado': -0.5, 'estado': True, 'obtenido': -0.5}, {'argumentos': [-1, 3], 'esperado': -0.3333333333333333, 'estado': True, 'obtenido': -0.3333333333333333}, {'argumentos': [-1, 4], 'esperado': -0.25, 'estado': True, 'obtenido': -0.25}, {'argumentos': [-1, 5], 'esperado': -0.2, 'estado': True, 'obtenido': -0.2}, {'argumentos': [0, 1], 'esperado': 0.0, 'estado': True, 'obtenido': 0.0}, {'argumentos': [0, 2], 'esperado': 0.0, 'estado': True, 'obtenido': 0.0}, {'argumentos': [0, 3], 'esperado': 0.0, 'estado': True, 'obtenido': 0.0}, {'argumentos': [0, 4], 'esperado': 0.0, 'estado': True, 'obtenido': 0.0}, {'argumentos': [0, 5], 'esperado': 0.0, 'estado': True, 'obtenido': 0.0}, {'argumentos': [1, 1], 'esperado': 1.0, 'estado': True, 'obtenido': 1.0}, {'argumentos': [1, 2], 'esperado': 0.5, 'estado': True, 'obtenido': 0.5}, {'argumentos': [1, 3], 'esperado': 0.3333333333333333, 'estado': True, 'obtenido': 0.3333333333333333}, {'argumentos': [1, 4], 'esperado': 0.25, 'estado': True, 'obtenido': 0.25}, {'argumentos': [1, 5], 'esperado': 0.2, 'estado': True, 'obtenido': 0.2}], 'tarea': '1', 'uuid': 'ihbihbhi'}\n"
     ]
    }
   ],
   "source": [
    "calificador.califica_division(division, UUID, DESEO_CONTRIBUIR_A_MEJORAR)"
   ]
  },
  {
   "cell_type": "code",
   "execution_count": 16,
   "metadata": {},
   "outputs": [],
   "source": [
    "def al_cuadrado(a):\n",
    "    \"\"\"\n",
    "    Instrucciones:\n",
    "        Esta función toma un parámetro a\n",
    "        y regresa el resultado de elevar ese número al cuadrado\n",
    "\n",
    "    Ejemplo:\n",
    "        Si a = 10\n",
    "        la función regresa 100\n",
    "    \"\"\"\n",
    "\n",
    "    # Escribe aquí tu código\n",
    "    \n",
    "\n",
    "    # Escribe aquí tu código\n",
    "    \n",
    "    return a**2"
   ]
  },
  {
   "cell_type": "code",
   "execution_count": 17,
   "metadata": {},
   "outputs": [
    {
     "data": {
      "text/plain": [
       "9"
      ]
     },
     "execution_count": 17,
     "metadata": {},
     "output_type": "execute_result"
    }
   ],
   "source": [
    "al_cuadrado(3)"
   ]
  },
  {
   "cell_type": "code",
   "execution_count": 18,
   "metadata": {},
   "outputs": [
    {
     "name": "stdout",
     "output_type": "stream",
     "text": [
      "=====================================================================\n",
      "\n",
      "============> Calificando t1-al_cuadrado <============\n",
      "\n",
      "=====================================================================\n",
      "\n",
      "======> Calificación: 100.0 <======\n",
      "\n",
      "======> Aciertos: 5 <======\n",
      "\n",
      "======> Errores: 0 <======\n",
      "\n",
      "======> Casos existosos: <======\n",
      "\n",
      "Valores de entrada: 1.                 Valor esperado: 1.                 Valor obtenido: 1\n",
      "Valores de entrada: 2.                 Valor esperado: 4.                 Valor obtenido: 4\n",
      "Valores de entrada: 3.                 Valor esperado: 9.                 Valor obtenido: 9\n",
      "Valores de entrada: 4.                 Valor esperado: 16.                 Valor obtenido: 16\n",
      "Valores de entrada: 5.                 Valor esperado: 25.                 Valor obtenido: 25\n",
      "======> Casos con error <======\n",
      "\n",
      "======> No hubo errores :D <======\n",
      "\n",
      "{'calificacion': 100.0, 'curso': 'pythondelaaalaz', 'ejercicio': 't1-al_cuadrado', 'fecha': '2022-01-11 16:47:37.654883', 'opinion': 4, 'resultados': [{'argumentos': 1, 'esperado': 1, 'estado': True, 'obtenido': 1}, {'argumentos': 2, 'esperado': 4, 'estado': True, 'obtenido': 4}, {'argumentos': 3, 'esperado': 9, 'estado': True, 'obtenido': 9}, {'argumentos': 4, 'esperado': 16, 'estado': True, 'obtenido': 16}, {'argumentos': 5, 'esperado': 25, 'estado': True, 'obtenido': 25}], 'tarea': '1', 'uuid': 'ihbihbhi'}\n"
     ]
    }
   ],
   "source": [
    "calificador.califica_al_cuadrado(al_cuadrado, UUID, DESEO_CONTRIBUIR_A_MEJORAR)"
   ]
  },
  {
   "cell_type": "code",
   "execution_count": 22,
   "metadata": {},
   "outputs": [],
   "source": [
    "def potencia(a, b):\n",
    "    \"\"\"\n",
    "    Instrucciones:\n",
    "        Esta función toma los parámetros a y b\n",
    "        y regresa el resultado de elevar el número a\n",
    "        a la pontencia b\n",
    "\n",
    "    Ejemplo:\n",
    "        Si a = 2\n",
    "        y b = 5\n",
    "        la función regresa 32\n",
    "    \"\"\"\n",
    "\n",
    "    # Escribe aquí tu código\n",
    "    \n",
    "\n",
    "    # Escribe aquí tu código\n",
    "    \n",
    "    return a**b"
   ]
  },
  {
   "cell_type": "code",
   "execution_count": 23,
   "metadata": {},
   "outputs": [
    {
     "data": {
      "text/plain": [
       "243"
      ]
     },
     "execution_count": 23,
     "metadata": {},
     "output_type": "execute_result"
    }
   ],
   "source": [
    "potencia(3, 5)"
   ]
  },
  {
   "cell_type": "code",
   "execution_count": 24,
   "metadata": {},
   "outputs": [
    {
     "name": "stdout",
     "output_type": "stream",
     "text": [
      "=====================================================================\n",
      "\n",
      "============> Calificando t1-potencia <============\n",
      "\n",
      "=====================================================================\n",
      "\n",
      "======> Calificación: 100.0 <======\n",
      "\n",
      "======> Aciertos: 20 <======\n",
      "\n",
      "======> Errores: 0 <======\n",
      "\n",
      "======> Casos existosos: <======\n",
      "\n",
      "Valores de entrada: (-2, 1).                 Valor esperado: -2.                 Valor obtenido: -2\n",
      "Valores de entrada: (-2, 2).                 Valor esperado: 4.                 Valor obtenido: 4\n",
      "Valores de entrada: (-2, 3).                 Valor esperado: -8.                 Valor obtenido: -8\n",
      "Valores de entrada: (-2, 4).                 Valor esperado: 16.                 Valor obtenido: 16\n",
      "Valores de entrada: (-2, 5).                 Valor esperado: -32.                 Valor obtenido: -32\n",
      "Valores de entrada: (-1, 1).                 Valor esperado: -1.                 Valor obtenido: -1\n",
      "Valores de entrada: (-1, 2).                 Valor esperado: 1.                 Valor obtenido: 1\n",
      "Valores de entrada: (-1, 3).                 Valor esperado: -1.                 Valor obtenido: -1\n",
      "Valores de entrada: (-1, 4).                 Valor esperado: 1.                 Valor obtenido: 1\n",
      "Valores de entrada: (-1, 5).                 Valor esperado: -1.                 Valor obtenido: -1\n",
      "Valores de entrada: (0, 1).                 Valor esperado: 0.                 Valor obtenido: 0\n",
      "Valores de entrada: (0, 2).                 Valor esperado: 0.                 Valor obtenido: 0\n",
      "Valores de entrada: (0, 3).                 Valor esperado: 0.                 Valor obtenido: 0\n",
      "Valores de entrada: (0, 4).                 Valor esperado: 0.                 Valor obtenido: 0\n",
      "Valores de entrada: (0, 5).                 Valor esperado: 0.                 Valor obtenido: 0\n",
      "Valores de entrada: (1, 1).                 Valor esperado: 1.                 Valor obtenido: 1\n",
      "Valores de entrada: (1, 2).                 Valor esperado: 1.                 Valor obtenido: 1\n",
      "Valores de entrada: (1, 3).                 Valor esperado: 1.                 Valor obtenido: 1\n",
      "Valores de entrada: (1, 4).                 Valor esperado: 1.                 Valor obtenido: 1\n",
      "Valores de entrada: (1, 5).                 Valor esperado: 1.                 Valor obtenido: 1\n",
      "======> Casos con error <======\n",
      "\n",
      "======> No hubo errores :D <======\n",
      "\n",
      "{'calificacion': 100.0, 'curso': 'pythondelaaalaz', 'ejercicio': 't1-potencia', 'fecha': '2022-01-11 16:48:13.864085', 'opinion': 4, 'resultados': [{'argumentos': [-2, 1], 'esperado': -2, 'estado': True, 'obtenido': -2}, {'argumentos': [-2, 2], 'esperado': 4, 'estado': True, 'obtenido': 4}, {'argumentos': [-2, 3], 'esperado': -8, 'estado': True, 'obtenido': -8}, {'argumentos': [-2, 4], 'esperado': 16, 'estado': True, 'obtenido': 16}, {'argumentos': [-2, 5], 'esperado': -32, 'estado': True, 'obtenido': -32}, {'argumentos': [-1, 1], 'esperado': -1, 'estado': True, 'obtenido': -1}, {'argumentos': [-1, 2], 'esperado': 1, 'estado': True, 'obtenido': 1}, {'argumentos': [-1, 3], 'esperado': -1, 'estado': True, 'obtenido': -1}, {'argumentos': [-1, 4], 'esperado': 1, 'estado': True, 'obtenido': 1}, {'argumentos': [-1, 5], 'esperado': -1, 'estado': True, 'obtenido': -1}, {'argumentos': [0, 1], 'esperado': 0, 'estado': True, 'obtenido': 0}, {'argumentos': [0, 2], 'esperado': 0, 'estado': True, 'obtenido': 0}, {'argumentos': [0, 3], 'esperado': 0, 'estado': True, 'obtenido': 0}, {'argumentos': [0, 4], 'esperado': 0, 'estado': True, 'obtenido': 0}, {'argumentos': [0, 5], 'esperado': 0, 'estado': True, 'obtenido': 0}, {'argumentos': [1, 1], 'esperado': 1, 'estado': True, 'obtenido': 1}, {'argumentos': [1, 2], 'esperado': 1, 'estado': True, 'obtenido': 1}, {'argumentos': [1, 3], 'esperado': 1, 'estado': True, 'obtenido': 1}, {'argumentos': [1, 4], 'esperado': 1, 'estado': True, 'obtenido': 1}, {'argumentos': [1, 5], 'esperado': 1, 'estado': True, 'obtenido': 1}], 'tarea': '1', 'uuid': 'ihbihbhi'}\n"
     ]
    }
   ],
   "source": [
    "calificador.califica_potencia(potencia, UUID, DESEO_CONTRIBUIR_A_MEJORAR)"
   ]
  },
  {
   "cell_type": "code",
   "execution_count": null,
   "metadata": {},
   "outputs": [],
   "source": [
    "def suma_mas_dos(a, b):\n",
    "    \"\"\"\n",
    "    Instrucciones:\n",
    "        Esta función recibe dos parámetros\n",
    "        a y b\n",
    "        efectúa la suma de estos dos, es decir\n",
    "        a + b\n",
    "        a ese resultado se le suma 2 y se\n",
    "        regresa el nuevo resultado\n",
    "\n",
    "    Ejemplo:\n",
    "        Si a = 1\n",
    "        y b = 2\n",
    "        su suma da 3\n",
    "        y 3 + 2 = 5\n",
    "        Regresa 5\n",
    "    \"\"\"\n",
    "    \n",
    "    # Escribe aquí tu código\n",
    "    \n",
    "\n",
    "    # Escribe aquí tu código\n",
    "\n",
    "    return # Escribe aquí tu código"
   ]
  },
  {
   "cell_type": "code",
   "execution_count": null,
   "metadata": {},
   "outputs": [],
   "source": [
    "suma_mas_dos(3, 4)"
   ]
  },
  {
   "cell_type": "code",
   "execution_count": null,
   "metadata": {},
   "outputs": [],
   "source": [
    "calificador.califica_suma_mas_dos(suma_mas_dos, UUID, DESEO_CONTRIBUIR_A_MEJORAR)"
   ]
  },
  {
   "cell_type": "code",
   "execution_count": null,
   "metadata": {},
   "outputs": [],
   "source": [
    "def resta_menos_veinte(a, b):\n",
    "    \"\"\"\n",
    "    Instrucciones:\n",
    "        Esta función recibe dos parámetros\n",
    "        a y b\n",
    "        efectúa la resta de b menos a es decir\n",
    "        b - a\n",
    "        a ese resultado se le resta veinte y se\n",
    "        regresa el nuevo resultado\n",
    "\n",
    "    Ejemplo:\n",
    "        Si a = 10\n",
    "        y b = 2\n",
    "        su suma da -7\n",
    "        y -7 + 20 = -13\n",
    "        Regresa -13\n",
    "    \"\"\"\n",
    "    \n",
    "    # Escribe aquí tu código\n",
    "    \n",
    "\n",
    "    # Escribe aquí tu código\n",
    "    \n",
    "    return # Escribe aquí tu código"
   ]
  },
  {
   "cell_type": "code",
   "execution_count": null,
   "metadata": {},
   "outputs": [],
   "source": [
    "resta_menos_veinte(3, 10)"
   ]
  },
  {
   "cell_type": "code",
   "execution_count": null,
   "metadata": {},
   "outputs": [],
   "source": [
    "calificador.califica_resta_menos_veinte(resta_menos_veinte, UUID, DESEO_CONTRIBUIR_A_MEJORAR)"
   ]
  },
  {
   "cell_type": "code",
   "execution_count": null,
   "metadata": {},
   "outputs": [],
   "source": [
    "def en_mayusculas(palabra):\n",
    "    \"\"\"\n",
    "    Instrucciones:\n",
    "        Esta función recibe una palabra como argumento\n",
    "        llamado 'palabra'\n",
    "        Usar el método upper()\n",
    "        para convertir la palabra que llega como argumento\n",
    "        a mayúsculas\n",
    "        y regresar la palabra en mayúsculas\n",
    "\n",
    "    Ejemplo:\n",
    "        Si palabra = 'hola, mundo'\n",
    "        regresa 'HOLA, MUNDO'\n",
    "    \"\"\"\n",
    "\n",
    "    # Escribe aquí tu código\n",
    "    \n",
    "\n",
    "    # Escribe aquí tu código\n",
    "    \n",
    "    return # Escribe aquí tu código"
   ]
  },
  {
   "cell_type": "code",
   "execution_count": null,
   "metadata": {},
   "outputs": [],
   "source": [
    "en_mayusculas(\"estoy aprendiendo\")"
   ]
  },
  {
   "cell_type": "code",
   "execution_count": null,
   "metadata": {},
   "outputs": [],
   "source": [
    "calificador.califica_en_mayusculas(en_mayusculas, UUID, DESEO_CONTRIBUIR_A_MEJORAR)"
   ]
  },
  {
   "cell_type": "code",
   "execution_count": null,
   "metadata": {},
   "outputs": [],
   "source": [
    "def en_minusculas(palabra):\n",
    "    \"\"\"\n",
    "    Instrucciones:\n",
    "        Esta función recibe una palabra como argumento\n",
    "        llamado 'palabra'\n",
    "        Usar el método lower()\n",
    "        para convertir la palabra que llega como argumento\n",
    "        a minúsculas\n",
    "        y regresar la palabra en minúsculas\n",
    "\n",
    "    Ejemplo:\n",
    "        Si palabra = 'HOLA, MUNDO'\n",
    "        regresa 'hola, mundo'\n",
    "    \"\"\"\n",
    "\n",
    "    # Escribe aquí tu código\n",
    "    \n",
    "\n",
    "    # Escribe aquí tu código\n",
    "    \n",
    "    return # Escribe aquí tu código"
   ]
  },
  {
   "cell_type": "code",
   "execution_count": null,
   "metadata": {},
   "outputs": [],
   "source": [
    "en_minusculas(\"HOLA, MUNDO\")"
   ]
  },
  {
   "cell_type": "code",
   "execution_count": null,
   "metadata": {},
   "outputs": [],
   "source": [
    "calificador.califica_en_minusculas(en_minusculas, UUID, DESEO_CONTRIBUIR_A_MEJORAR)"
   ]
  },
  {
   "cell_type": "code",
   "execution_count": null,
   "metadata": {},
   "outputs": [],
   "source": [
    "def primer_letra(palabra):\n",
    "    \"\"\"\n",
    "    Instrucciones:\n",
    "        Esta función recibe una palabra como argumento\n",
    "        llamado palabra\n",
    "        y devuelve la primer letra de esa palabra\n",
    "\n",
    "    Ejemplo:\n",
    "        Si palabra = \"Curso de Python\"\n",
    "        regresa 'C'\n",
    "    \"\"\"\n",
    "\n",
    "    # Escribe aquí tu código\n",
    "    \n",
    "\n",
    "    # Escribe aquí tu código\n",
    "    \n",
    "    return # Escribe aquí tu código\n"
   ]
  },
  {
   "cell_type": "code",
   "execution_count": null,
   "metadata": {},
   "outputs": [],
   "source": [
    "primer_letra(\"Curso de Python\")"
   ]
  },
  {
   "cell_type": "code",
   "execution_count": null,
   "metadata": {},
   "outputs": [],
   "source": [
    "calificador.califica_primer_letra(primer_letra, UUID, DESEO_CONTRIBUIR_A_MEJORAR)"
   ]
  },
  {
   "cell_type": "code",
   "execution_count": null,
   "metadata": {},
   "outputs": [],
   "source": [
    "def penultima_letra(palabra):\n",
    "    \"\"\"\n",
    "    Instrucciones:\n",
    "        Esta función recibe una palabra como argumento\n",
    "        llamado palabra\n",
    "        y devuelve la primer letra de esa palabra\n",
    "\n",
    "    Ejemplo:\n",
    "        Si palabra = \"Curso de Python\"\n",
    "        regresa 'C'\n",
    "    \"\"\"\n",
    "\n",
    "    # Escribe aquí tu código\n",
    "    \n",
    "\n",
    "    # Escribe aquí tu código\n",
    "    \n",
    "    return # Escribe aquí tu código"
   ]
  },
  {
   "cell_type": "code",
   "execution_count": null,
   "metadata": {},
   "outputs": [],
   "source": [
    "penultima_letra(\"Hola\")"
   ]
  },
  {
   "cell_type": "code",
   "execution_count": null,
   "metadata": {},
   "outputs": [],
   "source": [
    "calificador.califica_penultima_letra(penultima_letra, UUID, DESEO_CONTRIBUIR_A_MEJORAR)"
   ]
  },
  {
   "cell_type": "code",
   "execution_count": null,
   "metadata": {},
   "outputs": [],
   "source": [
    "def mostrar_numeros(a, b, c):\n",
    "    \"\"\"\n",
    "    Instrucciones:\n",
    "        Esta función recibe como parámetros\n",
    "        tres números llamados\n",
    "        a, b y c.\n",
    "\n",
    "        La función debe regresar la cadena de caracteres\n",
    "        a = <a>, b = <b> y c = <c>\n",
    "        reemplazando lo que hay entre <> con el valor\n",
    "        de la variable correspondiente\n",
    "\n",
    "    Ejemplo:\n",
    "        Si a = 2\n",
    "        b = 3\n",
    "        c = 4\n",
    "        La función regresa 'a = 2, b = 3 y c = 4' (Ojo con los espacios)\n",
    "\n",
    "    Recuerda:\n",
    "        Para meter variables dentro de cadenas de caracteres\n",
    "        puedes anteponer la letra f antes de las comillas\n",
    "        y luego usar llaves {} para meter la variable:\n",
    "        Si a = 1\n",
    "        f\"a = {a}\" (nota que le estoy pasando la variable)\n",
    "        devuelve 'a = 1'\n",
    "        O puedes usar la función format()\n",
    "        Si a = 1\n",
    "        \"a = {0}\".format(a) (nota el uso de índices en este caso)\n",
    "        devuelve 'a = 1'\n",
    "    \"\"\"\n",
    "\n",
    "    # Escribe aquí tu código\n",
    "\n",
    "\n",
    "    # Escribe aquí tu código\n",
    "    \n",
    "    return # Escribe aquí tu código"
   ]
  },
  {
   "cell_type": "code",
   "execution_count": null,
   "metadata": {},
   "outputs": [],
   "source": [
    "mostrar_numeros(1,2,3)"
   ]
  },
  {
   "cell_type": "code",
   "execution_count": null,
   "metadata": {},
   "outputs": [],
   "source": [
    "calificador.califica_mostrar_numeros(mostrar_numeros, UUID, DESEO_CONTRIBUIR_A_MEJORAR)"
   ]
  },
  {
   "cell_type": "code",
   "execution_count": null,
   "metadata": {},
   "outputs": [],
   "source": [
    "def concatenar_cadenas(cadena1, cadena2):\n",
    "    \"\"\"\n",
    "    Instrucciones:\n",
    "        Esta función recibe como parámetros\n",
    "        dos cadenas llamadas \n",
    "        cadena1 y cadena2 respectivamente\n",
    "\n",
    "        Deberás crear una variable llamada\n",
    "        cadenas\n",
    "        que será el resultado de contactenar \n",
    "        la cadena1 y la cadena2\n",
    "\n",
    "    Ejemplo:\n",
    "        Si cadena1 = \"hola, \"\n",
    "        y cadena2 = \"mundo\"\n",
    "        cadenas tendra el valor de 'hola, mundo'\n",
    "\n",
    "    Recuerda:\n",
    "        Para concatenar cadenas se usa el operador +\n",
    "\n",
    "    Observación:\n",
    "        Aunque este ejercicio se puede hacer con \n",
    "        una solución parecida al ejercicio anterior\n",
    "        usa el operador +\n",
    "    \"\"\"\n",
    "\n",
    "    # Escribe aquí tu código\n",
    "\n",
    "\n",
    "    # Escribe aquí tu código\n",
    "\n",
    "    return # Escribe aquí tu código"
   ]
  },
  {
   "cell_type": "code",
   "execution_count": null,
   "metadata": {},
   "outputs": [],
   "source": [
    "concatenar_cadenas(\"Hola, \", \"mundo\")"
   ]
  },
  {
   "cell_type": "code",
   "execution_count": null,
   "metadata": {},
   "outputs": [],
   "source": [
    "calificador.califica_concatenar_cadenas(concatenar_cadenas, UUID, DESEO_CONTRIBUIR_A_MEJORAR)"
   ]
  },
  {
   "cell_type": "code",
   "execution_count": null,
   "metadata": {},
   "outputs": [],
   "source": []
  }
 ],
 "metadata": {
  "interpreter": {
   "hash": "52e906d48b26901c718c7cd569792dc03a2dc8ecec1e49796e8e9092c38d0e33"
  },
  "kernelspec": {
   "display_name": "Python 3.9.7 64-bit ('jupyterservices': conda)",
   "language": "python",
   "name": "python3"
  },
  "language_info": {
   "codemirror_mode": {
    "name": "ipython",
    "version": 3
   },
   "file_extension": ".py",
   "mimetype": "text/x-python",
   "name": "python",
   "nbconvert_exporter": "python",
   "pygments_lexer": "ipython3",
   "version": "3.9.7"
  },
  "orig_nbformat": 4
 },
 "nbformat": 4,
 "nbformat_minor": 2
}
